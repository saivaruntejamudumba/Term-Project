{
  "nbformat": 4,
  "nbformat_minor": 0,
  "metadata": {
    "colab": {
      "name": "Model_Sequential_Analysis.ipynb",
      "version": "0.3.2",
      "provenance": [],
      "collapsed_sections": [],
      "toc_visible": true
    },
    "kernelspec": {
      "name": "python3",
      "display_name": "Python 3"
    },
    "accelerator": "TPU"
  },
  "cells": [
    {
      "metadata": {
        "id": "4mzigaSWqFH4",
        "colab_type": "text"
      },
      "cell_type": "markdown",
      "source": [
        "# Sequential Model Analysis"
      ]
    },
    {
      "metadata": {
        "id": "RxD9kihmqNXy",
        "colab_type": "code",
        "colab": {}
      },
      "cell_type": "code",
      "source": [
        "import pickle"
      ],
      "execution_count": 0,
      "outputs": []
    },
    {
      "metadata": {
        "id": "m8drCqRUqZRq",
        "colab_type": "code",
        "colab": {}
      },
      "cell_type": "code",
      "source": [
        "with open('Waze-Data-Sequences-with-Radius.pickle', 'rb') as f:\n",
        "  event_list, df = pickle.load(f)"
      ],
      "execution_count": 0,
      "outputs": []
    },
    {
      "metadata": {
        "id": "oTOmJbQdqr9H",
        "colab_type": "code",
        "outputId": "b4297e45-3ca9-453f-f2af-adf74a8ee048",
        "colab": {
          "base_uri": "https://localhost:8080/",
          "height": 561
        }
      },
      "cell_type": "code",
      "source": [
        "event_list"
      ],
      "execution_count": 0,
      "outputs": [
        {
          "output_type": "execute_result",
          "data": {
            "text/plain": [
              "{1: 'minor accident',\n",
              " 2: 'other',\n",
              " 3: 'road closed',\n",
              " 4: 'stopped car on the shoulder',\n",
              " 5: 'traffic jam',\n",
              " 6: 'major event',\n",
              " 7: 'pothole',\n",
              " 8: 'missing sign on the shoulder',\n",
              " 9: 'stopped car',\n",
              " 10: 'hazard on the shoulder',\n",
              " 11: 'accident',\n",
              " 12: 'flooding',\n",
              " 13: 'road construction',\n",
              " 14: 'stopped traffic',\n",
              " 15: 'object on roadway',\n",
              " 16: 'animal struck',\n",
              " 17: 'heavy traffic',\n",
              " 18: 'small traffic jam',\n",
              " 19: 'slowdown',\n",
              " 20: 'animal on the shoulder',\n",
              " 21: 'large traffic jam',\n",
              " 22: 'traffic heavier than normal',\n",
              " 23: 'malfunctioning traffic light',\n",
              " 24: 'medium traffic jam',\n",
              " 25: 'hazard on road',\n",
              " 26: 'weather hazard',\n",
              " 27: 'road closed due to construction',\n",
              " 28: 'hail',\n",
              " 29: 'ice on roadway',\n",
              " 30: 'fog',\n",
              " 31: 'huge traffic jam',\n",
              " 32: 'road closed due to hazard'}"
            ]
          },
          "metadata": {
            "tags": []
          },
          "execution_count": 3
        }
      ]
    },
    {
      "metadata": {
        "id": "E0josxWEqtgW",
        "colab_type": "code",
        "outputId": "bdf779ac-955d-41c8-9890-2325da3d0b1f",
        "colab": {
          "base_uri": "https://localhost:8080/",
          "height": 204
        }
      },
      "cell_type": "code",
      "source": [
        "df.head()"
      ],
      "execution_count": 0,
      "outputs": [
        {
          "output_type": "execute_result",
          "data": {
            "text/html": [
              "<div>\n",
              "<style scoped>\n",
              "    .dataframe tbody tr th:only-of-type {\n",
              "        vertical-align: middle;\n",
              "    }\n",
              "\n",
              "    .dataframe tbody tr th {\n",
              "        vertical-align: top;\n",
              "    }\n",
              "\n",
              "    .dataframe thead th {\n",
              "        text-align: right;\n",
              "    }\n",
              "</style>\n",
              "<table border=\"1\" class=\"dataframe\">\n",
              "  <thead>\n",
              "    <tr style=\"text-align: right;\">\n",
              "      <th></th>\n",
              "      <th>label</th>\n",
              "      <th>events</th>\n",
              "    </tr>\n",
              "  </thead>\n",
              "  <tbody>\n",
              "    <tr>\n",
              "      <th>0</th>\n",
              "      <td>1</td>\n",
              "      <td>[stopped car on the shoulder, stopped car on t...</td>\n",
              "    </tr>\n",
              "    <tr>\n",
              "      <th>1</th>\n",
              "      <td>1</td>\n",
              "      <td>[traffic jam, traffic jam, traffic jam, medium...</td>\n",
              "    </tr>\n",
              "    <tr>\n",
              "      <th>2</th>\n",
              "      <td>1</td>\n",
              "      <td>[stopped car on the shoulder]</td>\n",
              "    </tr>\n",
              "    <tr>\n",
              "      <th>3</th>\n",
              "      <td>1</td>\n",
              "      <td>[slowdown, stopped car on the shoulder, major ...</td>\n",
              "    </tr>\n",
              "    <tr>\n",
              "      <th>4</th>\n",
              "      <td>1</td>\n",
              "      <td>[stopped car on the shoulder, stopped car on t...</td>\n",
              "    </tr>\n",
              "  </tbody>\n",
              "</table>\n",
              "</div>"
            ],
            "text/plain": [
              "   label                                             events\n",
              "0      1  [stopped car on the shoulder, stopped car on t...\n",
              "1      1  [traffic jam, traffic jam, traffic jam, medium...\n",
              "2      1                      [stopped car on the shoulder]\n",
              "3      1  [slowdown, stopped car on the shoulder, major ...\n",
              "4      1  [stopped car on the shoulder, stopped car on t..."
            ]
          },
          "metadata": {
            "tags": []
          },
          "execution_count": 4
        }
      ]
    },
    {
      "metadata": {
        "id": "1EUZTLuMqu_X",
        "colab_type": "code",
        "outputId": "38401dc9-c956-4d38-bded-f8bc5b953734",
        "colab": {
          "base_uri": "https://localhost:8080/",
          "height": 204
        }
      },
      "cell_type": "code",
      "source": [
        "df.tail()"
      ],
      "execution_count": 0,
      "outputs": [
        {
          "output_type": "execute_result",
          "data": {
            "text/html": [
              "<div>\n",
              "<style scoped>\n",
              "    .dataframe tbody tr th:only-of-type {\n",
              "        vertical-align: middle;\n",
              "    }\n",
              "\n",
              "    .dataframe tbody tr th {\n",
              "        vertical-align: top;\n",
              "    }\n",
              "\n",
              "    .dataframe thead th {\n",
              "        text-align: right;\n",
              "    }\n",
              "</style>\n",
              "<table border=\"1\" class=\"dataframe\">\n",
              "  <thead>\n",
              "    <tr style=\"text-align: right;\">\n",
              "      <th></th>\n",
              "      <th>label</th>\n",
              "      <th>events</th>\n",
              "    </tr>\n",
              "  </thead>\n",
              "  <tbody>\n",
              "    <tr>\n",
              "      <th>66681</th>\n",
              "      <td>0</td>\n",
              "      <td>[traffic jam, traffic jam, traffic jam, traffi...</td>\n",
              "    </tr>\n",
              "    <tr>\n",
              "      <th>66682</th>\n",
              "      <td>0</td>\n",
              "      <td>[traffic jam]</td>\n",
              "    </tr>\n",
              "    <tr>\n",
              "      <th>66683</th>\n",
              "      <td>0</td>\n",
              "      <td>[stopped car on the shoulder]</td>\n",
              "    </tr>\n",
              "    <tr>\n",
              "      <th>66684</th>\n",
              "      <td>0</td>\n",
              "      <td>[road closed due to construction, traffic jam,...</td>\n",
              "    </tr>\n",
              "    <tr>\n",
              "      <th>66685</th>\n",
              "      <td>0</td>\n",
              "      <td>[traffic jam, traffic jam]</td>\n",
              "    </tr>\n",
              "  </tbody>\n",
              "</table>\n",
              "</div>"
            ],
            "text/plain": [
              "       label                                             events\n",
              "66681      0  [traffic jam, traffic jam, traffic jam, traffi...\n",
              "66682      0                                      [traffic jam]\n",
              "66683      0                      [stopped car on the shoulder]\n",
              "66684      0  [road closed due to construction, traffic jam,...\n",
              "66685      0                         [traffic jam, traffic jam]"
            ]
          },
          "metadata": {
            "tags": []
          },
          "execution_count": 5
        }
      ]
    },
    {
      "metadata": {
        "id": "n_SPtuPCrwef",
        "colab_type": "code",
        "outputId": "3a991a75-9a2b-4666-a267-398c7a707f94",
        "colab": {
          "base_uri": "https://localhost:8080/",
          "height": 34
        }
      },
      "cell_type": "code",
      "source": [
        "len(df)"
      ],
      "execution_count": 0,
      "outputs": [
        {
          "output_type": "execute_result",
          "data": {
            "text/plain": [
              "66686"
            ]
          },
          "metadata": {
            "tags": []
          },
          "execution_count": 6
        }
      ]
    },
    {
      "metadata": {
        "id": "Z2N_kuM7qwWt",
        "colab_type": "code",
        "outputId": "149d4472-809e-426e-94d4-fadf6bbd2d7d",
        "colab": {
          "base_uri": "https://localhost:8080/",
          "height": 68
        }
      },
      "cell_type": "code",
      "source": [
        "df['label'].value_counts()"
      ],
      "execution_count": 0,
      "outputs": [
        {
          "output_type": "execute_result",
          "data": {
            "text/plain": [
              "0    33758\n",
              "1    32928\n",
              "Name: label, dtype: int64"
            ]
          },
          "metadata": {
            "tags": []
          },
          "execution_count": 7
        }
      ]
    },
    {
      "metadata": {
        "id": "1HQjwv5_rSPY",
        "colab_type": "code",
        "outputId": "6ad39a88-f0e3-44b3-8bbb-ee6e2927ad73",
        "colab": {
          "base_uri": "https://localhost:8080/",
          "height": 282
        }
      },
      "cell_type": "code",
      "source": [
        "df['label'].value_counts().plot(kind='bar')"
      ],
      "execution_count": 0,
      "outputs": [
        {
          "output_type": "execute_result",
          "data": {
            "text/plain": [
              "<matplotlib.axes._subplots.AxesSubplot at 0x7f5b13c91438>"
            ]
          },
          "metadata": {
            "tags": []
          },
          "execution_count": 8
        },
        {
          "output_type": "display_data",
          "data": {
            "image/png": "[encoded data removed]",
            "text/plain": [
              "<Figure size 432x288 with 1 Axes>"
            ]
          },
          "metadata": {
            "tags": []
          }
        }
      ]
    },
    {
      "metadata": {
        "id": "H8xBCKDtbvue",
        "colab_type": "text"
      },
      "cell_type": "markdown",
      "source": [
        "### We see that the records for 0 and 1 are unequal and we need to normalize the dataset to avoid a dummy model"
      ]
    },
    {
      "metadata": {
        "id": "f3m-ftyArX6n",
        "colab_type": "code",
        "colab": {}
      },
      "cell_type": "code",
      "source": [
        "df0=df[df['label'] == 0]"
      ],
      "execution_count": 0,
      "outputs": []
    },
    {
      "metadata": {
        "id": "4aQULZ9UrhD3",
        "colab_type": "code",
        "colab": {}
      },
      "cell_type": "code",
      "source": [
        "df0.reset_index(drop=True, inplace=True)"
      ],
      "execution_count": 0,
      "outputs": []
    },
    {
      "metadata": {
        "id": "s6M46Ei1rhsp",
        "colab_type": "code",
        "outputId": "a3ce2065-d619-4116-a0d4-a06d8581b973",
        "colab": {
          "base_uri": "https://localhost:8080/",
          "height": 34
        }
      },
      "cell_type": "code",
      "source": [
        "len(df0)"
      ],
      "execution_count": 0,
      "outputs": [
        {
          "output_type": "execute_result",
          "data": {
            "text/plain": [
              "33758"
            ]
          },
          "metadata": {
            "tags": []
          },
          "execution_count": 11
        }
      ]
    },
    {
      "metadata": {
        "id": "aFixpv8ysqVg",
        "colab_type": "code",
        "outputId": "0b057c2c-1a25-4fb3-8291-a82e190d4e08",
        "colab": {
          "base_uri": "https://localhost:8080/",
          "height": 204
        }
      },
      "cell_type": "code",
      "source": [
        "df0.head()"
      ],
      "execution_count": 0,
      "outputs": [
        {
          "output_type": "execute_result",
          "data": {
            "text/html": [
              "<div>\n",
              "<style scoped>\n",
              "    .dataframe tbody tr th:only-of-type {\n",
              "        vertical-align: middle;\n",
              "    }\n",
              "\n",
              "    .dataframe tbody tr th {\n",
              "        vertical-align: top;\n",
              "    }\n",
              "\n",
              "    .dataframe thead th {\n",
              "        text-align: right;\n",
              "    }\n",
              "</style>\n",
              "<table border=\"1\" class=\"dataframe\">\n",
              "  <thead>\n",
              "    <tr style=\"text-align: right;\">\n",
              "      <th></th>\n",
              "      <th>label</th>\n",
              "      <th>events</th>\n",
              "    </tr>\n",
              "  </thead>\n",
              "  <tbody>\n",
              "    <tr>\n",
              "      <th>0</th>\n",
              "      <td>0</td>\n",
              "      <td>[traffic jam, traffic jam]</td>\n",
              "    </tr>\n",
              "    <tr>\n",
              "      <th>1</th>\n",
              "      <td>0</td>\n",
              "      <td>[stopped car on the shoulder, stopped car on t...</td>\n",
              "    </tr>\n",
              "    <tr>\n",
              "      <th>2</th>\n",
              "      <td>0</td>\n",
              "      <td>[heavy traffic]</td>\n",
              "    </tr>\n",
              "    <tr>\n",
              "      <th>3</th>\n",
              "      <td>0</td>\n",
              "      <td>[stopped car on the shoulder]</td>\n",
              "    </tr>\n",
              "    <tr>\n",
              "      <th>4</th>\n",
              "      <td>0</td>\n",
              "      <td>[traffic jam]</td>\n",
              "    </tr>\n",
              "  </tbody>\n",
              "</table>\n",
              "</div>"
            ],
            "text/plain": [
              "   label                                             events\n",
              "0      0                         [traffic jam, traffic jam]\n",
              "1      0  [stopped car on the shoulder, stopped car on t...\n",
              "2      0                                    [heavy traffic]\n",
              "3      0                      [stopped car on the shoulder]\n",
              "4      0                                      [traffic jam]"
            ]
          },
          "metadata": {
            "tags": []
          },
          "execution_count": 12
        }
      ]
    },
    {
      "metadata": {
        "id": "L4_9t5k-tGzk",
        "colab_type": "code",
        "colab": {}
      },
      "cell_type": "code",
      "source": [
        "df1=df[df['label'] == 1]"
      ],
      "execution_count": 0,
      "outputs": []
    },
    {
      "metadata": {
        "id": "VN9oH2C9tOmK",
        "colab_type": "code",
        "colab": {}
      },
      "cell_type": "code",
      "source": [
        "df1.reset_index(drop=True, inplace=True)"
      ],
      "execution_count": 0,
      "outputs": []
    },
    {
      "metadata": {
        "id": "BZmT9dMutOrL",
        "colab_type": "code",
        "outputId": "570213ed-307e-4ed8-f82f-7defcc573a61",
        "colab": {
          "base_uri": "https://localhost:8080/",
          "height": 34
        }
      },
      "cell_type": "code",
      "source": [
        "len(df1)"
      ],
      "execution_count": 0,
      "outputs": [
        {
          "output_type": "execute_result",
          "data": {
            "text/plain": [
              "32928"
            ]
          },
          "metadata": {
            "tags": []
          },
          "execution_count": 15
        }
      ]
    },
    {
      "metadata": {
        "id": "F9aAFRkutOu5",
        "colab_type": "code",
        "colab": {}
      },
      "cell_type": "code",
      "source": [
        "sampdf0=df0.sample(n=len(df1), random_state=12)"
      ],
      "execution_count": 0,
      "outputs": []
    },
    {
      "metadata": {
        "id": "yUmxdw2HtOpg",
        "colab_type": "code",
        "outputId": "6d5a6b04-64ef-447b-ead3-43f6bb750a44",
        "colab": {
          "base_uri": "https://localhost:8080/",
          "height": 204
        }
      },
      "cell_type": "code",
      "source": [
        "sampdf0.head()"
      ],
      "execution_count": 0,
      "outputs": [
        {
          "output_type": "execute_result",
          "data": {
            "text/html": [
              "<div>\n",
              "<style scoped>\n",
              "    .dataframe tbody tr th:only-of-type {\n",
              "        vertical-align: middle;\n",
              "    }\n",
              "\n",
              "    .dataframe tbody tr th {\n",
              "        vertical-align: top;\n",
              "    }\n",
              "\n",
              "    .dataframe thead th {\n",
              "        text-align: right;\n",
              "    }\n",
              "</style>\n",
              "<table border=\"1\" class=\"dataframe\">\n",
              "  <thead>\n",
              "    <tr style=\"text-align: right;\">\n",
              "      <th></th>\n",
              "      <th>label</th>\n",
              "      <th>events</th>\n",
              "    </tr>\n",
              "  </thead>\n",
              "  <tbody>\n",
              "    <tr>\n",
              "      <th>19926</th>\n",
              "      <td>0</td>\n",
              "      <td>[traffic jam, traffic jam, malfunctioning traf...</td>\n",
              "    </tr>\n",
              "    <tr>\n",
              "      <th>30730</th>\n",
              "      <td>0</td>\n",
              "      <td>[stopped traffic, heavy traffic, heavy traffic...</td>\n",
              "    </tr>\n",
              "    <tr>\n",
              "      <th>13265</th>\n",
              "      <td>0</td>\n",
              "      <td>[object on roadway, traffic heavier than norma...</td>\n",
              "    </tr>\n",
              "    <tr>\n",
              "      <th>20329</th>\n",
              "      <td>0</td>\n",
              "      <td>[traffic jam, traffic jam, traffic jam, traffi...</td>\n",
              "    </tr>\n",
              "    <tr>\n",
              "      <th>1228</th>\n",
              "      <td>0</td>\n",
              "      <td>[stopped car on the shoulder, stopped traffic,...</td>\n",
              "    </tr>\n",
              "  </tbody>\n",
              "</table>\n",
              "</div>"
            ],
            "text/plain": [
              "       label                                             events\n",
              "19926      0  [traffic jam, traffic jam, malfunctioning traf...\n",
              "30730      0  [stopped traffic, heavy traffic, heavy traffic...\n",
              "13265      0  [object on roadway, traffic heavier than norma...\n",
              "20329      0  [traffic jam, traffic jam, traffic jam, traffi...\n",
              "1228       0  [stopped car on the shoulder, stopped traffic,..."
            ]
          },
          "metadata": {
            "tags": []
          },
          "execution_count": 17
        }
      ]
    },
    {
      "metadata": {
        "id": "6vXqxowttOj3",
        "colab_type": "code",
        "outputId": "d510fe12-1997-4d71-d99f-09411dd4a171",
        "colab": {
          "base_uri": "https://localhost:8080/",
          "height": 204
        }
      },
      "cell_type": "code",
      "source": [
        "sampdf0.reset_index(inplace=True, drop=True)\n",
        "sampdf0.head()"
      ],
      "execution_count": 0,
      "outputs": [
        {
          "output_type": "execute_result",
          "data": {
            "text/html": [
              "<div>\n",
              "<style scoped>\n",
              "    .dataframe tbody tr th:only-of-type {\n",
              "        vertical-align: middle;\n",
              "    }\n",
              "\n",
              "    .dataframe tbody tr th {\n",
              "        vertical-align: top;\n",
              "    }\n",
              "\n",
              "    .dataframe thead th {\n",
              "        text-align: right;\n",
              "    }\n",
              "</style>\n",
              "<table border=\"1\" class=\"dataframe\">\n",
              "  <thead>\n",
              "    <tr style=\"text-align: right;\">\n",
              "      <th></th>\n",
              "      <th>label</th>\n",
              "      <th>events</th>\n",
              "    </tr>\n",
              "  </thead>\n",
              "  <tbody>\n",
              "    <tr>\n",
              "      <th>0</th>\n",
              "      <td>0</td>\n",
              "      <td>[traffic jam, traffic jam, malfunctioning traf...</td>\n",
              "    </tr>\n",
              "    <tr>\n",
              "      <th>1</th>\n",
              "      <td>0</td>\n",
              "      <td>[stopped traffic, heavy traffic, heavy traffic...</td>\n",
              "    </tr>\n",
              "    <tr>\n",
              "      <th>2</th>\n",
              "      <td>0</td>\n",
              "      <td>[object on roadway, traffic heavier than norma...</td>\n",
              "    </tr>\n",
              "    <tr>\n",
              "      <th>3</th>\n",
              "      <td>0</td>\n",
              "      <td>[traffic jam, traffic jam, traffic jam, traffi...</td>\n",
              "    </tr>\n",
              "    <tr>\n",
              "      <th>4</th>\n",
              "      <td>0</td>\n",
              "      <td>[stopped car on the shoulder, stopped traffic,...</td>\n",
              "    </tr>\n",
              "  </tbody>\n",
              "</table>\n",
              "</div>"
            ],
            "text/plain": [
              "   label                                             events\n",
              "0      0  [traffic jam, traffic jam, malfunctioning traf...\n",
              "1      0  [stopped traffic, heavy traffic, heavy traffic...\n",
              "2      0  [object on roadway, traffic heavier than norma...\n",
              "3      0  [traffic jam, traffic jam, traffic jam, traffi...\n",
              "4      0  [stopped car on the shoulder, stopped traffic,..."
            ]
          },
          "metadata": {
            "tags": []
          },
          "execution_count": 18
        }
      ]
    },
    {
      "metadata": {
        "id": "LssM1htYurZd",
        "colab_type": "code",
        "colab": {}
      },
      "cell_type": "code",
      "source": [
        "df=df1.append(sampdf0, ignore_index=True)"
      ],
      "execution_count": 0,
      "outputs": []
    },
    {
      "metadata": {
        "id": "LygvlupbvLkg",
        "colab_type": "code",
        "outputId": "d4c2bd25-b1cd-4262-9be0-63ec7bcf9e1e",
        "colab": {
          "base_uri": "https://localhost:8080/",
          "height": 204
        }
      },
      "cell_type": "code",
      "source": [
        "df.head()"
      ],
      "execution_count": 0,
      "outputs": [
        {
          "output_type": "execute_result",
          "data": {
            "text/html": [
              "<div>\n",
              "<style scoped>\n",
              "    .dataframe tbody tr th:only-of-type {\n",
              "        vertical-align: middle;\n",
              "    }\n",
              "\n",
              "    .dataframe tbody tr th {\n",
              "        vertical-align: top;\n",
              "    }\n",
              "\n",
              "    .dataframe thead th {\n",
              "        text-align: right;\n",
              "    }\n",
              "</style>\n",
              "<table border=\"1\" class=\"dataframe\">\n",
              "  <thead>\n",
              "    <tr style=\"text-align: right;\">\n",
              "      <th></th>\n",
              "      <th>label</th>\n",
              "      <th>events</th>\n",
              "    </tr>\n",
              "  </thead>\n",
              "  <tbody>\n",
              "    <tr>\n",
              "      <th>0</th>\n",
              "      <td>1</td>\n",
              "      <td>[stopped car on the shoulder, stopped car on t...</td>\n",
              "    </tr>\n",
              "    <tr>\n",
              "      <th>1</th>\n",
              "      <td>1</td>\n",
              "      <td>[traffic jam, traffic jam, traffic jam, medium...</td>\n",
              "    </tr>\n",
              "    <tr>\n",
              "      <th>2</th>\n",
              "      <td>1</td>\n",
              "      <td>[stopped car on the shoulder]</td>\n",
              "    </tr>\n",
              "    <tr>\n",
              "      <th>3</th>\n",
              "      <td>1</td>\n",
              "      <td>[slowdown, stopped car on the shoulder, major ...</td>\n",
              "    </tr>\n",
              "    <tr>\n",
              "      <th>4</th>\n",
              "      <td>1</td>\n",
              "      <td>[stopped car on the shoulder, stopped car on t...</td>\n",
              "    </tr>\n",
              "  </tbody>\n",
              "</table>\n",
              "</div>"
            ],
            "text/plain": [
              "   label                                             events\n",
              "0      1  [stopped car on the shoulder, stopped car on t...\n",
              "1      1  [traffic jam, traffic jam, traffic jam, medium...\n",
              "2      1                      [stopped car on the shoulder]\n",
              "3      1  [slowdown, stopped car on the shoulder, major ...\n",
              "4      1  [stopped car on the shoulder, stopped car on t..."
            ]
          },
          "metadata": {
            "tags": []
          },
          "execution_count": 20
        }
      ]
    },
    {
      "metadata": {
        "id": "-Pcmlf6YvNbO",
        "colab_type": "code",
        "outputId": "5982f289-f5b5-45f7-a23d-b6e9e9c3569b",
        "colab": {
          "base_uri": "https://localhost:8080/",
          "height": 204
        }
      },
      "cell_type": "code",
      "source": [
        "df.tail()"
      ],
      "execution_count": 0,
      "outputs": [
        {
          "output_type": "execute_result",
          "data": {
            "text/html": [
              "<div>\n",
              "<style scoped>\n",
              "    .dataframe tbody tr th:only-of-type {\n",
              "        vertical-align: middle;\n",
              "    }\n",
              "\n",
              "    .dataframe tbody tr th {\n",
              "        vertical-align: top;\n",
              "    }\n",
              "\n",
              "    .dataframe thead th {\n",
              "        text-align: right;\n",
              "    }\n",
              "</style>\n",
              "<table border=\"1\" class=\"dataframe\">\n",
              "  <thead>\n",
              "    <tr style=\"text-align: right;\">\n",
              "      <th></th>\n",
              "      <th>label</th>\n",
              "      <th>events</th>\n",
              "    </tr>\n",
              "  </thead>\n",
              "  <tbody>\n",
              "    <tr>\n",
              "      <th>65851</th>\n",
              "      <td>0</td>\n",
              "      <td>[heavy traffic, heavy traffic, heavy traffic, ...</td>\n",
              "    </tr>\n",
              "    <tr>\n",
              "      <th>65852</th>\n",
              "      <td>0</td>\n",
              "      <td>[traffic jam]</td>\n",
              "    </tr>\n",
              "    <tr>\n",
              "      <th>65853</th>\n",
              "      <td>0</td>\n",
              "      <td>[heavy traffic, traffic jam, traffic jam, traf...</td>\n",
              "    </tr>\n",
              "    <tr>\n",
              "      <th>65854</th>\n",
              "      <td>0</td>\n",
              "      <td>[traffic jam]</td>\n",
              "    </tr>\n",
              "    <tr>\n",
              "      <th>65855</th>\n",
              "      <td>0</td>\n",
              "      <td>[traffic jam, traffic jam]</td>\n",
              "    </tr>\n",
              "  </tbody>\n",
              "</table>\n",
              "</div>"
            ],
            "text/plain": [
              "       label                                             events\n",
              "65851      0  [heavy traffic, heavy traffic, heavy traffic, ...\n",
              "65852      0                                      [traffic jam]\n",
              "65853      0  [heavy traffic, traffic jam, traffic jam, traf...\n",
              "65854      0                                      [traffic jam]\n",
              "65855      0                         [traffic jam, traffic jam]"
            ]
          },
          "metadata": {
            "tags": []
          },
          "execution_count": 21
        }
      ]
    },
    {
      "metadata": {
        "id": "TpqNczo1vO_4",
        "colab_type": "code",
        "outputId": "e69fd14d-8af8-48a6-ac4c-aad349a8e134",
        "colab": {
          "base_uri": "https://localhost:8080/",
          "height": 282
        }
      },
      "cell_type": "code",
      "source": [
        "df['label'].value_counts().plot(kind='bar')"
      ],
      "execution_count": 0,
      "outputs": [
        {
          "output_type": "execute_result",
          "data": {
            "text/plain": [
              "<matplotlib.axes._subplots.AxesSubplot at 0x7f5b13c78a20>"
            ]
          },
          "metadata": {
            "tags": []
          },
          "execution_count": 22
        },
        {
          "output_type": "display_data",
          "data": {
            "image/png": "[encoded data removed]",
            "text/plain": [
              "<Figure size 432x288 with 1 Axes>"
            ]
          },
          "metadata": {
            "tags": []
          }
        }
      ]
    },
    {
      "metadata": {
        "id": "CcjUZ3hpvZJK",
        "colab_type": "code",
        "outputId": "c6ac6a43-d0ac-4a2e-e16c-eb6438e9d6ed",
        "colab": {
          "base_uri": "https://localhost:8080/",
          "height": 68
        }
      },
      "cell_type": "code",
      "source": [
        "df['label'].value_counts()"
      ],
      "execution_count": 0,
      "outputs": [
        {
          "output_type": "execute_result",
          "data": {
            "text/plain": [
              "1    32928\n",
              "0    32928\n",
              "Name: label, dtype: int64"
            ]
          },
          "metadata": {
            "tags": []
          },
          "execution_count": 23
        }
      ]
    },
    {
      "metadata": {
        "id": "mmxWv7OjcAhW",
        "colab_type": "text"
      },
      "cell_type": "markdown",
      "source": [
        "### So after normalising the dataset, we see that we have equal records for 0 and 1"
      ]
    },
    {
      "metadata": {
        "id": "E9BLlVCpvdH0",
        "colab_type": "code",
        "outputId": "be1c4b25-66ca-4843-a5d8-d9b7dd696ac3",
        "colab": {
          "base_uri": "https://localhost:8080/",
          "height": 34
        }
      },
      "cell_type": "code",
      "source": [
        "max_len_event_id = df.events.apply(len).idxmax()\n",
        "max_len_event_id"
      ],
      "execution_count": 0,
      "outputs": [
        {
          "output_type": "execute_result",
          "data": {
            "text/plain": [
              "46357"
            ]
          },
          "metadata": {
            "tags": []
          },
          "execution_count": 24
        }
      ]
    },
    {
      "metadata": {
        "id": "Pwhr-ryNxL7k",
        "colab_type": "code",
        "outputId": "34bc4eba-5136-4f79-da17-47bc03101019",
        "colab": {
          "base_uri": "https://localhost:8080/",
          "height": 34
        }
      },
      "cell_type": "code",
      "source": [
        "df.events.apply(len).idxmax()"
      ],
      "execution_count": 0,
      "outputs": [
        {
          "output_type": "execute_result",
          "data": {
            "text/plain": [
              "46357"
            ]
          },
          "metadata": {
            "tags": []
          },
          "execution_count": 25
        }
      ]
    },
    {
      "metadata": {
        "id": "-UoL0G-3vpZa",
        "colab_type": "code",
        "outputId": "80788b7d-5b93-4b41-b5a7-3aa81f40c4c0",
        "colab": {
          "base_uri": "https://localhost:8080/",
          "height": 1836
        }
      },
      "cell_type": "code",
      "source": [
        "max_len_event = df.iloc[max_len_event_id]\n",
        "max_len_event.events"
      ],
      "execution_count": 0,
      "outputs": [
        {
          "output_type": "execute_result",
          "data": {
            "text/plain": [
              "['heavy traffic',\n",
              " 'heavy traffic',\n",
              " 'heavy traffic',\n",
              " 'heavy traffic',\n",
              " 'stopped car on the shoulder',\n",
              " 'stopped car on the shoulder',\n",
              " 'heavy traffic',\n",
              " 'heavy traffic',\n",
              " 'traffic jam',\n",
              " 'traffic jam',\n",
              " 'stopped traffic',\n",
              " 'stopped traffic',\n",
              " 'traffic jam',\n",
              " 'traffic jam',\n",
              " 'traffic jam',\n",
              " 'traffic jam',\n",
              " 'heavy traffic',\n",
              " 'heavy traffic',\n",
              " 'stopped car on the shoulder',\n",
              " 'stopped car on the shoulder',\n",
              " 'traffic jam',\n",
              " 'traffic jam',\n",
              " 'heavy traffic',\n",
              " 'heavy traffic',\n",
              " 'heavy traffic',\n",
              " 'heavy traffic',\n",
              " 'stopped traffic',\n",
              " 'stopped traffic',\n",
              " 'heavy traffic',\n",
              " 'heavy traffic',\n",
              " 'pothole',\n",
              " 'pothole',\n",
              " 'stopped traffic',\n",
              " 'stopped traffic',\n",
              " 'stopped traffic',\n",
              " 'stopped traffic',\n",
              " 'traffic jam',\n",
              " 'traffic jam',\n",
              " 'heavy traffic',\n",
              " 'heavy traffic',\n",
              " 'traffic jam',\n",
              " 'traffic jam',\n",
              " 'stopped traffic',\n",
              " 'stopped traffic',\n",
              " 'heavy traffic',\n",
              " 'heavy traffic',\n",
              " 'heavy traffic',\n",
              " 'heavy traffic',\n",
              " 'heavy traffic',\n",
              " 'heavy traffic',\n",
              " 'stopped car on the shoulder',\n",
              " 'stopped car on the shoulder',\n",
              " 'stopped car on the shoulder',\n",
              " 'stopped car on the shoulder',\n",
              " 'traffic heavier than normal',\n",
              " 'traffic heavier than normal',\n",
              " 'traffic jam',\n",
              " 'traffic jam',\n",
              " 'heavy traffic',\n",
              " 'heavy traffic',\n",
              " 'heavy traffic',\n",
              " 'heavy traffic',\n",
              " 'heavy traffic',\n",
              " 'heavy traffic',\n",
              " 'traffic heavier than normal',\n",
              " 'traffic heavier than normal',\n",
              " 'heavy traffic',\n",
              " 'heavy traffic',\n",
              " 'heavy traffic',\n",
              " 'heavy traffic',\n",
              " 'stopped traffic',\n",
              " 'stopped traffic',\n",
              " 'heavy traffic',\n",
              " 'heavy traffic',\n",
              " 'heavy traffic',\n",
              " 'heavy traffic',\n",
              " 'stopped traffic',\n",
              " 'stopped traffic',\n",
              " 'heavy traffic',\n",
              " 'heavy traffic',\n",
              " 'heavy traffic',\n",
              " 'heavy traffic',\n",
              " 'heavy traffic',\n",
              " 'heavy traffic',\n",
              " 'heavy traffic',\n",
              " 'heavy traffic',\n",
              " 'slowdown',\n",
              " 'slowdown',\n",
              " 'heavy traffic',\n",
              " 'heavy traffic',\n",
              " 'heavy traffic',\n",
              " 'heavy traffic',\n",
              " 'stopped traffic',\n",
              " 'stopped traffic',\n",
              " 'stopped traffic',\n",
              " 'stopped traffic',\n",
              " 'traffic heavier than normal',\n",
              " 'traffic heavier than normal',\n",
              " 'heavy traffic',\n",
              " 'heavy traffic',\n",
              " 'stopped traffic',\n",
              " 'stopped traffic',\n",
              " 'heavy traffic',\n",
              " 'heavy traffic',\n",
              " 'heavy traffic',\n",
              " 'heavy traffic',\n",
              " 'heavy traffic']"
            ]
          },
          "metadata": {
            "tags": []
          },
          "execution_count": 26
        }
      ]
    },
    {
      "metadata": {
        "id": "CTsETgAgvsfv",
        "colab_type": "code",
        "outputId": "c5ea9f9f-f421-49f3-a1d8-47a2e3e5890e",
        "colab": {
          "base_uri": "https://localhost:8080/",
          "height": 34
        }
      },
      "cell_type": "code",
      "source": [
        "maxlen = len(max_len_event.events)\n",
        "maxlen"
      ],
      "execution_count": 0,
      "outputs": [
        {
          "output_type": "execute_result",
          "data": {
            "text/plain": [
              "107"
            ]
          },
          "metadata": {
            "tags": []
          },
          "execution_count": 27
        }
      ]
    },
    {
      "metadata": {
        "id": "vkSOqeEdv3iv",
        "colab_type": "code",
        "colab": {}
      },
      "cell_type": "code",
      "source": [
        "reversed_dict = {}\n",
        "for k, v in event_list.items():\n",
        "  reversed_dict[v] = k"
      ],
      "execution_count": 0,
      "outputs": []
    },
    {
      "metadata": {
        "id": "AN-Anlzlv6Ej",
        "colab_type": "code",
        "outputId": "4e4a782a-bafe-47ce-cb51-a2ed243eafbf",
        "colab": {
          "base_uri": "https://localhost:8080/",
          "height": 561
        }
      },
      "cell_type": "code",
      "source": [
        "reversed_dict"
      ],
      "execution_count": 0,
      "outputs": [
        {
          "output_type": "execute_result",
          "data": {
            "text/plain": [
              "{'accident': 11,\n",
              " 'animal on the shoulder': 20,\n",
              " 'animal struck': 16,\n",
              " 'flooding': 12,\n",
              " 'fog': 30,\n",
              " 'hail': 28,\n",
              " 'hazard on road': 25,\n",
              " 'hazard on the shoulder': 10,\n",
              " 'heavy traffic': 17,\n",
              " 'huge traffic jam': 31,\n",
              " 'ice on roadway': 29,\n",
              " 'large traffic jam': 21,\n",
              " 'major event': 6,\n",
              " 'malfunctioning traffic light': 23,\n",
              " 'medium traffic jam': 24,\n",
              " 'minor accident': 1,\n",
              " 'missing sign on the shoulder': 8,\n",
              " 'object on roadway': 15,\n",
              " 'other': 2,\n",
              " 'pothole': 7,\n",
              " 'road closed': 3,\n",
              " 'road closed due to construction': 27,\n",
              " 'road closed due to hazard': 32,\n",
              " 'road construction': 13,\n",
              " 'slowdown': 19,\n",
              " 'small traffic jam': 18,\n",
              " 'stopped car': 9,\n",
              " 'stopped car on the shoulder': 4,\n",
              " 'stopped traffic': 14,\n",
              " 'traffic heavier than normal': 22,\n",
              " 'traffic jam': 5,\n",
              " 'weather hazard': 26}"
            ]
          },
          "metadata": {
            "tags": []
          },
          "execution_count": 29
        }
      ]
    },
    {
      "metadata": {
        "id": "g5IqU4iQwF89",
        "colab_type": "code",
        "colab": {}
      },
      "cell_type": "code",
      "source": [
        "def event_list_to_index(event_list):\n",
        "  list_idxs = []\n",
        "  for event in (event_list):\n",
        "    idx = reversed_dict[event]\n",
        "    list_idxs.append(idx)\n",
        "  return list_idxs"
      ],
      "execution_count": 0,
      "outputs": []
    },
    {
      "metadata": {
        "id": "4gbpcCZMcyoN",
        "colab_type": "text"
      },
      "cell_type": "markdown",
      "source": [
        "### So by applying the above function, we can convert the highest length sequence as below"
      ]
    },
    {
      "metadata": {
        "id": "v9hBbiIswH9B",
        "colab_type": "code",
        "outputId": "61482608-23d3-4a20-9bf5-24b0c5572385",
        "colab": {
          "base_uri": "https://localhost:8080/",
          "height": 1836
        }
      },
      "cell_type": "code",
      "source": [
        "event_list_to_index(max_len_event.events)"
      ],
      "execution_count": 0,
      "outputs": [
        {
          "output_type": "execute_result",
          "data": {
            "text/plain": [
              "[17,\n",
              " 17,\n",
              " 17,\n",
              " 17,\n",
              " 4,\n",
              " 4,\n",
              " 17,\n",
              " 17,\n",
              " 5,\n",
              " 5,\n",
              " 14,\n",
              " 14,\n",
              " 5,\n",
              " 5,\n",
              " 5,\n",
              " 5,\n",
              " 17,\n",
              " 17,\n",
              " 4,\n",
              " 4,\n",
              " 5,\n",
              " 5,\n",
              " 17,\n",
              " 17,\n",
              " 17,\n",
              " 17,\n",
              " 14,\n",
              " 14,\n",
              " 17,\n",
              " 17,\n",
              " 7,\n",
              " 7,\n",
              " 14,\n",
              " 14,\n",
              " 14,\n",
              " 14,\n",
              " 5,\n",
              " 5,\n",
              " 17,\n",
              " 17,\n",
              " 5,\n",
              " 5,\n",
              " 14,\n",
              " 14,\n",
              " 17,\n",
              " 17,\n",
              " 17,\n",
              " 17,\n",
              " 17,\n",
              " 17,\n",
              " 4,\n",
              " 4,\n",
              " 4,\n",
              " 4,\n",
              " 22,\n",
              " 22,\n",
              " 5,\n",
              " 5,\n",
              " 17,\n",
              " 17,\n",
              " 17,\n",
              " 17,\n",
              " 17,\n",
              " 17,\n",
              " 22,\n",
              " 22,\n",
              " 17,\n",
              " 17,\n",
              " 17,\n",
              " 17,\n",
              " 14,\n",
              " 14,\n",
              " 17,\n",
              " 17,\n",
              " 17,\n",
              " 17,\n",
              " 14,\n",
              " 14,\n",
              " 17,\n",
              " 17,\n",
              " 17,\n",
              " 17,\n",
              " 17,\n",
              " 17,\n",
              " 17,\n",
              " 17,\n",
              " 19,\n",
              " 19,\n",
              " 17,\n",
              " 17,\n",
              " 17,\n",
              " 17,\n",
              " 14,\n",
              " 14,\n",
              " 14,\n",
              " 14,\n",
              " 22,\n",
              " 22,\n",
              " 17,\n",
              " 17,\n",
              " 14,\n",
              " 14,\n",
              " 17,\n",
              " 17,\n",
              " 17,\n",
              " 17,\n",
              " 17]"
            ]
          },
          "metadata": {
            "tags": []
          },
          "execution_count": 31
        }
      ]
    },
    {
      "metadata": {
        "id": "dz_MYHxzwJ9g",
        "colab_type": "code",
        "outputId": "2fc61cff-d0b4-409f-d3e3-c028286851c7",
        "colab": {
          "base_uri": "https://localhost:8080/",
          "height": 34
        }
      },
      "cell_type": "code",
      "source": [
        "import numpy as np\n",
        "from keras.preprocessing.sequence import pad_sequences"
      ],
      "execution_count": 0,
      "outputs": [
        {
          "output_type": "stream",
          "text": [
            "Using TensorFlow backend.\n"
          ],
          "name": "stderr"
        }
      ]
    },
    {
      "metadata": {
        "id": "DMvGdND00iyv",
        "colab_type": "code",
        "outputId": "2616b9cf-02f9-4450-9144-ab887c99b59d",
        "colab": {
          "base_uri": "https://localhost:8080/",
          "height": 34
        }
      },
      "cell_type": "code",
      "source": [
        "len(event_list)"
      ],
      "execution_count": 0,
      "outputs": [
        {
          "output_type": "execute_result",
          "data": {
            "text/plain": [
              "32"
            ]
          },
          "metadata": {
            "tags": []
          },
          "execution_count": 33
        }
      ]
    },
    {
      "metadata": {
        "id": "EROWYL1wdG61",
        "colab_type": "text"
      },
      "cell_type": "markdown",
      "source": [
        "### Using the same function we apply it to the events of the dataframe as follows"
      ]
    },
    {
      "metadata": {
        "id": "I-zjSves0ksh",
        "colab_type": "code",
        "outputId": "099795e8-2820-4dd7-c935-076d50ad873b",
        "colab": {
          "base_uri": "https://localhost:8080/",
          "height": 1071
        }
      },
      "cell_type": "code",
      "source": [
        "df.events.apply(event_list_to_index)"
      ],
      "execution_count": 0,
      "outputs": [
        {
          "output_type": "execute_result",
          "data": {
            "text/plain": [
              "0                                                   [4, 4]\n",
              "1                        [5, 5, 5, 24, 18, 14, 19, 14, 17]\n",
              "2                                                      [4]\n",
              "3        [19, 4, 6, 9, 17, 18, 14, 4, 14, 14, 14, 19, 1...\n",
              "4                                                [4, 4, 4]\n",
              "5                 [22, 19, 22, 4, 4, 5, 22, 5, 17, 17, 14]\n",
              "6        [22, 19, 22, 4, 4, 5, 22, 5, 17, 17, 14, 1, 14...\n",
              "7        [22, 4, 4, 5, 22, 5, 17, 17, 14, 1, 14, 4, 14,...\n",
              "8                          [17, 17, 14, 14, 17, 5, 22, 17]\n",
              "9        [17, 17, 14, 14, 14, 4, 17, 22, 22, 17, 17, 17...\n",
              "10             [14, 4, 17, 22, 17, 5, 17, 5, 1, 5, 17, 19]\n",
              "11                                          [4, 17, 4, 17]\n",
              "12       [4, 4, 5, 17, 17, 17, 4, 4, 4, 22, 17, 4, 17, ...\n",
              "13       [4, 22, 22, 17, 4, 5, 4, 17, 22, 17, 5, 17, 17...\n",
              "14                    [17, 4, 4, 4, 4, 4, 4, 4, 4, 15, 15]\n",
              "15                                                 [17, 4]\n",
              "16                        [4, 4, 4, 17, 17, 4, 19, 17, 14]\n",
              "17                                     [19, 17, 17, 17, 4]\n",
              "18                                               [4, 4, 4]\n",
              "19                         [4, 4, 4, 4, 22, 17, 19, 6, 19]\n",
              "20                      [4, 4, 4, 4, 22, 17, 19, 6, 19, 1]\n",
              "21                                 [19, 17, 4, 14, 19, 14]\n",
              "22                                                 [17, 6]\n",
              "23                                            [6, 6, 4, 4]\n",
              "24                [17, 17, 15, 22, 17, 17, 17, 6, 9, 4, 4]\n",
              "25                                               [4, 2, 4]\n",
              "26                                                  [4, 6]\n",
              "27                                            [4, 7, 4, 4]\n",
              "28                                                  [7, 4]\n",
              "29                                    [4, 4, 4, 17, 19, 4]\n",
              "                               ...                        \n",
              "65826                                               [5, 5]\n",
              "65827                                                  [5]\n",
              "65828                                               [5, 5]\n",
              "65829    [5, 5, 5, 5, 17, 14, 17, 14, 17, 14, 4, 17, 14...\n",
              "65830                                              [11, 4]\n",
              "65831                                      [4, 4, 4, 4, 4]\n",
              "65832                               [5, 5, 5, 5, 5, 5, 14]\n",
              "65833                                            [5, 5, 5]\n",
              "65834                                                  [5]\n",
              "65835                                         [5, 5, 5, 5]\n",
              "65836                                               [5, 5]\n",
              "65837    [14, 4, 17, 17, 4, 4, 17, 4, 17, 17, 17, 17, 1...\n",
              "65838    [14, 14, 17, 14, 14, 14, 14, 4, 9, 4, 17, 14, 22]\n",
              "65839                    [4, 13, 22, 4, 22, 17, 17, 22, 5]\n",
              "65840    [17, 17, 4, 4, 17, 17, 17, 17, 5, 5, 4, 4, 5, ...\n",
              "65841         [17, 4, 17, 19, 14, 14, 4, 17, 14, 5, 5, 14]\n",
              "65842    [17, 14, 22, 17, 14, 14, 4, 11, 9, 17, 1, 17, ...\n",
              "65843                               [5, 13, 11, 17, 14, 6]\n",
              "65844                                  [14, 14, 11, 11, 5]\n",
              "65845                                                  [5]\n",
              "65846               [17, 17, 19, 19, 5, 5, 5, 5, 5, 5, 17]\n",
              "65847    [4, 17, 17, 22, 5, 1, 4, 14, 1, 4, 5, 17, 22, ...\n",
              "65848                                        [5, 5, 5, 14]\n",
              "65849    [19, 17, 1, 11, 22, 4, 4, 17, 4, 5, 22, 4, 17,...\n",
              "65850    [17, 22, 17, 17, 7, 17, 14, 17, 22, 17, 14, 17...\n",
              "65851    [17, 17, 17, 17, 17, 17, 4, 4, 22, 22, 17, 17,...\n",
              "65852                                                  [5]\n",
              "65853                                        [17, 5, 5, 5]\n",
              "65854                                                  [5]\n",
              "65855                                               [5, 5]\n",
              "Name: events, Length: 65856, dtype: object"
            ]
          },
          "metadata": {
            "tags": []
          },
          "execution_count": 34
        }
      ]
    },
    {
      "metadata": {
        "id": "ThLEde8g0xjr",
        "colab_type": "code",
        "outputId": "71014582-8a74-46f4-ced1-e90d93cf4592",
        "colab": {
          "base_uri": "https://localhost:8080/",
          "height": 102
        }
      },
      "cell_type": "code",
      "source": [
        "sequences = df.events.apply(event_list_to_index).tolist()\n",
        "sequences[:5]"
      ],
      "execution_count": 0,
      "outputs": [
        {
          "output_type": "execute_result",
          "data": {
            "text/plain": [
              "[[4, 4],\n",
              " [5, 5, 5, 24, 18, 14, 19, 14, 17],\n",
              " [4],\n",
              " [19, 4, 6, 9, 17, 18, 14, 4, 14, 14, 14, 19, 17, 9],\n",
              " [4, 4, 4]]"
            ]
          },
          "metadata": {
            "tags": []
          },
          "execution_count": 35
        }
      ]
    },
    {
      "metadata": {
        "id": "UZR13qqo0zhq",
        "colab_type": "code",
        "outputId": "b5e4e7af-dac5-4113-bd59-fb047353bc63",
        "colab": {
          "base_uri": "https://localhost:8080/",
          "height": 136
        }
      },
      "cell_type": "code",
      "source": [
        "data = pad_sequences(sequences, maxlen=maxlen)\n",
        "data"
      ],
      "execution_count": 0,
      "outputs": [
        {
          "output_type": "execute_result",
          "data": {
            "text/plain": [
              "array([[ 0,  0,  0, ...,  0,  4,  4],\n",
              "       [ 0,  0,  0, ..., 19, 14, 17],\n",
              "       [ 0,  0,  0, ...,  0,  0,  4],\n",
              "       ...,\n",
              "       [ 0,  0,  0, ...,  5,  5,  5],\n",
              "       [ 0,  0,  0, ...,  0,  0,  5],\n",
              "       [ 0,  0,  0, ...,  0,  5,  5]], dtype=int32)"
            ]
          },
          "metadata": {
            "tags": []
          },
          "execution_count": 36
        }
      ]
    },
    {
      "metadata": {
        "id": "76CLMEDF02ZU",
        "colab_type": "code",
        "colab": {}
      },
      "cell_type": "code",
      "source": [
        "labels = np.array(df.label)"
      ],
      "execution_count": 0,
      "outputs": []
    },
    {
      "metadata": {
        "id": "5vFspRemdbF7",
        "colab_type": "text"
      },
      "cell_type": "markdown",
      "source": [
        "### Splitting the data into training and validation sets using the indices by shuffling using the numpy library"
      ]
    },
    {
      "metadata": {
        "id": "DLBkK7kb2T85",
        "colab_type": "code",
        "colab": {}
      },
      "cell_type": "code",
      "source": [
        "np.random.seed(12)"
      ],
      "execution_count": 0,
      "outputs": []
    },
    {
      "metadata": {
        "id": "SgQl6LTM2Vd7",
        "colab_type": "code",
        "colab": {}
      },
      "cell_type": "code",
      "source": [
        "indices = np.arange(data.shape[0])\n",
        "np.random.shuffle(indices)\n",
        "data = data[indices]\n",
        "labels = labels[indices]"
      ],
      "execution_count": 0,
      "outputs": []
    },
    {
      "metadata": {
        "id": "bnaknbPf2XWM",
        "colab_type": "code",
        "colab": {}
      },
      "cell_type": "code",
      "source": [
        "training_samples = int(len(indices) * .8)\n",
        "validation_samples = len(indices) - training_samples"
      ],
      "execution_count": 0,
      "outputs": []
    },
    {
      "metadata": {
        "id": "2UdZBGyC2Zam",
        "colab_type": "code",
        "colab": {}
      },
      "cell_type": "code",
      "source": [
        "X_train = data[:training_samples]\n",
        "y_train = labels[:training_samples]\n",
        "X_valid = data[training_samples: training_samples + validation_samples]\n",
        "y_valid = labels[training_samples: training_samples + validation_samples]"
      ],
      "execution_count": 0,
      "outputs": []
    },
    {
      "metadata": {
        "id": "tmktHvOq2a5S",
        "colab_type": "code",
        "outputId": "979a63d3-303a-4d3e-d973-0e48d026893d",
        "colab": {
          "base_uri": "https://localhost:8080/",
          "height": 136
        }
      },
      "cell_type": "code",
      "source": [
        "X_train"
      ],
      "execution_count": 0,
      "outputs": [
        {
          "output_type": "execute_result",
          "data": {
            "text/plain": [
              "array([[ 0,  0,  0, ...,  4,  5,  5],\n",
              "       [ 0,  0,  0, ...,  5,  5,  1],\n",
              "       [ 0,  0,  0, ...,  0,  0,  4],\n",
              "       ...,\n",
              "       [ 0,  0,  0, ...,  5, 19, 17],\n",
              "       [ 0,  0,  0, ...,  0,  0,  5],\n",
              "       [ 0,  0,  0, ...,  5,  5,  5]], dtype=int32)"
            ]
          },
          "metadata": {
            "tags": []
          },
          "execution_count": 42
        }
      ]
    },
    {
      "metadata": {
        "id": "DLP29kV62civ",
        "colab_type": "code",
        "colab": {}
      },
      "cell_type": "code",
      "source": [
        "num_events = len(event_list) + 1"
      ],
      "execution_count": 0,
      "outputs": []
    },
    {
      "metadata": {
        "id": "KBFmhaiw2fkd",
        "colab_type": "code",
        "colab": {}
      },
      "cell_type": "code",
      "source": [
        "embedding_dim = 20"
      ],
      "execution_count": 0,
      "outputs": []
    },
    {
      "metadata": {
        "id": "4DYBZAM82ipv",
        "colab_type": "code",
        "colab": {}
      },
      "cell_type": "code",
      "source": [
        "embedding_matrix = np.random.rand(num_events, embedding_dim)"
      ],
      "execution_count": 0,
      "outputs": []
    },
    {
      "metadata": {
        "id": "vmKtz52NHY79",
        "colab_type": "code",
        "outputId": "92f6b27b-4771-4f77-97d9-b282a7e981eb",
        "colab": {
          "base_uri": "https://localhost:8080/",
          "height": 2261
        }
      },
      "cell_type": "code",
      "source": [
        "embedding_matrix"
      ],
      "execution_count": 0,
      "outputs": [
        {
          "output_type": "execute_result",
          "data": {
            "text/plain": [
              "array([[0.91766352, 0.57366533, 0.74021295, 0.75979354, 0.50161999,\n",
              "        0.07863611, 0.44216422, 0.55708739, 0.33008473, 0.79254184,\n",
              "        0.59539662, 0.9711037 , 0.75213109, 0.93612431, 0.36905699,\n",
              "        0.97143277, 0.76393327, 0.42751306, 0.56878506, 0.72169639],\n",
              "       [0.89993476, 0.6044866 , 0.49621787, 0.6109608 , 0.54702196,\n",
              "        0.51026761, 0.37447688, 0.92942464, 0.07977561, 0.33841862,\n",
              "        0.57938955, 0.87282846, 0.1644928 , 0.86531993, 0.26739778,\n",
              "        0.79630282, 0.82471148, 0.29786763, 0.04377553, 0.0298776 ],\n",
              "       [0.73870273, 0.85041215, 0.02007794, 0.98743531, 0.2897461 ,\n",
              "        0.09616657, 0.60512622, 0.86121274, 0.29729971, 0.96288475,\n",
              "        0.70424871, 0.84049482, 0.19870195, 0.49515258, 0.75568378,\n",
              "        0.07387913, 0.13693151, 0.96893476, 0.75167309, 0.73344403],\n",
              "       [0.03471134, 0.76042334, 0.19112812, 0.16673895, 0.44544625,\n",
              "        0.6929101 , 0.22960833, 0.4487796 , 0.7036821 , 0.71606376,\n",
              "        0.36728506, 0.06164051, 0.73193284, 0.4692205 , 0.63012859,\n",
              "        0.7634656 , 0.568799  , 0.63965444, 0.07593067, 0.98857046],\n",
              "       [0.61600615, 0.90367209, 0.1769683 , 0.09197109, 0.8716236 ,\n",
              "        0.18869371, 0.60686038, 0.53970975, 0.46909173, 0.84298742,\n",
              "        0.52951843, 0.18209084, 0.16460796, 0.16386112, 0.52709745,\n",
              "        0.95603505, 0.29822246, 0.45895681, 0.48119222, 0.26101961],\n",
              "       [0.13837547, 0.87217497, 0.96326992, 0.28940278, 0.27072298,\n",
              "        0.85052343, 0.15032698, 0.85407852, 0.95493189, 0.024392  ,\n",
              "        0.38536188, 0.59817511, 0.15398737, 0.87084992, 0.65804809,\n",
              "        0.97055459, 0.03535427, 0.80873375, 0.45441036, 0.50423775],\n",
              "       [0.24954276, 0.84864336, 0.39462199, 0.3486558 , 0.14414095,\n",
              "        0.26834198, 0.12885941, 0.20885841, 0.94455634, 0.88650586,\n",
              "        0.68552195, 0.6364786 , 0.55139422, 0.64778833, 0.59818677,\n",
              "        0.57007714, 0.84430105, 0.55712263, 0.12695779, 0.28405955],\n",
              "       [0.41663697, 0.04288818, 0.07036771, 0.02794308, 0.91052085,\n",
              "        0.86049871, 0.23983097, 0.94249225, 0.28376068, 0.80778625,\n",
              "        0.62666288, 0.12820445, 0.23716491, 0.96965193, 0.8204327 ,\n",
              "        0.795538  , 0.43748767, 0.04709397, 0.14882452, 0.22718725],\n",
              "       [0.87641584, 0.97194978, 0.83370866, 0.93752291, 0.13342253,\n",
              "        0.47411229, 0.91511917, 0.24061626, 0.69730573, 0.57137715,\n",
              "        0.61261041, 0.98548592, 0.09995995, 0.27937159, 0.71089817,\n",
              "        0.38023773, 0.20890118, 0.9081493 , 0.12248802, 0.09638738],\n",
              "       [0.79890812, 0.00629517, 0.9225466 , 0.1038229 , 0.47426747,\n",
              "        0.28252559, 0.01708922, 0.74531303, 0.18316211, 0.52461983,\n",
              "        0.77958743, 0.30163974, 0.11333301, 0.7785838 , 0.03204224,\n",
              "        0.36652779, 0.98769542, 0.45092524, 0.67996364, 0.07545519],\n",
              "       [0.8422794 , 0.76175526, 0.51837144, 0.94576306, 0.74193763,\n",
              "        0.78244882, 0.8624164 , 0.67383799, 0.67705388, 0.7893716 ,\n",
              "        0.39578405, 0.75783668, 0.15170496, 0.69862835, 0.50314497,\n",
              "        0.38008585, 0.54893888, 0.02748248, 0.376243  , 0.69696506],\n",
              "       [0.59310036, 0.89443076, 0.99384781, 0.14677215, 0.14640427,\n",
              "        0.66635587, 0.45424183, 0.25896566, 0.09527174, 0.21527424,\n",
              "        0.59687015, 0.09948284, 0.18682151, 0.45372142, 0.14746822,\n",
              "        0.27550535, 0.03028523, 0.27528396, 0.14790651, 0.5317522 ],\n",
              "       [0.03314711, 0.12651555, 0.16147474, 0.52903961, 0.34952145,\n",
              "        0.656561  , 0.61474799, 0.58785023, 0.32501019, 0.05701557,\n",
              "        0.97878117, 0.66506606, 0.09367309, 0.54565025, 0.84521916,\n",
              "        0.28744574, 0.10735615, 0.61225214, 0.57324503, 0.5659908 ],\n",
              "       [0.51830664, 0.98509364, 0.00132608, 0.60667856, 0.80383634,\n",
              "        0.19489587, 0.38576849, 0.49647409, 0.61739358, 0.65100771,\n",
              "        0.95351063, 0.41602287, 0.0071967 , 0.34435269, 0.28966679,\n",
              "        0.44135416, 0.55125725, 0.95895722, 0.7007052 , 0.7177643 ],\n",
              "       [0.5739394 , 0.18899869, 0.06091098, 0.77931143, 0.06674488,\n",
              "        0.86479469, 0.91622463, 0.98059582, 0.09090802, 0.40988679,\n",
              "        0.79128707, 0.47332613, 0.8992363 , 0.59236118, 0.38658665,\n",
              "        0.58573587, 0.33077392, 0.06799466, 0.07841327, 0.93438996],\n",
              "       [0.59415626, 0.25997077, 0.16386182, 0.07273381, 0.11841677,\n",
              "        0.53576933, 0.53804793, 0.25690145, 0.99394482, 0.94121718,\n",
              "        0.04164026, 0.62351361, 0.77511044, 0.16060544, 0.27342057,\n",
              "        0.72174011, 0.92324252, 0.78230861, 0.3991275 , 0.06016461],\n",
              "       [0.99717158, 0.3304414 , 0.4439444 , 0.85758444, 0.74750753,\n",
              "        0.0426144 , 0.14110584, 0.95579349, 0.32372755, 0.78830503,\n",
              "        0.94078262, 0.04334779, 0.49263676, 0.47636178, 0.09558969,\n",
              "        0.98258465, 0.38104738, 0.56036502, 0.87835477, 0.57701907],\n",
              "       [0.38309559, 0.48158373, 0.6689119 , 0.06368938, 0.10123553,\n",
              "        0.00172874, 0.44201093, 0.19798986, 0.64066426, 0.85164174,\n",
              "        0.34382869, 0.07191389, 0.04190909, 0.54340718, 0.4770716 ,\n",
              "        0.63582545, 0.25433153, 0.97576541, 0.90121999, 0.68181638],\n",
              "       [0.79617753, 0.23907339, 0.63037867, 0.93641655, 0.94649432,\n",
              "        0.22090054, 0.37728564, 0.24951191, 0.02775554, 0.53878455,\n",
              "        0.06740668, 0.14862427, 0.24343998, 0.36028074, 0.72450046,\n",
              "        0.80789779, 0.65522765, 0.85172666, 0.46958238, 0.26417822],\n",
              "       [0.79984934, 0.8551913 , 0.85633291, 0.37396931, 0.70316845,\n",
              "        0.12235113, 0.43447112, 0.42733178, 0.77619429, 0.9484856 ,\n",
              "        0.17190676, 0.38546252, 0.93452267, 0.0780526 , 0.94623783,\n",
              "        0.73103517, 0.34984445, 0.25571724, 0.54364528, 0.1256599 ],\n",
              "       [0.73393761, 0.09382804, 0.97900638, 0.97566143, 0.47819625,\n",
              "        0.75857548, 0.37513554, 0.82456507, 0.76868037, 0.54375166,\n",
              "        0.27716482, 0.68574973, 0.36283859, 0.53288118, 0.36414172,\n",
              "        0.03398203, 0.93436295, 0.38196902, 0.42393476, 0.13872786],\n",
              "       [0.63144437, 0.55566714, 0.7780429 , 0.49278345, 0.55520221,\n",
              "        0.85900711, 0.85367582, 0.55259434, 0.06063352, 0.82082885,\n",
              "        0.62612591, 0.58816354, 0.88291519, 0.63359554, 0.23939735,\n",
              "        0.20937678, 0.37363068, 0.63885223, 0.60611919, 0.59668635],\n",
              "       [0.53540211, 0.14076663, 0.68390332, 0.76538377, 0.62021274,\n",
              "        0.52116437, 0.84012424, 0.08891869, 0.0461261 , 0.57850679,\n",
              "        0.03715602, 0.94985207, 0.44574173, 0.19320859, 0.45033395,\n",
              "        0.98916618, 0.09054691, 0.69606152, 0.75155531, 0.06442001],\n",
              "       [0.87837503, 0.5439047 , 0.62352514, 0.76795656, 0.89267853,\n",
              "        0.90886381, 0.42285254, 0.73890066, 0.94402276, 0.07856726,\n",
              "        0.7437037 , 0.90726143, 0.11171669, 0.39677813, 0.94684722,\n",
              "        0.45446884, 0.20056434, 0.83576178, 0.30613227, 0.99338345],\n",
              "       [0.11725489, 0.44298125, 0.05453138, 0.70107838, 0.1614903 ,\n",
              "        0.44782342, 0.28323892, 0.83528018, 0.99063167, 0.80881308,\n",
              "        0.42099101, 0.00849456, 0.26964362, 0.97088554, 0.76167035,\n",
              "        0.49034607, 0.73713102, 0.08409243, 0.42686081, 0.61487311],\n",
              "       [0.27680547, 0.14296078, 0.83263573, 0.54208298, 0.97839821,\n",
              "        0.48093068, 0.16820348, 0.94452135, 0.93813154, 0.06456582,\n",
              "        0.17155054, 0.15262901, 0.23649387, 0.93401701, 0.74528964,\n",
              "        0.5264676 , 0.41659212, 0.64670329, 0.92737842, 0.74094285],\n",
              "       [0.25970478, 0.7325922 , 0.24144775, 0.24650382, 0.51607683,\n",
              "        0.82182054, 0.18253474, 0.2358188 , 0.04874448, 0.22196056,\n",
              "        0.8894859 , 0.43326114, 0.97927428, 0.84018018, 0.49062643,\n",
              "        0.38096581, 0.44671121, 0.36028649, 0.93766157, 0.5171796 ],\n",
              "       [0.623281  , 0.55242101, 0.01173896, 0.85513898, 0.85093607,\n",
              "        0.16920203, 0.80455726, 0.86935805, 0.46241799, 0.73088503,\n",
              "        0.64994329, 0.27117857, 0.55695291, 0.30268505, 0.33839496,\n",
              "        0.97441023, 0.58942863, 0.77416721, 0.71392403, 0.80204869],\n",
              "       [0.05714539, 0.06207969, 0.80003386, 0.54938699, 0.22374397,\n",
              "        0.41279489, 0.80522167, 0.36688493, 0.84088382, 0.18869042,\n",
              "        0.23034651, 0.21070391, 0.5665497 , 0.87737617, 0.06098246,\n",
              "        0.80309781, 0.06944268, 0.96894695, 0.77501813, 0.61934296],\n",
              "       [0.46860298, 0.42829758, 0.25794821, 0.77938648, 0.66645164,\n",
              "        0.96997697, 0.13442782, 0.46072467, 0.31210173, 0.81867542,\n",
              "        0.86472695, 0.53382671, 0.92775855, 0.32365217, 0.16236765,\n",
              "        0.91396978, 0.97285718, 0.32967847, 0.66335747, 0.43982015],\n",
              "       [0.42849238, 0.05828019, 0.75819889, 0.81114938, 0.84593042,\n",
              "        0.04672474, 0.30258686, 0.49250543, 0.83747889, 0.64210894,\n",
              "        0.1820672 , 0.37524921, 0.11650352, 0.8425526 , 0.40876373,\n",
              "        0.81340072, 0.3480384 , 0.96203595, 0.31490113, 0.07375887],\n",
              "       [0.43415455, 0.15792864, 0.08754361, 0.44588271, 0.2026341 ,\n",
              "        0.34610522, 0.73726472, 0.89790042, 0.1247453 , 0.35095878,\n",
              "        0.91039165, 0.98889891, 0.36343672, 0.52637354, 0.12006554,\n",
              "        0.07788047, 0.68657986, 0.22869485, 0.86853614, 0.98889345],\n",
              "       [0.14318227, 0.2628834 , 0.74975453, 0.7714155 , 0.90912064,\n",
              "        0.69437076, 0.13401158, 0.10427863, 0.35311026, 0.71117004,\n",
              "        0.76807437, 0.76939279, 0.21327804, 0.96231636, 0.24363024,\n",
              "        0.99261119, 0.76770227, 0.18732671, 0.38704543, 0.1960188 ]])"
            ]
          },
          "metadata": {
            "tags": []
          },
          "execution_count": 47
        }
      ]
    },
    {
      "metadata": {
        "id": "WEK414XCBe9_",
        "colab_type": "text"
      },
      "cell_type": "markdown",
      "source": [
        "# Model 1"
      ]
    },
    {
      "metadata": {
        "id": "tzQfVXWt2k_k",
        "colab_type": "code",
        "outputId": "b5744f72-61fd-4e7f-8018-0ada893bf074",
        "colab": {
          "base_uri": "https://localhost:8080/",
          "height": 88
        }
      },
      "cell_type": "code",
      "source": [
        "from keras.models import Sequential\n",
        "from keras.layers import Embedding, Flatten, Dense, LSTM\n",
        "\n",
        "units = 32\n",
        "\n",
        "model = Sequential()\n",
        "model.add(Embedding(num_events, embedding_dim))\n",
        "model.add(LSTM(units))\n",
        "model.add(Dense(1, activation='sigmoid'))"
      ],
      "execution_count": 0,
      "outputs": [
        {
          "output_type": "stream",
          "text": [
            "WARNING:tensorflow:From /usr/local/lib/python3.6/dist-packages/tensorflow/python/framework/op_def_library.py:263: colocate_with (from tensorflow.python.framework.ops) is deprecated and will be removed in a future version.\n",
            "Instructions for updating:\n",
            "Colocations handled automatically by placer.\n"
          ],
          "name": "stdout"
        }
      ]
    },
    {
      "metadata": {
        "id": "vbCe6frN2m4y",
        "colab_type": "code",
        "colab": {}
      },
      "cell_type": "code",
      "source": [
        "model.layers[0].set_weights([embedding_matrix])\n",
        "model.layers[0].trainable = False"
      ],
      "execution_count": 0,
      "outputs": []
    },
    {
      "metadata": {
        "id": "zTz384NY2p06",
        "colab_type": "code",
        "outputId": "57916c9b-2079-4446-d579-f9673cbf7b18",
        "colab": {
          "base_uri": "https://localhost:8080/",
          "height": 1795
        }
      },
      "cell_type": "code",
      "source": [
        "model.compile(optimizer='adam',\n",
        "              loss='binary_crossentropy',\n",
        "              metrics=['acc'])\n",
        "history = model.fit(X_train, y_train,\n",
        "                    epochs=50,\n",
        "                    batch_size=512,\n",
        "                    validation_data=(X_valid, y_valid))\n",
        "model.save(\"model 1.h5\")"
      ],
      "execution_count": 0,
      "outputs": [
        {
          "output_type": "stream",
          "text": [
            "Train on 52684 samples, validate on 13172 samples\n",
            "Epoch 1/50\n",
            "52684/52684 [==============================] - 30s 574us/step - loss: 0.5950 - acc: 0.6747 - val_loss: 0.5933 - val_acc: 0.6842\n",
            "Epoch 2/50\n",
            "52684/52684 [==============================] - 29s 542us/step - loss: 0.5919 - acc: 0.6782 - val_loss: 0.5920 - val_acc: 0.6844\n",
            "Epoch 3/50\n",
            "52684/52684 [==============================] - 29s 543us/step - loss: 0.5901 - acc: 0.6808 - val_loss: 0.5906 - val_acc: 0.6852\n",
            "Epoch 4/50\n",
            "52684/52684 [==============================] - 29s 549us/step - loss: 0.5897 - acc: 0.6800 - val_loss: 0.5896 - val_acc: 0.6852\n",
            "Epoch 5/50\n",
            "52684/52684 [==============================] - 29s 558us/step - loss: 0.5884 - acc: 0.6793 - val_loss: 0.5893 - val_acc: 0.6874\n",
            "Epoch 6/50\n",
            "52684/52684 [==============================] - 29s 545us/step - loss: 0.5866 - acc: 0.6831 - val_loss: 0.5898 - val_acc: 0.6830\n",
            "Epoch 7/50\n",
            "52684/52684 [==============================] - 29s 545us/step - loss: 0.5861 - acc: 0.6829 - val_loss: 0.5868 - val_acc: 0.6888\n",
            "Epoch 8/50\n",
            "52684/52684 [==============================] - 29s 543us/step - loss: 0.5858 - acc: 0.6835 - val_loss: 0.5873 - val_acc: 0.6861\n",
            "Epoch 9/50\n",
            "52684/52684 [==============================] - 29s 541us/step - loss: 0.5859 - acc: 0.6825 - val_loss: 0.5871 - val_acc: 0.6846\n",
            "Epoch 10/50\n",
            "52684/52684 [==============================] - 29s 544us/step - loss: 0.5842 - acc: 0.6844 - val_loss: 0.5877 - val_acc: 0.6851\n",
            "Epoch 11/50\n",
            "52684/52684 [==============================] - 29s 543us/step - loss: 0.5838 - acc: 0.6847 - val_loss: 0.5879 - val_acc: 0.6775\n",
            "Epoch 12/50\n",
            "52684/52684 [==============================] - 29s 542us/step - loss: 0.5839 - acc: 0.6843 - val_loss: 0.5873 - val_acc: 0.6860\n",
            "Epoch 13/50\n",
            "52684/52684 [==============================] - 29s 544us/step - loss: 0.5833 - acc: 0.6839 - val_loss: 0.5857 - val_acc: 0.6881\n",
            "Epoch 14/50\n",
            "52684/52684 [==============================] - 29s 546us/step - loss: 0.5825 - acc: 0.6859 - val_loss: 0.5848 - val_acc: 0.6887\n",
            "Epoch 15/50\n",
            "52684/52684 [==============================] - 29s 554us/step - loss: 0.5825 - acc: 0.6869 - val_loss: 0.5872 - val_acc: 0.6775\n",
            "Epoch 16/50\n",
            "52684/52684 [==============================] - 29s 552us/step - loss: 0.5825 - acc: 0.6836 - val_loss: 0.5865 - val_acc: 0.6862\n",
            "Epoch 17/50\n",
            "52684/52684 [==============================] - 29s 542us/step - loss: 0.5819 - acc: 0.6850 - val_loss: 0.5854 - val_acc: 0.6903\n",
            "Epoch 18/50\n",
            "52684/52684 [==============================] - 29s 545us/step - loss: 0.5811 - acc: 0.6866 - val_loss: 0.5846 - val_acc: 0.6878\n",
            "Epoch 19/50\n",
            "52684/52684 [==============================] - 29s 545us/step - loss: 0.5810 - acc: 0.6872 - val_loss: 0.5871 - val_acc: 0.6809\n",
            "Epoch 20/50\n",
            "52684/52684 [==============================] - 29s 543us/step - loss: 0.5809 - acc: 0.6867 - val_loss: 0.5840 - val_acc: 0.6888\n",
            "Epoch 21/50\n",
            "52684/52684 [==============================] - 29s 547us/step - loss: 0.5799 - acc: 0.6883 - val_loss: 0.5853 - val_acc: 0.6865\n",
            "Epoch 22/50\n",
            "52684/52684 [==============================] - 29s 549us/step - loss: 0.5805 - acc: 0.6863 - val_loss: 0.5850 - val_acc: 0.6881\n",
            "Epoch 23/50\n",
            "52684/52684 [==============================] - 29s 548us/step - loss: 0.6164 - acc: 0.6501 - val_loss: 0.6063 - val_acc: 0.6578\n",
            "Epoch 24/50\n",
            "52684/52684 [==============================] - 29s 554us/step - loss: 0.5945 - acc: 0.6701 - val_loss: 0.5948 - val_acc: 0.6663\n",
            "Epoch 25/50\n",
            "52684/52684 [==============================] - 29s 550us/step - loss: 0.5897 - acc: 0.6736 - val_loss: 0.5906 - val_acc: 0.6843\n",
            "Epoch 26/50\n",
            "52684/52684 [==============================] - 30s 567us/step - loss: 0.5894 - acc: 0.6788 - val_loss: 0.5919 - val_acc: 0.6820\n",
            "Epoch 27/50\n",
            "52684/52684 [==============================] - 29s 550us/step - loss: 0.5866 - acc: 0.6788 - val_loss: 0.5884 - val_acc: 0.6855\n",
            "Epoch 28/50\n",
            "52684/52684 [==============================] - 29s 547us/step - loss: 0.5855 - acc: 0.6837 - val_loss: 0.5873 - val_acc: 0.6858\n",
            "Epoch 29/50\n",
            "52684/52684 [==============================] - 29s 549us/step - loss: 0.5843 - acc: 0.6823 - val_loss: 0.5890 - val_acc: 0.6814\n",
            "Epoch 30/50\n",
            "52684/52684 [==============================] - 29s 542us/step - loss: 0.5828 - acc: 0.6842 - val_loss: 0.5867 - val_acc: 0.6827\n",
            "Epoch 31/50\n",
            "52684/52684 [==============================] - 29s 545us/step - loss: 0.5831 - acc: 0.6850 - val_loss: 0.5954 - val_acc: 0.6643\n",
            "Epoch 32/50\n",
            "52684/52684 [==============================] - 29s 543us/step - loss: 0.5821 - acc: 0.6870 - val_loss: 0.5871 - val_acc: 0.6860\n",
            "Epoch 33/50\n",
            "52684/52684 [==============================] - 29s 544us/step - loss: 0.5825 - acc: 0.6855 - val_loss: 0.5860 - val_acc: 0.6818\n",
            "Epoch 34/50\n",
            "52684/52684 [==============================] - 29s 544us/step - loss: 0.5818 - acc: 0.6850 - val_loss: 0.5847 - val_acc: 0.6887\n",
            "Epoch 35/50\n",
            "52684/52684 [==============================] - 29s 552us/step - loss: 0.5815 - acc: 0.6867 - val_loss: 0.5856 - val_acc: 0.6874\n",
            "Epoch 36/50\n",
            "52684/52684 [==============================] - 29s 549us/step - loss: 0.5816 - acc: 0.6870 - val_loss: 0.5859 - val_acc: 0.6791\n",
            "Epoch 37/50\n",
            "52684/52684 [==============================] - 30s 568us/step - loss: 0.5805 - acc: 0.6859 - val_loss: 0.5854 - val_acc: 0.6884\n",
            "Epoch 38/50\n",
            "52684/52684 [==============================] - 29s 550us/step - loss: 0.5810 - acc: 0.6859 - val_loss: 0.5843 - val_acc: 0.6905\n",
            "Epoch 39/50\n",
            "52684/52684 [==============================] - 29s 546us/step - loss: 0.5805 - acc: 0.6893 - val_loss: 0.5892 - val_acc: 0.6713\n",
            "Epoch 40/50\n",
            "52684/52684 [==============================] - 29s 547us/step - loss: 0.5811 - acc: 0.6874 - val_loss: 0.5869 - val_acc: 0.6778\n",
            "Epoch 41/50\n",
            "52684/52684 [==============================] - 29s 547us/step - loss: 0.5809 - acc: 0.6860 - val_loss: 0.5842 - val_acc: 0.6917\n",
            "Epoch 42/50\n",
            "52684/52684 [==============================] - 29s 550us/step - loss: 0.5803 - acc: 0.6877 - val_loss: 0.5849 - val_acc: 0.6883\n",
            "Epoch 43/50\n",
            "52684/52684 [==============================] - 29s 545us/step - loss: 0.5800 - acc: 0.6878 - val_loss: 0.5838 - val_acc: 0.6902\n",
            "Epoch 44/50\n",
            "52684/52684 [==============================] - 29s 545us/step - loss: 0.5795 - acc: 0.6884 - val_loss: 0.5840 - val_acc: 0.6827\n",
            "Epoch 45/50\n",
            "52684/52684 [==============================] - 29s 550us/step - loss: 0.5797 - acc: 0.6869 - val_loss: 0.5842 - val_acc: 0.6897\n",
            "Epoch 46/50\n",
            "52684/52684 [==============================] - 29s 548us/step - loss: 0.5790 - acc: 0.6890 - val_loss: 0.5845 - val_acc: 0.6887\n",
            "Epoch 47/50\n",
            "52684/52684 [==============================] - 29s 545us/step - loss: 0.5788 - acc: 0.6909 - val_loss: 0.5839 - val_acc: 0.6915\n",
            "Epoch 48/50\n",
            "52684/52684 [==============================] - 31s 588us/step - loss: 0.5791 - acc: 0.6894 - val_loss: 0.5852 - val_acc: 0.6850\n",
            "Epoch 49/50\n",
            "52684/52684 [==============================] - 29s 543us/step - loss: 0.5788 - acc: 0.6894 - val_loss: 0.5836 - val_acc: 0.6922\n",
            "Epoch 50/50\n",
            "52684/52684 [==============================] - 29s 549us/step - loss: 0.5787 - acc: 0.6898 - val_loss: 0.5829 - val_acc: 0.6896\n"
          ],
          "name": "stdout"
        }
      ]
    },
    {
      "metadata": {
        "id": "--lIb_-g2shI",
        "colab_type": "code",
        "outputId": "43bd308f-21bd-4af5-84a5-62908c958f9e",
        "colab": {
          "base_uri": "https://localhost:8080/",
          "height": 545
        }
      },
      "cell_type": "code",
      "source": [
        "import matplotlib.pyplot as plt\n",
        "\n",
        "acc = history.history['acc']\n",
        "val_acc = history.history['val_acc']\n",
        "loss = history.history['loss']\n",
        "val_loss = history.history['val_loss']\n",
        "\n",
        "epochs = range(1, len(acc) + 1)\n",
        "\n",
        "plt.plot(epochs, acc, 'bo', label='Training acc')\n",
        "plt.plot(epochs, val_acc, 'b', label='Validation acc')\n",
        "plt.title('Training and validation accuracy')\n",
        "plt.legend()\n",
        "\n",
        "plt.figure()\n",
        "\n",
        "plt.plot(epochs, loss, 'bo', label='Training loss')\n",
        "plt.plot(epochs, val_loss, 'b', label='Validation loss')\n",
        "plt.title('Training and validation loss')\n",
        "plt.legend()\n",
        "\n",
        "plt.show()"
      ],
      "execution_count": 0,
      "outputs": [
        {
          "output_type": "display_data",
          "data": {
            "image/png": "[encoded data removed]",
            "text/plain": [
              "<Figure size 432x288 with 1 Axes>"
            ]
          },
          "metadata": {
            "tags": []
          }
        },
        {
          "output_type": "display_data",
          "data": {
            "image/png": "[encoded data removed]",
            "text/plain": [
              "<Figure size 432x288 with 1 Axes>"
            ]
          },
          "metadata": {
            "tags": []
          }
        }
      ]
    },
    {
      "metadata": {
        "id": "rKD8h7FFdnHB",
        "colab_type": "text"
      },
      "cell_type": "markdown",
      "source": [
        "# Model 2"
      ]
    },
    {
      "metadata": {
        "id": "85AneV6WNgqV",
        "colab_type": "code",
        "colab": {}
      },
      "cell_type": "code",
      "source": [
        "from keras.models import Sequential\n",
        "from keras.layers import Embedding, Flatten, Dense, LSTM\n",
        "\n",
        "units = 32\n",
        "\n",
        "model = Sequential()\n",
        "model.add(Embedding(num_events, embedding_dim))\n",
        "model.add(LSTM(units))\n",
        "model.add(Dense(1, activation='sigmoid'))"
      ],
      "execution_count": 0,
      "outputs": []
    },
    {
      "metadata": {
        "id": "tvkKlWPRNiW1",
        "colab_type": "code",
        "colab": {}
      },
      "cell_type": "code",
      "source": [
        "model.layers[0].set_weights([embedding_matrix])\n",
        "model.layers[0].trainable = True"
      ],
      "execution_count": 0,
      "outputs": []
    },
    {
      "metadata": {
        "id": "pM4VlI2WNiTh",
        "colab_type": "code",
        "outputId": "f947d8e5-3ec5-48b3-ad9e-69d652a46523",
        "colab": {
          "base_uri": "https://localhost:8080/",
          "height": 1795
        }
      },
      "cell_type": "code",
      "source": [
        "model.compile(optimizer='adam',\n",
        "              loss='binary_crossentropy',\n",
        "              metrics=['acc'])\n",
        "history = model.fit(X_train, y_train,\n",
        "                    epochs=50,\n",
        "                    batch_size=512,\n",
        "                    validation_data=(X_valid, y_valid))\n",
        "model.save(\"model1withtrainingembeddinglayer.h5\")"
      ],
      "execution_count": 0,
      "outputs": [
        {
          "output_type": "stream",
          "text": [
            "Train on 52684 samples, validate on 13172 samples\n",
            "Epoch 1/50\n",
            "52684/52684 [==============================] - 32s 612us/step - loss: 0.6499 - acc: 0.6328 - val_loss: 0.6199 - val_acc: 0.6568\n",
            "Epoch 2/50\n",
            "52684/52684 [==============================] - 31s 580us/step - loss: 0.6050 - acc: 0.6665 - val_loss: 0.6049 - val_acc: 0.6606\n",
            "Epoch 3/50\n",
            "52684/52684 [==============================] - 31s 583us/step - loss: 0.5895 - acc: 0.6783 - val_loss: 0.5879 - val_acc: 0.6838\n",
            "Epoch 4/50\n",
            "52684/52684 [==============================] - 31s 580us/step - loss: 0.5852 - acc: 0.6813 - val_loss: 0.5858 - val_acc: 0.6827\n",
            "Epoch 5/50\n",
            "52684/52684 [==============================] - 31s 581us/step - loss: 0.5830 - acc: 0.6810 - val_loss: 0.5866 - val_acc: 0.6865\n",
            "Epoch 6/50\n",
            "52684/52684 [==============================] - 30s 578us/step - loss: 0.5816 - acc: 0.6841 - val_loss: 0.5847 - val_acc: 0.6795\n",
            "Epoch 7/50\n",
            "52684/52684 [==============================] - 33s 618us/step - loss: 0.5801 - acc: 0.6866 - val_loss: 0.5833 - val_acc: 0.6871\n",
            "Epoch 8/50\n",
            "52684/52684 [==============================] - 30s 578us/step - loss: 0.5799 - acc: 0.6861 - val_loss: 0.5829 - val_acc: 0.6881\n",
            "Epoch 9/50\n",
            "52684/52684 [==============================] - 30s 578us/step - loss: 0.5796 - acc: 0.6855 - val_loss: 0.5827 - val_acc: 0.6890\n",
            "Epoch 10/50\n",
            "52684/52684 [==============================] - 30s 578us/step - loss: 0.5792 - acc: 0.6878 - val_loss: 0.5829 - val_acc: 0.6904\n",
            "Epoch 11/50\n",
            "52684/52684 [==============================] - 31s 580us/step - loss: 0.5785 - acc: 0.6881 - val_loss: 0.5849 - val_acc: 0.6824\n",
            "Epoch 12/50\n",
            "52684/52684 [==============================] - 30s 578us/step - loss: 0.5790 - acc: 0.6872 - val_loss: 0.5811 - val_acc: 0.6896\n",
            "Epoch 13/50\n",
            "52684/52684 [==============================] - 31s 580us/step - loss: 0.5784 - acc: 0.6876 - val_loss: 0.5813 - val_acc: 0.6879\n",
            "Epoch 14/50\n",
            "52684/52684 [==============================] - 30s 578us/step - loss: 0.5782 - acc: 0.6872 - val_loss: 0.5817 - val_acc: 0.6904\n",
            "Epoch 15/50\n",
            "52684/52684 [==============================] - 31s 581us/step - loss: 0.5778 - acc: 0.6879 - val_loss: 0.5818 - val_acc: 0.6873\n",
            "Epoch 16/50\n",
            "52684/52684 [==============================] - 30s 578us/step - loss: 0.5776 - acc: 0.6894 - val_loss: 0.5812 - val_acc: 0.6906\n",
            "Epoch 17/50\n",
            "52684/52684 [==============================] - 32s 600us/step - loss: 0.5774 - acc: 0.6876 - val_loss: 0.5845 - val_acc: 0.6768\n",
            "Epoch 18/50\n",
            "52684/52684 [==============================] - 30s 578us/step - loss: 0.5774 - acc: 0.6890 - val_loss: 0.5810 - val_acc: 0.6865\n",
            "Epoch 19/50\n",
            "52684/52684 [==============================] - 31s 582us/step - loss: 0.5768 - acc: 0.6902 - val_loss: 0.5808 - val_acc: 0.6903\n",
            "Epoch 20/50\n",
            "52684/52684 [==============================] - 30s 577us/step - loss: 0.5764 - acc: 0.6893 - val_loss: 0.5809 - val_acc: 0.6881\n",
            "Epoch 21/50\n",
            "52684/52684 [==============================] - 31s 579us/step - loss: 0.5765 - acc: 0.6881 - val_loss: 0.5817 - val_acc: 0.6890\n",
            "Epoch 22/50\n",
            "52684/52684 [==============================] - 30s 573us/step - loss: 0.5764 - acc: 0.6904 - val_loss: 0.5809 - val_acc: 0.6892\n",
            "Epoch 23/50\n",
            "52684/52684 [==============================] - 30s 576us/step - loss: 0.5758 - acc: 0.6911 - val_loss: 0.5844 - val_acc: 0.6735\n",
            "Epoch 24/50\n",
            "52684/52684 [==============================] - 31s 580us/step - loss: 0.5761 - acc: 0.6897 - val_loss: 0.5809 - val_acc: 0.6896\n",
            "Epoch 25/50\n",
            "52684/52684 [==============================] - 30s 578us/step - loss: 0.5756 - acc: 0.6908 - val_loss: 0.5794 - val_acc: 0.6936\n",
            "Epoch 26/50\n",
            "52684/52684 [==============================] - 31s 580us/step - loss: 0.5756 - acc: 0.6906 - val_loss: 0.5799 - val_acc: 0.6871\n",
            "Epoch 27/50\n",
            "52684/52684 [==============================] - 31s 592us/step - loss: 0.5753 - acc: 0.6912 - val_loss: 0.5803 - val_acc: 0.6903\n",
            "Epoch 28/50\n",
            "52684/52684 [==============================] - 31s 581us/step - loss: 0.5757 - acc: 0.6900 - val_loss: 0.5802 - val_acc: 0.6900\n",
            "Epoch 29/50\n",
            "52684/52684 [==============================] - 31s 581us/step - loss: 0.5752 - acc: 0.6911 - val_loss: 0.5806 - val_acc: 0.6893\n",
            "Epoch 30/50\n",
            "52684/52684 [==============================] - 31s 582us/step - loss: 0.5750 - acc: 0.6918 - val_loss: 0.5801 - val_acc: 0.6896\n",
            "Epoch 31/50\n",
            "52684/52684 [==============================] - 30s 573us/step - loss: 0.5748 - acc: 0.6918 - val_loss: 0.5799 - val_acc: 0.6920\n",
            "Epoch 32/50\n",
            "52684/52684 [==============================] - 30s 577us/step - loss: 0.5751 - acc: 0.6921 - val_loss: 0.5800 - val_acc: 0.6900\n",
            "Epoch 33/50\n",
            "52684/52684 [==============================] - 30s 576us/step - loss: 0.5749 - acc: 0.6922 - val_loss: 0.5797 - val_acc: 0.6909\n",
            "Epoch 34/50\n",
            "52684/52684 [==============================] - 30s 576us/step - loss: 0.5745 - acc: 0.6933 - val_loss: 0.5802 - val_acc: 0.6907\n",
            "Epoch 35/50\n",
            "52684/52684 [==============================] - 30s 576us/step - loss: 0.5743 - acc: 0.6932 - val_loss: 0.5796 - val_acc: 0.6904\n",
            "Epoch 36/50\n",
            "52684/52684 [==============================] - 30s 576us/step - loss: 0.5740 - acc: 0.6937 - val_loss: 0.5810 - val_acc: 0.6866\n",
            "Epoch 37/50\n",
            "52684/52684 [==============================] - 31s 582us/step - loss: 0.5742 - acc: 0.6927 - val_loss: 0.5828 - val_acc: 0.6796\n",
            "Epoch 38/50\n",
            "52684/52684 [==============================] - 31s 584us/step - loss: 0.5740 - acc: 0.6933 - val_loss: 0.5798 - val_acc: 0.6903\n",
            "Epoch 39/50\n",
            "52684/52684 [==============================] - 30s 576us/step - loss: 0.5734 - acc: 0.6925 - val_loss: 0.5804 - val_acc: 0.6881\n",
            "Epoch 40/50\n",
            "52684/52684 [==============================] - 30s 577us/step - loss: 0.5734 - acc: 0.6941 - val_loss: 0.5796 - val_acc: 0.6913\n",
            "Epoch 41/50\n",
            "52684/52684 [==============================] - 31s 581us/step - loss: 0.5731 - acc: 0.6942 - val_loss: 0.5800 - val_acc: 0.6912\n",
            "Epoch 42/50\n",
            "52684/52684 [==============================] - 31s 579us/step - loss: 0.5734 - acc: 0.6946 - val_loss: 0.5830 - val_acc: 0.6776\n",
            "Epoch 43/50\n",
            "52684/52684 [==============================] - 30s 579us/step - loss: 0.5731 - acc: 0.6952 - val_loss: 0.5795 - val_acc: 0.6919\n",
            "Epoch 44/50\n",
            "52684/52684 [==============================] - 30s 579us/step - loss: 0.5727 - acc: 0.6947 - val_loss: 0.5798 - val_acc: 0.6911\n",
            "Epoch 45/50\n",
            "52684/52684 [==============================] - 30s 578us/step - loss: 0.5727 - acc: 0.6929 - val_loss: 0.5800 - val_acc: 0.6922\n",
            "Epoch 46/50\n",
            "52684/52684 [==============================] - 30s 577us/step - loss: 0.5727 - acc: 0.6941 - val_loss: 0.5796 - val_acc: 0.6915\n",
            "Epoch 47/50\n",
            "52684/52684 [==============================] - 31s 583us/step - loss: 0.5725 - acc: 0.6929 - val_loss: 0.5795 - val_acc: 0.6912\n",
            "Epoch 48/50\n",
            "52684/52684 [==============================] - 31s 590us/step - loss: 0.5723 - acc: 0.6943 - val_loss: 0.5797 - val_acc: 0.6877\n",
            "Epoch 49/50\n",
            "52684/52684 [==============================] - 31s 579us/step - loss: 0.5719 - acc: 0.6945 - val_loss: 0.5803 - val_acc: 0.6906\n",
            "Epoch 50/50\n",
            "52684/52684 [==============================] - 30s 574us/step - loss: 0.5717 - acc: 0.6943 - val_loss: 0.5800 - val_acc: 0.6899\n"
          ],
          "name": "stdout"
        }
      ]
    },
    {
      "metadata": {
        "id": "kj0iwtBsNiQG",
        "colab_type": "code",
        "outputId": "0f595fad-85ed-4c99-9a4c-bf6e37514c0d",
        "colab": {
          "base_uri": "https://localhost:8080/",
          "height": 545
        }
      },
      "cell_type": "code",
      "source": [
        "import matplotlib.pyplot as plt\n",
        "\n",
        "acc = history.history['acc']\n",
        "val_acc = history.history['val_acc']\n",
        "loss = history.history['loss']\n",
        "val_loss = history.history['val_loss']\n",
        "\n",
        "epochs = range(1, len(acc) + 1)\n",
        "\n",
        "plt.plot(epochs, acc, 'bo', label='Training acc')\n",
        "plt.plot(epochs, val_acc, 'b', label='Validation acc')\n",
        "plt.title('Training and validation accuracy')\n",
        "plt.legend()\n",
        "\n",
        "plt.figure()\n",
        "\n",
        "plt.plot(epochs, loss, 'bo', label='Training loss')\n",
        "plt.plot(epochs, val_loss, 'b', label='Validation loss')\n",
        "plt.title('Training and validation loss')\n",
        "plt.legend()\n",
        "\n",
        "plt.show()"
      ],
      "execution_count": 0,
      "outputs": [
        {
          "output_type": "display_data",
          "data": {
            "image/png": "[encoded data removed]",
            "text/plain": [
              "<Figure size 432x288 with 1 Axes>"
            ]
          },
          "metadata": {
            "tags": []
          }
        },
        {
          "output_type": "display_data",
          "data": {
            "image/png": "[encoded data removed]",
            "text/plain": [
              "<Figure size 432x288 with 1 Axes>"
            ]
          },
          "metadata": {
            "tags": []
          }
        }
      ]
    },
    {
      "metadata": {
        "id": "0Z9RKfwiduWa",
        "colab_type": "text"
      },
      "cell_type": "markdown",
      "source": [
        "# Model 3"
      ]
    },
    {
      "metadata": {
        "id": "qdE0L4IZNiMm",
        "colab_type": "code",
        "outputId": "43a21ab1-3d14-4c6b-f7be-5b8d89b915e0",
        "colab": {
          "base_uri": "https://localhost:8080/",
          "height": 90
        }
      },
      "cell_type": "code",
      "source": [
        "from keras.models import Sequential\n",
        "from keras.layers import Embedding, Flatten, Dense, LSTM\n",
        "\n",
        "units = 32\n",
        "\n",
        "model = Sequential()\n",
        "model.add(Embedding(num_events, embedding_dim))\n",
        "model.add(LSTM(units, dropout=0.2))\n",
        "model.add(Dense(1, activation='sigmoid'))"
      ],
      "execution_count": 0,
      "outputs": [
        {
          "output_type": "stream",
          "text": [
            "WARNING:tensorflow:From /usr/local/lib/python3.6/dist-packages/keras/backend/tensorflow_backend.py:3445: calling dropout (from tensorflow.python.ops.nn_ops) with keep_prob is deprecated and will be removed in a future version.\n",
            "Instructions for updating:\n",
            "Please use `rate` instead of `keep_prob`. Rate should be set to `rate = 1 - keep_prob`.\n"
          ],
          "name": "stdout"
        }
      ]
    },
    {
      "metadata": {
        "id": "Q9XL7IGTNiIK",
        "colab_type": "code",
        "colab": {}
      },
      "cell_type": "code",
      "source": [
        "model.layers[0].set_weights([embedding_matrix])\n",
        "model.layers[0].trainable = True"
      ],
      "execution_count": 0,
      "outputs": []
    },
    {
      "metadata": {
        "id": "IujpM8uENiEe",
        "colab_type": "code",
        "outputId": "ec4f7aeb-5baf-4582-b79a-d0d4b6b6a5ee",
        "colab": {
          "base_uri": "https://localhost:8080/",
          "height": 1795
        }
      },
      "cell_type": "code",
      "source": [
        "model.compile(optimizer='adam',\n",
        "              loss='binary_crossentropy',\n",
        "              metrics=['acc'])\n",
        "history = model.fit(X_train, y_train,\n",
        "                    epochs=50,\n",
        "                    batch_size=512,\n",
        "                    validation_data=(X_valid, y_valid))\n",
        "model.save(\"model1withdropout.h5\")\n"
      ],
      "execution_count": 0,
      "outputs": [
        {
          "output_type": "stream",
          "text": [
            "Train on 52684 samples, validate on 13172 samples\n",
            "Epoch 1/50\n",
            "52684/52684 [==============================] - 34s 650us/step - loss: 0.6608 - acc: 0.6075 - val_loss: 0.6257 - val_acc: 0.6509\n",
            "Epoch 2/50\n",
            "52684/52684 [==============================] - 32s 607us/step - loss: 0.6197 - acc: 0.6537 - val_loss: 0.6084 - val_acc: 0.6554\n",
            "Epoch 3/50\n",
            "52684/52684 [==============================] - 32s 606us/step - loss: 0.6054 - acc: 0.6621 - val_loss: 0.5973 - val_acc: 0.6704\n",
            "Epoch 4/50\n",
            "52684/52684 [==============================] - 32s 615us/step - loss: 0.5974 - acc: 0.6698 - val_loss: 0.5995 - val_acc: 0.6644\n",
            "Epoch 5/50\n",
            "52684/52684 [==============================] - 33s 620us/step - loss: 0.5922 - acc: 0.6753 - val_loss: 0.5888 - val_acc: 0.6777\n",
            "Epoch 6/50\n",
            "52684/52684 [==============================] - 32s 606us/step - loss: 0.5912 - acc: 0.6741 - val_loss: 0.5858 - val_acc: 0.6829\n",
            "Epoch 7/50\n",
            "52684/52684 [==============================] - 32s 611us/step - loss: 0.5880 - acc: 0.6767 - val_loss: 0.5877 - val_acc: 0.6798\n",
            "Epoch 8/50\n",
            "52684/52684 [==============================] - 32s 608us/step - loss: 0.5857 - acc: 0.6798 - val_loss: 0.5863 - val_acc: 0.6823\n",
            "Epoch 9/50\n",
            "52684/52684 [==============================] - 32s 613us/step - loss: 0.5844 - acc: 0.6819 - val_loss: 0.5899 - val_acc: 0.6750\n",
            "Epoch 10/50\n",
            "52684/52684 [==============================] - 32s 609us/step - loss: 0.5833 - acc: 0.6813 - val_loss: 0.5847 - val_acc: 0.6809\n",
            "Epoch 11/50\n",
            "52684/52684 [==============================] - 32s 609us/step - loss: 0.5827 - acc: 0.6835 - val_loss: 0.5829 - val_acc: 0.6882\n",
            "Epoch 12/50\n",
            "52684/52684 [==============================] - 32s 607us/step - loss: 0.5825 - acc: 0.6832 - val_loss: 0.5821 - val_acc: 0.6885\n",
            "Epoch 13/50\n",
            "52684/52684 [==============================] - 32s 611us/step - loss: 0.5824 - acc: 0.6829 - val_loss: 0.5821 - val_acc: 0.6884\n",
            "Epoch 14/50\n",
            "52684/52684 [==============================] - 32s 615us/step - loss: 0.5819 - acc: 0.6817 - val_loss: 0.5832 - val_acc: 0.6817\n",
            "Epoch 15/50\n",
            "52684/52684 [==============================] - 33s 624us/step - loss: 0.5813 - acc: 0.6857 - val_loss: 0.5814 - val_acc: 0.6890\n",
            "Epoch 16/50\n",
            "52684/52684 [==============================] - 32s 608us/step - loss: 0.5811 - acc: 0.6839 - val_loss: 0.5870 - val_acc: 0.6697\n",
            "Epoch 17/50\n",
            "52684/52684 [==============================] - 32s 609us/step - loss: 0.5808 - acc: 0.6842 - val_loss: 0.5823 - val_acc: 0.6868\n",
            "Epoch 18/50\n",
            "52684/52684 [==============================] - 32s 608us/step - loss: 0.5805 - acc: 0.6841 - val_loss: 0.5831 - val_acc: 0.6797\n",
            "Epoch 19/50\n",
            "52684/52684 [==============================] - 32s 609us/step - loss: 0.5802 - acc: 0.6843 - val_loss: 0.5818 - val_acc: 0.6868\n",
            "Epoch 20/50\n",
            "52684/52684 [==============================] - 32s 610us/step - loss: 0.5803 - acc: 0.6846 - val_loss: 0.5811 - val_acc: 0.6899\n",
            "Epoch 21/50\n",
            "52684/52684 [==============================] - 32s 613us/step - loss: 0.5800 - acc: 0.6842 - val_loss: 0.5812 - val_acc: 0.6872\n",
            "Epoch 22/50\n",
            "52684/52684 [==============================] - 32s 613us/step - loss: 0.5796 - acc: 0.6851 - val_loss: 0.5810 - val_acc: 0.6886\n",
            "Epoch 23/50\n",
            "52684/52684 [==============================] - 33s 617us/step - loss: 0.5793 - acc: 0.6868 - val_loss: 0.5804 - val_acc: 0.6905\n",
            "Epoch 24/50\n",
            "52684/52684 [==============================] - 32s 616us/step - loss: 0.5789 - acc: 0.6871 - val_loss: 0.5806 - val_acc: 0.6912\n",
            "Epoch 25/50\n",
            "52684/52684 [==============================] - 32s 616us/step - loss: 0.5786 - acc: 0.6876 - val_loss: 0.5807 - val_acc: 0.6875\n",
            "Epoch 26/50\n",
            "52684/52684 [==============================] - 32s 613us/step - loss: 0.5783 - acc: 0.6862 - val_loss: 0.5805 - val_acc: 0.6864\n",
            "Epoch 27/50\n",
            "52684/52684 [==============================] - 32s 608us/step - loss: 0.5783 - acc: 0.6874 - val_loss: 0.5812 - val_acc: 0.6891\n",
            "Epoch 28/50\n",
            "52684/52684 [==============================] - 32s 608us/step - loss: 0.5783 - acc: 0.6873 - val_loss: 0.5801 - val_acc: 0.6874\n",
            "Epoch 29/50\n",
            "52684/52684 [==============================] - 32s 613us/step - loss: 0.5784 - acc: 0.6872 - val_loss: 0.5794 - val_acc: 0.6901\n",
            "Epoch 30/50\n",
            "52684/52684 [==============================] - 32s 609us/step - loss: 0.5780 - acc: 0.6859 - val_loss: 0.5799 - val_acc: 0.6896\n",
            "Epoch 31/50\n",
            "52684/52684 [==============================] - 32s 611us/step - loss: 0.5776 - acc: 0.6869 - val_loss: 0.5810 - val_acc: 0.6783\n",
            "Epoch 32/50\n",
            "52684/52684 [==============================] - 32s 611us/step - loss: 0.5780 - acc: 0.6863 - val_loss: 0.5803 - val_acc: 0.6870\n",
            "Epoch 33/50\n",
            "52684/52684 [==============================] - 33s 617us/step - loss: 0.5780 - acc: 0.6857 - val_loss: 0.5795 - val_acc: 0.6885\n",
            "Epoch 34/50\n",
            "52684/52684 [==============================] - 33s 624us/step - loss: 0.5774 - acc: 0.6877 - val_loss: 0.5799 - val_acc: 0.6900\n",
            "Epoch 35/50\n",
            "52684/52684 [==============================] - 32s 611us/step - loss: 0.5770 - acc: 0.6861 - val_loss: 0.5803 - val_acc: 0.6875\n",
            "Epoch 36/50\n",
            "52684/52684 [==============================] - 32s 609us/step - loss: 0.5771 - acc: 0.6891 - val_loss: 0.5809 - val_acc: 0.6858\n",
            "Epoch 37/50\n",
            "52684/52684 [==============================] - 32s 611us/step - loss: 0.5764 - acc: 0.6883 - val_loss: 0.5792 - val_acc: 0.6908\n",
            "Epoch 38/50\n",
            "52684/52684 [==============================] - 32s 610us/step - loss: 0.5768 - acc: 0.6887 - val_loss: 0.5795 - val_acc: 0.6896\n",
            "Epoch 39/50\n",
            "52684/52684 [==============================] - 32s 613us/step - loss: 0.5760 - acc: 0.6898 - val_loss: 0.5802 - val_acc: 0.6870\n",
            "Epoch 40/50\n",
            "52684/52684 [==============================] - 32s 610us/step - loss: 0.5761 - acc: 0.6901 - val_loss: 0.5803 - val_acc: 0.6814\n",
            "Epoch 41/50\n",
            "52684/52684 [==============================] - 32s 610us/step - loss: 0.5761 - acc: 0.6895 - val_loss: 0.5794 - val_acc: 0.6874\n",
            "Epoch 42/50\n",
            "52684/52684 [==============================] - 32s 609us/step - loss: 0.5760 - acc: 0.6908 - val_loss: 0.5795 - val_acc: 0.6883\n",
            "Epoch 43/50\n",
            "52684/52684 [==============================] - 32s 607us/step - loss: 0.5759 - acc: 0.6909 - val_loss: 0.5788 - val_acc: 0.6870\n",
            "Epoch 44/50\n",
            "52684/52684 [==============================] - 33s 617us/step - loss: 0.5758 - acc: 0.6899 - val_loss: 0.5788 - val_acc: 0.6910\n",
            "Epoch 45/50\n",
            "52684/52684 [==============================] - 32s 608us/step - loss: 0.5754 - acc: 0.6912 - val_loss: 0.5791 - val_acc: 0.6901\n",
            "Epoch 46/50\n",
            "52684/52684 [==============================] - 32s 605us/step - loss: 0.5748 - acc: 0.6918 - val_loss: 0.5791 - val_acc: 0.6821\n",
            "Epoch 47/50\n",
            "52684/52684 [==============================] - 32s 607us/step - loss: 0.5752 - acc: 0.6902 - val_loss: 0.5788 - val_acc: 0.6890\n",
            "Epoch 48/50\n",
            "52684/52684 [==============================] - 32s 605us/step - loss: 0.5749 - acc: 0.6908 - val_loss: 0.5791 - val_acc: 0.6884\n",
            "Epoch 49/50\n",
            "52684/52684 [==============================] - 32s 604us/step - loss: 0.5748 - acc: 0.6916 - val_loss: 0.5780 - val_acc: 0.6930\n",
            "Epoch 50/50\n",
            "52684/52684 [==============================] - 32s 605us/step - loss: 0.5747 - acc: 0.6933 - val_loss: 0.5794 - val_acc: 0.6882\n"
          ],
          "name": "stdout"
        }
      ]
    },
    {
      "metadata": {
        "id": "pQrsvG5OOBtx",
        "colab_type": "code",
        "outputId": "28ad78db-1f7b-4cd4-85f3-9d373e664d25",
        "colab": {
          "base_uri": "https://localhost:8080/",
          "height": 545
        }
      },
      "cell_type": "code",
      "source": [
        "import matplotlib.pyplot as plt\n",
        "\n",
        "acc = history.history['acc']\n",
        "val_acc = history.history['val_acc']\n",
        "loss = history.history['loss']\n",
        "val_loss = history.history['val_loss']\n",
        "\n",
        "epochs = range(1, len(acc) + 1)\n",
        "\n",
        "plt.plot(epochs, acc, 'bo', label='Training acc')\n",
        "plt.plot(epochs, val_acc, 'b', label='Validation acc')\n",
        "plt.title('Training and validation accuracy')\n",
        "plt.legend()\n",
        "\n",
        "plt.figure()\n",
        "\n",
        "plt.plot(epochs, loss, 'bo', label='Training loss')\n",
        "plt.plot(epochs, val_loss, 'b', label='Validation loss')\n",
        "plt.title('Training and validation loss')\n",
        "plt.legend()\n",
        "\n",
        "plt.show()"
      ],
      "execution_count": 0,
      "outputs": [
        {
          "output_type": "display_data",
          "data": {
            "image/png": "[encoded data removed]",
            "text/plain": [
              "<Figure size 432x288 with 1 Axes>"
            ]
          },
          "metadata": {
            "tags": []
          }
        },
        {
          "output_type": "display_data",
          "data": {
            "image/png": "[encoded data removed]",
            "text/plain": [
              "<Figure size 432x288 with 1 Axes>"
            ]
          },
          "metadata": {
            "tags": []
          }
        }
      ]
    },
    {
      "metadata": {
        "id": "oP1-DjQxd6bC",
        "colab_type": "text"
      },
      "cell_type": "markdown",
      "source": [
        "# Model 4"
      ]
    },
    {
      "metadata": {
        "id": "27CdbDcn-SUi",
        "colab_type": "code",
        "outputId": "2ce27632-d1e2-4826-bce2-32be7b0f84c2",
        "colab": {
          "base_uri": "https://localhost:8080/",
          "height": 1734
        }
      },
      "cell_type": "code",
      "source": [
        "from keras.models import Sequential\n",
        "from keras.layers import Embedding, Flatten, Dense, LSTM\n",
        "\n",
        "units = 32\n",
        "\n",
        "model = Sequential()\n",
        "model.add(Embedding(num_events, embedding_dim))\n",
        "model.add(LSTM(units, dropout=0.5, recurrent_dropout=0.5))\n",
        "model.add(Dense(1, activation='sigmoid'))\n",
        "\n",
        "\n",
        "model.layers[0].set_weights([embedding_matrix])\n",
        "model.layers[0].trainable = True\n",
        "\n",
        "model.compile(optimizer='adam',\n",
        "              loss='binary_crossentropy',\n",
        "              metrics=['acc'])\n",
        "history = model.fit(X_train, y_train,\n",
        "                    epochs=50,\n",
        "                    batch_size=512,\n",
        "                    validation_data=(X_valid, y_valid))\n",
        "model.save(\"model1_with_dropoutandrecurr0.5.h5\")"
      ],
      "execution_count": 0,
      "outputs": [
        {
          "output_type": "stream",
          "text": [
            "Train on 52684 samples, validate on 13172 samples\n",
            "Epoch 1/50\n",
            "52684/52684 [==============================] - 38s 724us/step - loss: 0.6751 - acc: 0.5761 - val_loss: 0.6412 - val_acc: 0.6461\n",
            "Epoch 2/50\n",
            "52684/52684 [==============================] - 36s 687us/step - loss: 0.6402 - acc: 0.6402 - val_loss: 0.6186 - val_acc: 0.6477\n",
            "Epoch 3/50\n",
            "52684/52684 [==============================] - 36s 686us/step - loss: 0.6231 - acc: 0.6502 - val_loss: 0.6076 - val_acc: 0.6535\n",
            "Epoch 4/50\n",
            "52684/52684 [==============================] - 36s 682us/step - loss: 0.6139 - acc: 0.6545 - val_loss: 0.6020 - val_acc: 0.6619\n",
            "Epoch 5/50\n",
            "52684/52684 [==============================] - 36s 683us/step - loss: 0.6093 - acc: 0.6573 - val_loss: 0.5989 - val_acc: 0.6681\n",
            "Epoch 6/50\n",
            "52684/52684 [==============================] - 36s 684us/step - loss: 0.6047 - acc: 0.6605 - val_loss: 0.5962 - val_acc: 0.6695\n",
            "Epoch 7/50\n",
            "52684/52684 [==============================] - 36s 692us/step - loss: 0.6022 - acc: 0.6643 - val_loss: 0.5937 - val_acc: 0.6736\n",
            "Epoch 8/50\n",
            "52684/52684 [==============================] - 37s 695us/step - loss: 0.5975 - acc: 0.6693 - val_loss: 0.5898 - val_acc: 0.6789\n",
            "Epoch 9/50\n",
            "52684/52684 [==============================] - 37s 694us/step - loss: 0.5946 - acc: 0.6698 - val_loss: 0.5886 - val_acc: 0.6785\n",
            "Epoch 10/50\n",
            "52684/52684 [==============================] - 36s 688us/step - loss: 0.5939 - acc: 0.6708 - val_loss: 0.5887 - val_acc: 0.6750\n",
            "Epoch 11/50\n",
            "52684/52684 [==============================] - 36s 689us/step - loss: 0.5913 - acc: 0.6745 - val_loss: 0.5865 - val_acc: 0.6827\n",
            "Epoch 12/50\n",
            "52684/52684 [==============================] - 36s 691us/step - loss: 0.5909 - acc: 0.6736 - val_loss: 0.5865 - val_acc: 0.6775\n",
            "Epoch 13/50\n",
            "52684/52684 [==============================] - 36s 690us/step - loss: 0.5886 - acc: 0.6775 - val_loss: 0.5865 - val_acc: 0.6796\n",
            "Epoch 14/50\n",
            "52684/52684 [==============================] - 36s 688us/step - loss: 0.5890 - acc: 0.6772 - val_loss: 0.5852 - val_acc: 0.6855\n",
            "Epoch 15/50\n",
            "52684/52684 [==============================] - 36s 685us/step - loss: 0.5870 - acc: 0.6774 - val_loss: 0.5851 - val_acc: 0.6855\n",
            "Epoch 16/50\n",
            "52684/52684 [==============================] - 37s 702us/step - loss: 0.5873 - acc: 0.6781 - val_loss: 0.5855 - val_acc: 0.6814\n",
            "Epoch 17/50\n",
            "52684/52684 [==============================] - 37s 696us/step - loss: 0.5871 - acc: 0.6777 - val_loss: 0.5852 - val_acc: 0.6829\n",
            "Epoch 18/50\n",
            "52684/52684 [==============================] - 36s 692us/step - loss: 0.5868 - acc: 0.6770 - val_loss: 0.5845 - val_acc: 0.6855\n",
            "Epoch 19/50\n",
            "52684/52684 [==============================] - 36s 688us/step - loss: 0.5859 - acc: 0.6788 - val_loss: 0.5853 - val_acc: 0.6808\n",
            "Epoch 20/50\n",
            "52684/52684 [==============================] - 36s 686us/step - loss: 0.5859 - acc: 0.6784 - val_loss: 0.5844 - val_acc: 0.6856\n",
            "Epoch 21/50\n",
            "52684/52684 [==============================] - 36s 689us/step - loss: 0.5853 - acc: 0.6782 - val_loss: 0.5844 - val_acc: 0.6824\n",
            "Epoch 22/50\n",
            "52684/52684 [==============================] - 36s 688us/step - loss: 0.5848 - acc: 0.6792 - val_loss: 0.5840 - val_acc: 0.6828\n",
            "Epoch 23/50\n",
            "52684/52684 [==============================] - 36s 690us/step - loss: 0.5844 - acc: 0.6798 - val_loss: 0.5846 - val_acc: 0.6810\n",
            "Epoch 24/50\n",
            "52684/52684 [==============================] - 36s 689us/step - loss: 0.5840 - acc: 0.6805 - val_loss: 0.5842 - val_acc: 0.6816\n",
            "Epoch 25/50\n",
            "52684/52684 [==============================] - 37s 706us/step - loss: 0.5832 - acc: 0.6837 - val_loss: 0.5837 - val_acc: 0.6839\n",
            "Epoch 26/50\n",
            "52684/52684 [==============================] - 37s 700us/step - loss: 0.5837 - acc: 0.6806 - val_loss: 0.5830 - val_acc: 0.6843\n",
            "Epoch 27/50\n",
            "52684/52684 [==============================] - 37s 697us/step - loss: 0.5836 - acc: 0.6822 - val_loss: 0.5833 - val_acc: 0.6830\n",
            "Epoch 28/50\n",
            "52684/52684 [==============================] - 36s 690us/step - loss: 0.5834 - acc: 0.6799 - val_loss: 0.5830 - val_acc: 0.6839\n",
            "Epoch 29/50\n",
            "52684/52684 [==============================] - 36s 687us/step - loss: 0.5830 - acc: 0.6794 - val_loss: 0.5833 - val_acc: 0.6847\n",
            "Epoch 30/50\n",
            "52684/52684 [==============================] - 36s 688us/step - loss: 0.5832 - acc: 0.6814 - val_loss: 0.5826 - val_acc: 0.6884\n",
            "Epoch 31/50\n",
            "52684/52684 [==============================] - 36s 687us/step - loss: 0.5828 - acc: 0.6831 - val_loss: 0.5827 - val_acc: 0.6882\n",
            "Epoch 32/50\n",
            "52684/52684 [==============================] - 36s 688us/step - loss: 0.5816 - acc: 0.6824 - val_loss: 0.5829 - val_acc: 0.6845\n",
            "Epoch 33/50\n",
            "52684/52684 [==============================] - 37s 700us/step - loss: 0.5824 - acc: 0.6814 - val_loss: 0.5830 - val_acc: 0.6833\n",
            "Epoch 34/50\n",
            "52684/52684 [==============================] - 37s 697us/step - loss: 0.5820 - acc: 0.6816 - val_loss: 0.5821 - val_acc: 0.6869\n",
            "Epoch 35/50\n",
            "52684/52684 [==============================] - 36s 685us/step - loss: 0.5812 - acc: 0.6826 - val_loss: 0.5820 - val_acc: 0.6874\n",
            "Epoch 36/50\n",
            "52684/52684 [==============================] - 36s 684us/step - loss: 0.5824 - acc: 0.6821 - val_loss: 0.5824 - val_acc: 0.6805\n",
            "Epoch 37/50\n",
            "52684/52684 [==============================] - 36s 686us/step - loss: 0.5814 - acc: 0.6830 - val_loss: 0.5825 - val_acc: 0.6823\n",
            "Epoch 38/50\n",
            "52684/52684 [==============================] - 36s 682us/step - loss: 0.5818 - acc: 0.6808 - val_loss: 0.5820 - val_acc: 0.6863\n",
            "Epoch 39/50\n",
            "52684/52684 [==============================] - 36s 683us/step - loss: 0.5813 - acc: 0.6836 - val_loss: 0.5821 - val_acc: 0.6838\n",
            "Epoch 40/50\n",
            "52684/52684 [==============================] - 36s 685us/step - loss: 0.5804 - acc: 0.6828 - val_loss: 0.5825 - val_acc: 0.6809\n",
            "Epoch 41/50\n",
            "52684/52684 [==============================] - 36s 690us/step - loss: 0.5808 - acc: 0.6832 - val_loss: 0.5815 - val_acc: 0.6883\n",
            "Epoch 42/50\n",
            "52684/52684 [==============================] - 37s 697us/step - loss: 0.5808 - acc: 0.6827 - val_loss: 0.5821 - val_acc: 0.6805\n",
            "Epoch 43/50\n",
            "52684/52684 [==============================] - 36s 686us/step - loss: 0.5812 - acc: 0.6830 - val_loss: 0.5814 - val_acc: 0.6890\n",
            "Epoch 44/50\n",
            "52684/52684 [==============================] - 36s 684us/step - loss: 0.5806 - acc: 0.6819 - val_loss: 0.5823 - val_acc: 0.6796\n",
            "Epoch 45/50\n",
            "52684/52684 [==============================] - 36s 684us/step - loss: 0.5804 - acc: 0.6823 - val_loss: 0.5815 - val_acc: 0.6821\n",
            "Epoch 46/50\n",
            "52684/52684 [==============================] - 36s 683us/step - loss: 0.5803 - acc: 0.6848 - val_loss: 0.5813 - val_acc: 0.6874\n",
            "Epoch 47/50\n",
            "52684/52684 [==============================] - 36s 683us/step - loss: 0.5804 - acc: 0.6838 - val_loss: 0.5812 - val_acc: 0.6881\n",
            "Epoch 48/50\n",
            "52684/52684 [==============================] - 36s 684us/step - loss: 0.5805 - acc: 0.6820 - val_loss: 0.5816 - val_acc: 0.6799\n",
            "Epoch 49/50\n",
            "52684/52684 [==============================] - 36s 683us/step - loss: 0.5800 - acc: 0.6845 - val_loss: 0.5811 - val_acc: 0.6834\n",
            "Epoch 50/50\n",
            "52684/52684 [==============================] - 36s 692us/step - loss: 0.5801 - acc: 0.6829 - val_loss: 0.5808 - val_acc: 0.6849\n"
          ],
          "name": "stdout"
        }
      ]
    },
    {
      "metadata": {
        "id": "x03ta8JH_MTW",
        "colab_type": "code",
        "outputId": "99c4fd5d-9938-4bc4-eb4d-ca8f55872cf5",
        "colab": {
          "base_uri": "https://localhost:8080/",
          "height": 545
        }
      },
      "cell_type": "code",
      "source": [
        "import matplotlib.pyplot as plt\n",
        "\n",
        "acc = history.history['acc']\n",
        "val_acc = history.history['val_acc']\n",
        "loss = history.history['loss']\n",
        "val_loss = history.history['val_loss']\n",
        "\n",
        "epochs = range(1, len(acc) + 1)\n",
        "\n",
        "plt.plot(epochs, acc, 'bo', label='Training acc')\n",
        "plt.plot(epochs, val_acc, 'b', label='Validation acc')\n",
        "plt.title('Training and validation accuracy')\n",
        "plt.legend()\n",
        "\n",
        "plt.figure()\n",
        "\n",
        "plt.plot(epochs, loss, 'bo', label='Training loss')\n",
        "plt.plot(epochs, val_loss, 'b', label='Validation loss')\n",
        "plt.title('Training and validation loss')\n",
        "plt.legend()\n",
        "\n",
        "plt.show()"
      ],
      "execution_count": 0,
      "outputs": [
        {
          "output_type": "display_data",
          "data": {
            "image/png": "[encoded data removed]",
            "text/plain": [
              "<Figure size 432x288 with 1 Axes>"
            ]
          },
          "metadata": {
            "tags": []
          }
        },
        {
          "output_type": "display_data",
          "data": {
            "image/png": "[encoded data removed]",
            "text/plain": [
              "<Figure size 432x288 with 1 Axes>"
            ]
          },
          "metadata": {
            "tags": []
          }
        }
      ]
    },
    {
      "metadata": {
        "id": "yXkHiA_6eEuG",
        "colab_type": "text"
      },
      "cell_type": "markdown",
      "source": [
        "# Other Models"
      ]
    },
    {
      "metadata": {
        "id": "ZtAbAVoBfZhQ",
        "colab_type": "code",
        "outputId": "d494d183-716c-492d-e5cd-fb2d771922ae",
        "colab": {
          "base_uri": "https://localhost:8080/",
          "height": 1907
        }
      },
      "cell_type": "code",
      "source": [
        "from keras.models import Sequential\n",
        "from keras.layers import Embedding, Flatten, Dense, LSTM\n",
        "\n",
        "units = 32\n",
        "\n",
        "model = Sequential()\n",
        "model.add(Embedding(num_events, embedding_dim))\n",
        "model.add(LSTM(units, dropout=0.4, recurrent_dropout=0.4))\n",
        "model.add(Dense(1, activation='sigmoid'))\n",
        "\n",
        "\n",
        "model.layers[0].set_weights([embedding_matrix])\n",
        "model.layers[0].trainable = True\n",
        "\n",
        "model.compile(optimizer='adam',\n",
        "              loss='binary_crossentropy',\n",
        "              metrics=['acc'])\n",
        "history = model.fit(X_train, y_train,\n",
        "                    epochs=50,\n",
        "                    batch_size=512,\n",
        "                    validation_data=(X_valid, y_valid))\n",
        "model.save(\"model1withdropout0.4.h5\")"
      ],
      "execution_count": 0,
      "outputs": [
        {
          "output_type": "stream",
          "text": [
            "WARNING:tensorflow:From /usr/local/lib/python3.6/dist-packages/tensorflow/python/framework/op_def_library.py:263: colocate_with (from tensorflow.python.framework.ops) is deprecated and will be removed in a future version.\n",
            "Instructions for updating:\n",
            "Colocations handled automatically by placer.\n",
            "WARNING:tensorflow:From /usr/local/lib/python3.6/dist-packages/keras/backend/tensorflow_backend.py:3445: calling dropout (from tensorflow.python.ops.nn_ops) with keep_prob is deprecated and will be removed in a future version.\n",
            "Instructions for updating:\n",
            "Please use `rate` instead of `keep_prob`. Rate should be set to `rate = 1 - keep_prob`.\n",
            "WARNING:tensorflow:From /usr/local/lib/python3.6/dist-packages/tensorflow/python/ops/math_ops.py:3066: to_int32 (from tensorflow.python.ops.math_ops) is deprecated and will be removed in a future version.\n",
            "Instructions for updating:\n",
            "Use tf.cast instead.\n",
            "Train on 52684 samples, validate on 13172 samples\n",
            "Epoch 1/50\n",
            "52684/52684 [==============================] - 38s 716us/step - loss: 0.6704 - acc: 0.5874 - val_loss: 0.6360 - val_acc: 0.6438\n",
            "Epoch 2/50\n",
            "52684/52684 [==============================] - 36s 687us/step - loss: 0.6362 - acc: 0.6432 - val_loss: 0.6173 - val_acc: 0.6498\n",
            "Epoch 3/50\n",
            "52684/52684 [==============================] - 36s 689us/step - loss: 0.6210 - acc: 0.6515 - val_loss: 0.6072 - val_acc: 0.6587\n",
            "Epoch 4/50\n",
            "52684/52684 [==============================] - 36s 685us/step - loss: 0.6125 - acc: 0.6548 - val_loss: 0.6017 - val_acc: 0.6660\n",
            "Epoch 5/50\n",
            "52684/52684 [==============================] - 37s 698us/step - loss: 0.6074 - acc: 0.6587 - val_loss: 0.5972 - val_acc: 0.6724\n",
            "Epoch 6/50\n",
            "52684/52684 [==============================] - 36s 685us/step - loss: 0.6027 - acc: 0.6644 - val_loss: 0.5948 - val_acc: 0.6735\n",
            "Epoch 7/50\n",
            "52684/52684 [==============================] - 36s 690us/step - loss: 0.5985 - acc: 0.6645 - val_loss: 0.5929 - val_acc: 0.6735\n",
            "Epoch 8/50\n",
            "52684/52684 [==============================] - 37s 694us/step - loss: 0.5944 - acc: 0.6717 - val_loss: 0.5876 - val_acc: 0.6790\n",
            "Epoch 9/50\n",
            "52684/52684 [==============================] - 36s 689us/step - loss: 0.5907 - acc: 0.6749 - val_loss: 0.5876 - val_acc: 0.6791\n",
            "Epoch 10/50\n",
            "52684/52684 [==============================] - 36s 688us/step - loss: 0.5884 - acc: 0.6781 - val_loss: 0.5866 - val_acc: 0.6760\n",
            "Epoch 11/50\n",
            "52684/52684 [==============================] - 36s 688us/step - loss: 0.5871 - acc: 0.6772 - val_loss: 0.5842 - val_acc: 0.6852\n",
            "Epoch 12/50\n",
            "52684/52684 [==============================] - 36s 687us/step - loss: 0.5865 - acc: 0.6788 - val_loss: 0.5844 - val_acc: 0.6794\n",
            "Epoch 13/50\n",
            "52684/52684 [==============================] - 36s 691us/step - loss: 0.5852 - acc: 0.6801 - val_loss: 0.5861 - val_acc: 0.6772\n",
            "Epoch 14/50\n",
            "52684/52684 [==============================] - 37s 699us/step - loss: 0.5851 - acc: 0.6789 - val_loss: 0.5864 - val_acc: 0.6773\n",
            "Epoch 15/50\n",
            "52684/52684 [==============================] - 36s 688us/step - loss: 0.5844 - acc: 0.6808 - val_loss: 0.5839 - val_acc: 0.6824\n",
            "Epoch 16/50\n",
            "52684/52684 [==============================] - 37s 693us/step - loss: 0.5840 - acc: 0.6807 - val_loss: 0.5832 - val_acc: 0.6869\n",
            "Epoch 17/50\n",
            "52684/52684 [==============================] - 36s 685us/step - loss: 0.5829 - acc: 0.6816 - val_loss: 0.5839 - val_acc: 0.6801\n",
            "Epoch 18/50\n",
            "52684/52684 [==============================] - 36s 686us/step - loss: 0.5833 - acc: 0.6805 - val_loss: 0.5830 - val_acc: 0.6842\n",
            "Epoch 19/50\n",
            "52684/52684 [==============================] - 36s 688us/step - loss: 0.5829 - acc: 0.6815 - val_loss: 0.5844 - val_acc: 0.6767\n",
            "Epoch 20/50\n",
            "52684/52684 [==============================] - 36s 686us/step - loss: 0.5825 - acc: 0.6814 - val_loss: 0.5839 - val_acc: 0.6802\n",
            "Epoch 21/50\n",
            "52684/52684 [==============================] - 36s 685us/step - loss: 0.5824 - acc: 0.6827 - val_loss: 0.5827 - val_acc: 0.6824\n",
            "Epoch 22/50\n",
            "52684/52684 [==============================] - 37s 693us/step - loss: 0.5827 - acc: 0.6813 - val_loss: 0.5828 - val_acc: 0.6841\n",
            "Epoch 23/50\n",
            "52684/52684 [==============================] - 36s 683us/step - loss: 0.5819 - acc: 0.6829 - val_loss: 0.5824 - val_acc: 0.6814\n",
            "Epoch 24/50\n",
            "52684/52684 [==============================] - 36s 688us/step - loss: 0.5815 - acc: 0.6829 - val_loss: 0.5818 - val_acc: 0.6862\n",
            "Epoch 25/50\n",
            "52684/52684 [==============================] - 36s 687us/step - loss: 0.5812 - acc: 0.6839 - val_loss: 0.5816 - val_acc: 0.6873\n",
            "Epoch 26/50\n",
            "52684/52684 [==============================] - 36s 683us/step - loss: 0.5812 - acc: 0.6824 - val_loss: 0.5818 - val_acc: 0.6840\n",
            "Epoch 27/50\n",
            "52684/52684 [==============================] - 36s 684us/step - loss: 0.5804 - acc: 0.6826 - val_loss: 0.5822 - val_acc: 0.6804\n",
            "Epoch 28/50\n",
            "52684/52684 [==============================] - 36s 684us/step - loss: 0.5801 - acc: 0.6844 - val_loss: 0.5818 - val_acc: 0.6811\n",
            "Epoch 29/50\n",
            "52684/52684 [==============================] - 36s 691us/step - loss: 0.5796 - acc: 0.6849 - val_loss: 0.5810 - val_acc: 0.6885\n",
            "Epoch 30/50\n",
            "52684/52684 [==============================] - 36s 689us/step - loss: 0.5799 - acc: 0.6857 - val_loss: 0.5814 - val_acc: 0.6814\n",
            "Epoch 31/50\n",
            "52684/52684 [==============================] - 37s 705us/step - loss: 0.5804 - acc: 0.6846 - val_loss: 0.5810 - val_acc: 0.6879\n",
            "Epoch 32/50\n",
            "52684/52684 [==============================] - 36s 690us/step - loss: 0.5799 - acc: 0.6856 - val_loss: 0.5809 - val_acc: 0.6895\n",
            "Epoch 33/50\n",
            "52684/52684 [==============================] - 37s 697us/step - loss: 0.5797 - acc: 0.6862 - val_loss: 0.5808 - val_acc: 0.6871\n",
            "Epoch 34/50\n",
            "52684/52684 [==============================] - 36s 691us/step - loss: 0.5793 - acc: 0.6850 - val_loss: 0.5812 - val_acc: 0.6863\n",
            "Epoch 35/50\n",
            "52684/52684 [==============================] - 36s 689us/step - loss: 0.5798 - acc: 0.6842 - val_loss: 0.5804 - val_acc: 0.6897\n",
            "Epoch 36/50\n",
            "52684/52684 [==============================] - 36s 691us/step - loss: 0.5795 - acc: 0.6862 - val_loss: 0.5805 - val_acc: 0.6893\n",
            "Epoch 37/50\n",
            "52684/52684 [==============================] - 36s 689us/step - loss: 0.5782 - acc: 0.6869 - val_loss: 0.5803 - val_acc: 0.6884\n",
            "Epoch 38/50\n",
            "52684/52684 [==============================] - 36s 688us/step - loss: 0.5792 - acc: 0.6846 - val_loss: 0.5815 - val_acc: 0.6811\n",
            "Epoch 39/50\n",
            "52684/52684 [==============================] - 37s 697us/step - loss: 0.5789 - acc: 0.6852 - val_loss: 0.5809 - val_acc: 0.6852\n",
            "Epoch 40/50\n",
            "52684/52684 [==============================] - 37s 700us/step - loss: 0.5784 - acc: 0.6846 - val_loss: 0.5818 - val_acc: 0.6807\n",
            "Epoch 41/50\n",
            "52684/52684 [==============================] - 37s 700us/step - loss: 0.5787 - acc: 0.6870 - val_loss: 0.5803 - val_acc: 0.6868\n",
            "Epoch 42/50\n",
            "52684/52684 [==============================] - 36s 691us/step - loss: 0.5787 - acc: 0.6869 - val_loss: 0.5798 - val_acc: 0.6899\n",
            "Epoch 43/50\n",
            "52684/52684 [==============================] - 36s 688us/step - loss: 0.5785 - acc: 0.6865 - val_loss: 0.5805 - val_acc: 0.6834\n",
            "Epoch 44/50\n",
            "52684/52684 [==============================] - 36s 689us/step - loss: 0.5783 - acc: 0.6858 - val_loss: 0.5800 - val_acc: 0.6867\n",
            "Epoch 45/50\n",
            "52684/52684 [==============================] - 36s 690us/step - loss: 0.5777 - acc: 0.6872 - val_loss: 0.5803 - val_acc: 0.6884\n",
            "Epoch 46/50\n",
            "52684/52684 [==============================] - 36s 689us/step - loss: 0.5782 - acc: 0.6868 - val_loss: 0.5803 - val_acc: 0.6868\n",
            "Epoch 47/50\n",
            "52684/52684 [==============================] - 36s 688us/step - loss: 0.5778 - acc: 0.6867 - val_loss: 0.5805 - val_acc: 0.6852\n",
            "Epoch 48/50\n",
            "52684/52684 [==============================] - 37s 702us/step - loss: 0.5779 - acc: 0.6873 - val_loss: 0.5800 - val_acc: 0.6877\n",
            "Epoch 49/50\n",
            "52684/52684 [==============================] - 36s 689us/step - loss: 0.5776 - acc: 0.6867 - val_loss: 0.5796 - val_acc: 0.6860\n",
            "Epoch 50/50\n",
            "52684/52684 [==============================] - 37s 697us/step - loss: 0.5771 - acc: 0.6867 - val_loss: 0.5794 - val_acc: 0.6902\n"
          ],
          "name": "stdout"
        }
      ]
    },
    {
      "metadata": {
        "id": "WRiLZOAAzsKe",
        "colab_type": "code",
        "outputId": "b8955f2b-a90f-457f-e59b-07b486e03b0e",
        "colab": {
          "base_uri": "https://localhost:8080/",
          "height": 545
        }
      },
      "cell_type": "code",
      "source": [
        "import matplotlib.pyplot as plt\n",
        "\n",
        "acc = history.history['acc']\n",
        "val_acc = history.history['val_acc']\n",
        "loss = history.history['loss']\n",
        "val_loss = history.history['val_loss']\n",
        "\n",
        "epochs = range(1, len(acc) + 1)\n",
        "\n",
        "plt.plot(epochs, acc, 'bo', label='Training acc')\n",
        "plt.plot(epochs, val_acc, 'b', label='Validation acc')\n",
        "plt.title('Training and validation accuracy')\n",
        "plt.legend()\n",
        "\n",
        "plt.figure()\n",
        "\n",
        "plt.plot(epochs, loss, 'bo', label='Training loss')\n",
        "plt.plot(epochs, val_loss, 'b', label='Validation loss')\n",
        "plt.title('Training and validation loss')\n",
        "plt.legend()\n",
        "\n",
        "plt.show()"
      ],
      "execution_count": 0,
      "outputs": [
        {
          "output_type": "display_data",
          "data": {
            "image/png": "[encoded data removed]",
            "text/plain": [
              "<Figure size 432x288 with 1 Axes>"
            ]
          },
          "metadata": {
            "tags": []
          }
        },
        {
          "output_type": "display_data",
          "data": {
            "image/png": "[encoded data removed]",
            "text/plain": [
              "<Figure size 432x288 with 1 Axes>"
            ]
          },
          "metadata": {
            "tags": []
          }
        }
      ]
    },
    {
      "metadata": {
        "id": "lr9DkYhya9Tp",
        "colab_type": "code",
        "colab": {}
      },
      "cell_type": "code",
      "source": [
        ""
      ],
      "execution_count": 0,
      "outputs": []
    }
  ]
}