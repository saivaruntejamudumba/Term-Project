{
  "nbformat": 4,
  "nbformat_minor": 0,
  "metadata": {
    "colab": {
      "name": "meanlength project.ipynb",
      "version": "0.3.2",
      "provenance": [],
      "collapsed_sections": [],
      "toc_visible": true
    },
    "kernelspec": {
      "name": "python3",
      "display_name": "Python 3"
    },
    "accelerator": "TPU"
  },
  "cells": [
    {
      "metadata": {
        "id": "aUTDJ1nZkJ9V",
        "colab_type": "code",
        "colab": {}
      },
      "cell_type": "code",
      "source": [
        ""
      ],
      "execution_count": 0,
      "outputs": []
    },
    {
      "metadata": {
        "id": "4mzigaSWqFH4",
        "colab_type": "text"
      },
      "cell_type": "markdown",
      "source": [
        "# Sequential Model Analysis with mean length for embedding dimension"
      ]
    },
    {
      "metadata": {
        "id": "RxD9kihmqNXy",
        "colab_type": "code",
        "colab": {}
      },
      "cell_type": "code",
      "source": [
        "import pickle\n",
        "import matplotlib.pyplot as plt"
      ],
      "execution_count": 0,
      "outputs": []
    },
    {
      "metadata": {
        "id": "m8drCqRUqZRq",
        "colab_type": "code",
        "colab": {}
      },
      "cell_type": "code",
      "source": [
        "with open('Waze-Data-Sequences-with-Radius.pickle', 'rb') as f:\n",
        "  event_list, df = pickle.load(f)"
      ],
      "execution_count": 0,
      "outputs": []
    },
    {
      "metadata": {
        "id": "oTOmJbQdqr9H",
        "colab_type": "code",
        "outputId": "97af3a64-47b4-499b-e928-8c45340fc7ec",
        "colab": {
          "base_uri": "https://localhost:8080/",
          "height": 580
        }
      },
      "cell_type": "code",
      "source": [
        "event_list"
      ],
      "execution_count": 3,
      "outputs": [
        {
          "output_type": "execute_result",
          "data": {
            "text/plain": [
              "{1: 'minor accident',\n",
              " 2: 'other',\n",
              " 3: 'road closed',\n",
              " 4: 'stopped car on the shoulder',\n",
              " 5: 'traffic jam',\n",
              " 6: 'major event',\n",
              " 7: 'pothole',\n",
              " 8: 'missing sign on the shoulder',\n",
              " 9: 'stopped car',\n",
              " 10: 'hazard on the shoulder',\n",
              " 11: 'accident',\n",
              " 12: 'flooding',\n",
              " 13: 'road construction',\n",
              " 14: 'stopped traffic',\n",
              " 15: 'object on roadway',\n",
              " 16: 'animal struck',\n",
              " 17: 'heavy traffic',\n",
              " 18: 'small traffic jam',\n",
              " 19: 'slowdown',\n",
              " 20: 'animal on the shoulder',\n",
              " 21: 'large traffic jam',\n",
              " 22: 'traffic heavier than normal',\n",
              " 23: 'malfunctioning traffic light',\n",
              " 24: 'medium traffic jam',\n",
              " 25: 'hazard on road',\n",
              " 26: 'weather hazard',\n",
              " 27: 'road closed due to construction',\n",
              " 28: 'hail',\n",
              " 29: 'ice on roadway',\n",
              " 30: 'fog',\n",
              " 31: 'huge traffic jam',\n",
              " 32: 'road closed due to hazard'}"
            ]
          },
          "metadata": {
            "tags": []
          },
          "execution_count": 3
        }
      ]
    },
    {
      "metadata": {
        "id": "E0josxWEqtgW",
        "colab_type": "code",
        "outputId": "49f9992c-2090-45c0-f096-c9222460af96",
        "colab": {
          "base_uri": "https://localhost:8080/",
          "height": 203
        }
      },
      "cell_type": "code",
      "source": [
        "df.head()"
      ],
      "execution_count": 4,
      "outputs": [
        {
          "output_type": "execute_result",
          "data": {
            "text/html": [
              "<div>\n",
              "<style scoped>\n",
              "    .dataframe tbody tr th:only-of-type {\n",
              "        vertical-align: middle;\n",
              "    }\n",
              "\n",
              "    .dataframe tbody tr th {\n",
              "        vertical-align: top;\n",
              "    }\n",
              "\n",
              "    .dataframe thead th {\n",
              "        text-align: right;\n",
              "    }\n",
              "</style>\n",
              "<table border=\"1\" class=\"dataframe\">\n",
              "  <thead>\n",
              "    <tr style=\"text-align: right;\">\n",
              "      <th></th>\n",
              "      <th>label</th>\n",
              "      <th>events</th>\n",
              "    </tr>\n",
              "  </thead>\n",
              "  <tbody>\n",
              "    <tr>\n",
              "      <th>0</th>\n",
              "      <td>1</td>\n",
              "      <td>[stopped car on the shoulder, stopped car on t...</td>\n",
              "    </tr>\n",
              "    <tr>\n",
              "      <th>1</th>\n",
              "      <td>1</td>\n",
              "      <td>[traffic jam, traffic jam, traffic jam, medium...</td>\n",
              "    </tr>\n",
              "    <tr>\n",
              "      <th>2</th>\n",
              "      <td>1</td>\n",
              "      <td>[stopped car on the shoulder]</td>\n",
              "    </tr>\n",
              "    <tr>\n",
              "      <th>3</th>\n",
              "      <td>1</td>\n",
              "      <td>[slowdown, stopped car on the shoulder, major ...</td>\n",
              "    </tr>\n",
              "    <tr>\n",
              "      <th>4</th>\n",
              "      <td>1</td>\n",
              "      <td>[stopped car on the shoulder, stopped car on t...</td>\n",
              "    </tr>\n",
              "  </tbody>\n",
              "</table>\n",
              "</div>"
            ],
            "text/plain": [
              "   label                                             events\n",
              "0      1  [stopped car on the shoulder, stopped car on t...\n",
              "1      1  [traffic jam, traffic jam, traffic jam, medium...\n",
              "2      1                      [stopped car on the shoulder]\n",
              "3      1  [slowdown, stopped car on the shoulder, major ...\n",
              "4      1  [stopped car on the shoulder, stopped car on t..."
            ]
          },
          "metadata": {
            "tags": []
          },
          "execution_count": 4
        }
      ]
    },
    {
      "metadata": {
        "id": "1EUZTLuMqu_X",
        "colab_type": "code",
        "outputId": "b8811bfe-b98c-47e0-b5fa-7196a20db2a7",
        "colab": {
          "base_uri": "https://localhost:8080/",
          "height": 203
        }
      },
      "cell_type": "code",
      "source": [
        "df.tail()"
      ],
      "execution_count": 5,
      "outputs": [
        {
          "output_type": "execute_result",
          "data": {
            "text/html": [
              "<div>\n",
              "<style scoped>\n",
              "    .dataframe tbody tr th:only-of-type {\n",
              "        vertical-align: middle;\n",
              "    }\n",
              "\n",
              "    .dataframe tbody tr th {\n",
              "        vertical-align: top;\n",
              "    }\n",
              "\n",
              "    .dataframe thead th {\n",
              "        text-align: right;\n",
              "    }\n",
              "</style>\n",
              "<table border=\"1\" class=\"dataframe\">\n",
              "  <thead>\n",
              "    <tr style=\"text-align: right;\">\n",
              "      <th></th>\n",
              "      <th>label</th>\n",
              "      <th>events</th>\n",
              "    </tr>\n",
              "  </thead>\n",
              "  <tbody>\n",
              "    <tr>\n",
              "      <th>66681</th>\n",
              "      <td>0</td>\n",
              "      <td>[traffic jam, traffic jam, traffic jam, traffi...</td>\n",
              "    </tr>\n",
              "    <tr>\n",
              "      <th>66682</th>\n",
              "      <td>0</td>\n",
              "      <td>[traffic jam]</td>\n",
              "    </tr>\n",
              "    <tr>\n",
              "      <th>66683</th>\n",
              "      <td>0</td>\n",
              "      <td>[stopped car on the shoulder]</td>\n",
              "    </tr>\n",
              "    <tr>\n",
              "      <th>66684</th>\n",
              "      <td>0</td>\n",
              "      <td>[road closed due to construction, traffic jam,...</td>\n",
              "    </tr>\n",
              "    <tr>\n",
              "      <th>66685</th>\n",
              "      <td>0</td>\n",
              "      <td>[traffic jam, traffic jam]</td>\n",
              "    </tr>\n",
              "  </tbody>\n",
              "</table>\n",
              "</div>"
            ],
            "text/plain": [
              "       label                                             events\n",
              "66681      0  [traffic jam, traffic jam, traffic jam, traffi...\n",
              "66682      0                                      [traffic jam]\n",
              "66683      0                      [stopped car on the shoulder]\n",
              "66684      0  [road closed due to construction, traffic jam,...\n",
              "66685      0                         [traffic jam, traffic jam]"
            ]
          },
          "metadata": {
            "tags": []
          },
          "execution_count": 5
        }
      ]
    },
    {
      "metadata": {
        "id": "n_SPtuPCrwef",
        "colab_type": "code",
        "outputId": "5ee738e5-b26e-46ee-fd08-f5f3df27b415",
        "colab": {
          "base_uri": "https://localhost:8080/",
          "height": 35
        }
      },
      "cell_type": "code",
      "source": [
        "len(df)"
      ],
      "execution_count": 6,
      "outputs": [
        {
          "output_type": "execute_result",
          "data": {
            "text/plain": [
              "66686"
            ]
          },
          "metadata": {
            "tags": []
          },
          "execution_count": 6
        }
      ]
    },
    {
      "metadata": {
        "id": "Z2N_kuM7qwWt",
        "colab_type": "code",
        "outputId": "d27806f9-b94d-40ce-c8c3-bebc3abba2b0",
        "colab": {
          "base_uri": "https://localhost:8080/",
          "height": 70
        }
      },
      "cell_type": "code",
      "source": [
        "df['label'].value_counts()"
      ],
      "execution_count": 7,
      "outputs": [
        {
          "output_type": "execute_result",
          "data": {
            "text/plain": [
              "0    33758\n",
              "1    32928\n",
              "Name: label, dtype: int64"
            ]
          },
          "metadata": {
            "tags": []
          },
          "execution_count": 7
        }
      ]
    },
    {
      "metadata": {
        "id": "1HQjwv5_rSPY",
        "colab_type": "code",
        "outputId": "93b26dc0-3c3c-4346-933b-b5032c857ec0",
        "colab": {
          "base_uri": "https://localhost:8080/",
          "height": 283
        }
      },
      "cell_type": "code",
      "source": [
        "df['label'].value_counts().plot(kind='bar')"
      ],
      "execution_count": 8,
      "outputs": [
        {
          "output_type": "execute_result",
          "data": {
            "text/plain": [
              "<matplotlib.axes._subplots.AxesSubplot at 0x7fa15a046e48>"
            ]
          },
          "metadata": {
            "tags": []
          },
          "execution_count": 8
        },
        {
          "output_type": "display_data",
          "data": {
            "image/png": "[encoded data removed]",
            "text/plain": [
              "<Figure size 432x288 with 1 Axes>"
            ]
          },
          "metadata": {
            "tags": []
          }
        }
      ]
    },
    {
      "metadata": {
        "id": "f3m-ftyArX6n",
        "colab_type": "code",
        "colab": {}
      },
      "cell_type": "code",
      "source": [
        "df0=df[df['label'] == 0]"
      ],
      "execution_count": 0,
      "outputs": []
    },
    {
      "metadata": {
        "id": "4aQULZ9UrhD3",
        "colab_type": "code",
        "colab": {}
      },
      "cell_type": "code",
      "source": [
        "df0.reset_index(drop=True, inplace=True)"
      ],
      "execution_count": 0,
      "outputs": []
    },
    {
      "metadata": {
        "id": "s6M46Ei1rhsp",
        "colab_type": "code",
        "outputId": "ea7144b4-d328-488d-843a-d16ea3a5eef6",
        "colab": {
          "base_uri": "https://localhost:8080/",
          "height": 35
        }
      },
      "cell_type": "code",
      "source": [
        "len(df0)"
      ],
      "execution_count": 11,
      "outputs": [
        {
          "output_type": "execute_result",
          "data": {
            "text/plain": [
              "33758"
            ]
          },
          "metadata": {
            "tags": []
          },
          "execution_count": 11
        }
      ]
    },
    {
      "metadata": {
        "id": "aFixpv8ysqVg",
        "colab_type": "code",
        "outputId": "143e517f-cbf6-479d-adf5-30fbffad8621",
        "colab": {
          "base_uri": "https://localhost:8080/",
          "height": 203
        }
      },
      "cell_type": "code",
      "source": [
        "df0.head()"
      ],
      "execution_count": 12,
      "outputs": [
        {
          "output_type": "execute_result",
          "data": {
            "text/html": [
              "<div>\n",
              "<style scoped>\n",
              "    .dataframe tbody tr th:only-of-type {\n",
              "        vertical-align: middle;\n",
              "    }\n",
              "\n",
              "    .dataframe tbody tr th {\n",
              "        vertical-align: top;\n",
              "    }\n",
              "\n",
              "    .dataframe thead th {\n",
              "        text-align: right;\n",
              "    }\n",
              "</style>\n",
              "<table border=\"1\" class=\"dataframe\">\n",
              "  <thead>\n",
              "    <tr style=\"text-align: right;\">\n",
              "      <th></th>\n",
              "      <th>label</th>\n",
              "      <th>events</th>\n",
              "    </tr>\n",
              "  </thead>\n",
              "  <tbody>\n",
              "    <tr>\n",
              "      <th>0</th>\n",
              "      <td>0</td>\n",
              "      <td>[traffic jam, traffic jam]</td>\n",
              "    </tr>\n",
              "    <tr>\n",
              "      <th>1</th>\n",
              "      <td>0</td>\n",
              "      <td>[stopped car on the shoulder, stopped car on t...</td>\n",
              "    </tr>\n",
              "    <tr>\n",
              "      <th>2</th>\n",
              "      <td>0</td>\n",
              "      <td>[heavy traffic]</td>\n",
              "    </tr>\n",
              "    <tr>\n",
              "      <th>3</th>\n",
              "      <td>0</td>\n",
              "      <td>[stopped car on the shoulder]</td>\n",
              "    </tr>\n",
              "    <tr>\n",
              "      <th>4</th>\n",
              "      <td>0</td>\n",
              "      <td>[traffic jam]</td>\n",
              "    </tr>\n",
              "  </tbody>\n",
              "</table>\n",
              "</div>"
            ],
            "text/plain": [
              "   label                                             events\n",
              "0      0                         [traffic jam, traffic jam]\n",
              "1      0  [stopped car on the shoulder, stopped car on t...\n",
              "2      0                                    [heavy traffic]\n",
              "3      0                      [stopped car on the shoulder]\n",
              "4      0                                      [traffic jam]"
            ]
          },
          "metadata": {
            "tags": []
          },
          "execution_count": 12
        }
      ]
    },
    {
      "metadata": {
        "id": "L4_9t5k-tGzk",
        "colab_type": "code",
        "colab": {}
      },
      "cell_type": "code",
      "source": [
        "df1=df[df['label'] == 1]"
      ],
      "execution_count": 0,
      "outputs": []
    },
    {
      "metadata": {
        "id": "VN9oH2C9tOmK",
        "colab_type": "code",
        "colab": {}
      },
      "cell_type": "code",
      "source": [
        "df1.reset_index(drop=True, inplace=True)"
      ],
      "execution_count": 0,
      "outputs": []
    },
    {
      "metadata": {
        "id": "BZmT9dMutOrL",
        "colab_type": "code",
        "outputId": "0152c5ab-0bac-47d0-9961-8962e2307280",
        "colab": {
          "base_uri": "https://localhost:8080/",
          "height": 35
        }
      },
      "cell_type": "code",
      "source": [
        "len(df1)"
      ],
      "execution_count": 15,
      "outputs": [
        {
          "output_type": "execute_result",
          "data": {
            "text/plain": [
              "32928"
            ]
          },
          "metadata": {
            "tags": []
          },
          "execution_count": 15
        }
      ]
    },
    {
      "metadata": {
        "id": "F9aAFRkutOu5",
        "colab_type": "code",
        "colab": {}
      },
      "cell_type": "code",
      "source": [
        "sampdf0=df0.sample(n=len(df1), random_state=12)"
      ],
      "execution_count": 0,
      "outputs": []
    },
    {
      "metadata": {
        "id": "yUmxdw2HtOpg",
        "colab_type": "code",
        "outputId": "aae7cb75-c00e-415b-c326-529f8f913ea0",
        "colab": {
          "base_uri": "https://localhost:8080/",
          "height": 203
        }
      },
      "cell_type": "code",
      "source": [
        "sampdf0.head()"
      ],
      "execution_count": 17,
      "outputs": [
        {
          "output_type": "execute_result",
          "data": {
            "text/html": [
              "<div>\n",
              "<style scoped>\n",
              "    .dataframe tbody tr th:only-of-type {\n",
              "        vertical-align: middle;\n",
              "    }\n",
              "\n",
              "    .dataframe tbody tr th {\n",
              "        vertical-align: top;\n",
              "    }\n",
              "\n",
              "    .dataframe thead th {\n",
              "        text-align: right;\n",
              "    }\n",
              "</style>\n",
              "<table border=\"1\" class=\"dataframe\">\n",
              "  <thead>\n",
              "    <tr style=\"text-align: right;\">\n",
              "      <th></th>\n",
              "      <th>label</th>\n",
              "      <th>events</th>\n",
              "    </tr>\n",
              "  </thead>\n",
              "  <tbody>\n",
              "    <tr>\n",
              "      <th>19926</th>\n",
              "      <td>0</td>\n",
              "      <td>[traffic jam, traffic jam, malfunctioning traf...</td>\n",
              "    </tr>\n",
              "    <tr>\n",
              "      <th>30730</th>\n",
              "      <td>0</td>\n",
              "      <td>[stopped traffic, heavy traffic, heavy traffic...</td>\n",
              "    </tr>\n",
              "    <tr>\n",
              "      <th>13265</th>\n",
              "      <td>0</td>\n",
              "      <td>[object on roadway, traffic heavier than norma...</td>\n",
              "    </tr>\n",
              "    <tr>\n",
              "      <th>20329</th>\n",
              "      <td>0</td>\n",
              "      <td>[traffic jam, traffic jam, traffic jam, traffi...</td>\n",
              "    </tr>\n",
              "    <tr>\n",
              "      <th>1228</th>\n",
              "      <td>0</td>\n",
              "      <td>[stopped car on the shoulder, stopped traffic,...</td>\n",
              "    </tr>\n",
              "  </tbody>\n",
              "</table>\n",
              "</div>"
            ],
            "text/plain": [
              "       label                                             events\n",
              "19926      0  [traffic jam, traffic jam, malfunctioning traf...\n",
              "30730      0  [stopped traffic, heavy traffic, heavy traffic...\n",
              "13265      0  [object on roadway, traffic heavier than norma...\n",
              "20329      0  [traffic jam, traffic jam, traffic jam, traffi...\n",
              "1228       0  [stopped car on the shoulder, stopped traffic,..."
            ]
          },
          "metadata": {
            "tags": []
          },
          "execution_count": 17
        }
      ]
    },
    {
      "metadata": {
        "id": "6vXqxowttOj3",
        "colab_type": "code",
        "outputId": "0f169324-dea5-44af-9724-49686d7ee7c7",
        "colab": {
          "base_uri": "https://localhost:8080/",
          "height": 203
        }
      },
      "cell_type": "code",
      "source": [
        "sampdf0.reset_index(inplace=True, drop=True)\n",
        "sampdf0.head()"
      ],
      "execution_count": 18,
      "outputs": [
        {
          "output_type": "execute_result",
          "data": {
            "text/html": [
              "<div>\n",
              "<style scoped>\n",
              "    .dataframe tbody tr th:only-of-type {\n",
              "        vertical-align: middle;\n",
              "    }\n",
              "\n",
              "    .dataframe tbody tr th {\n",
              "        vertical-align: top;\n",
              "    }\n",
              "\n",
              "    .dataframe thead th {\n",
              "        text-align: right;\n",
              "    }\n",
              "</style>\n",
              "<table border=\"1\" class=\"dataframe\">\n",
              "  <thead>\n",
              "    <tr style=\"text-align: right;\">\n",
              "      <th></th>\n",
              "      <th>label</th>\n",
              "      <th>events</th>\n",
              "    </tr>\n",
              "  </thead>\n",
              "  <tbody>\n",
              "    <tr>\n",
              "      <th>0</th>\n",
              "      <td>0</td>\n",
              "      <td>[traffic jam, traffic jam, malfunctioning traf...</td>\n",
              "    </tr>\n",
              "    <tr>\n",
              "      <th>1</th>\n",
              "      <td>0</td>\n",
              "      <td>[stopped traffic, heavy traffic, heavy traffic...</td>\n",
              "    </tr>\n",
              "    <tr>\n",
              "      <th>2</th>\n",
              "      <td>0</td>\n",
              "      <td>[object on roadway, traffic heavier than norma...</td>\n",
              "    </tr>\n",
              "    <tr>\n",
              "      <th>3</th>\n",
              "      <td>0</td>\n",
              "      <td>[traffic jam, traffic jam, traffic jam, traffi...</td>\n",
              "    </tr>\n",
              "    <tr>\n",
              "      <th>4</th>\n",
              "      <td>0</td>\n",
              "      <td>[stopped car on the shoulder, stopped traffic,...</td>\n",
              "    </tr>\n",
              "  </tbody>\n",
              "</table>\n",
              "</div>"
            ],
            "text/plain": [
              "   label                                             events\n",
              "0      0  [traffic jam, traffic jam, malfunctioning traf...\n",
              "1      0  [stopped traffic, heavy traffic, heavy traffic...\n",
              "2      0  [object on roadway, traffic heavier than norma...\n",
              "3      0  [traffic jam, traffic jam, traffic jam, traffi...\n",
              "4      0  [stopped car on the shoulder, stopped traffic,..."
            ]
          },
          "metadata": {
            "tags": []
          },
          "execution_count": 18
        }
      ]
    },
    {
      "metadata": {
        "id": "LssM1htYurZd",
        "colab_type": "code",
        "colab": {}
      },
      "cell_type": "code",
      "source": [
        "df=df1.append(sampdf0, ignore_index=True)"
      ],
      "execution_count": 0,
      "outputs": []
    },
    {
      "metadata": {
        "id": "LygvlupbvLkg",
        "colab_type": "code",
        "outputId": "9d7a5b66-7f09-4f65-d60f-0a23a1f34d22",
        "colab": {
          "base_uri": "https://localhost:8080/",
          "height": 203
        }
      },
      "cell_type": "code",
      "source": [
        "df.head()"
      ],
      "execution_count": 20,
      "outputs": [
        {
          "output_type": "execute_result",
          "data": {
            "text/html": [
              "<div>\n",
              "<style scoped>\n",
              "    .dataframe tbody tr th:only-of-type {\n",
              "        vertical-align: middle;\n",
              "    }\n",
              "\n",
              "    .dataframe tbody tr th {\n",
              "        vertical-align: top;\n",
              "    }\n",
              "\n",
              "    .dataframe thead th {\n",
              "        text-align: right;\n",
              "    }\n",
              "</style>\n",
              "<table border=\"1\" class=\"dataframe\">\n",
              "  <thead>\n",
              "    <tr style=\"text-align: right;\">\n",
              "      <th></th>\n",
              "      <th>label</th>\n",
              "      <th>events</th>\n",
              "    </tr>\n",
              "  </thead>\n",
              "  <tbody>\n",
              "    <tr>\n",
              "      <th>0</th>\n",
              "      <td>1</td>\n",
              "      <td>[stopped car on the shoulder, stopped car on t...</td>\n",
              "    </tr>\n",
              "    <tr>\n",
              "      <th>1</th>\n",
              "      <td>1</td>\n",
              "      <td>[traffic jam, traffic jam, traffic jam, medium...</td>\n",
              "    </tr>\n",
              "    <tr>\n",
              "      <th>2</th>\n",
              "      <td>1</td>\n",
              "      <td>[stopped car on the shoulder]</td>\n",
              "    </tr>\n",
              "    <tr>\n",
              "      <th>3</th>\n",
              "      <td>1</td>\n",
              "      <td>[slowdown, stopped car on the shoulder, major ...</td>\n",
              "    </tr>\n",
              "    <tr>\n",
              "      <th>4</th>\n",
              "      <td>1</td>\n",
              "      <td>[stopped car on the shoulder, stopped car on t...</td>\n",
              "    </tr>\n",
              "  </tbody>\n",
              "</table>\n",
              "</div>"
            ],
            "text/plain": [
              "   label                                             events\n",
              "0      1  [stopped car on the shoulder, stopped car on t...\n",
              "1      1  [traffic jam, traffic jam, traffic jam, medium...\n",
              "2      1                      [stopped car on the shoulder]\n",
              "3      1  [slowdown, stopped car on the shoulder, major ...\n",
              "4      1  [stopped car on the shoulder, stopped car on t..."
            ]
          },
          "metadata": {
            "tags": []
          },
          "execution_count": 20
        }
      ]
    },
    {
      "metadata": {
        "id": "-Pcmlf6YvNbO",
        "colab_type": "code",
        "outputId": "0b5c8b15-a360-48f2-a5a2-6da21f748593",
        "colab": {
          "base_uri": "https://localhost:8080/",
          "height": 203
        }
      },
      "cell_type": "code",
      "source": [
        "df.tail()"
      ],
      "execution_count": 21,
      "outputs": [
        {
          "output_type": "execute_result",
          "data": {
            "text/html": [
              "<div>\n",
              "<style scoped>\n",
              "    .dataframe tbody tr th:only-of-type {\n",
              "        vertical-align: middle;\n",
              "    }\n",
              "\n",
              "    .dataframe tbody tr th {\n",
              "        vertical-align: top;\n",
              "    }\n",
              "\n",
              "    .dataframe thead th {\n",
              "        text-align: right;\n",
              "    }\n",
              "</style>\n",
              "<table border=\"1\" class=\"dataframe\">\n",
              "  <thead>\n",
              "    <tr style=\"text-align: right;\">\n",
              "      <th></th>\n",
              "      <th>label</th>\n",
              "      <th>events</th>\n",
              "    </tr>\n",
              "  </thead>\n",
              "  <tbody>\n",
              "    <tr>\n",
              "      <th>65851</th>\n",
              "      <td>0</td>\n",
              "      <td>[heavy traffic, heavy traffic, heavy traffic, ...</td>\n",
              "    </tr>\n",
              "    <tr>\n",
              "      <th>65852</th>\n",
              "      <td>0</td>\n",
              "      <td>[traffic jam]</td>\n",
              "    </tr>\n",
              "    <tr>\n",
              "      <th>65853</th>\n",
              "      <td>0</td>\n",
              "      <td>[heavy traffic, traffic jam, traffic jam, traf...</td>\n",
              "    </tr>\n",
              "    <tr>\n",
              "      <th>65854</th>\n",
              "      <td>0</td>\n",
              "      <td>[traffic jam]</td>\n",
              "    </tr>\n",
              "    <tr>\n",
              "      <th>65855</th>\n",
              "      <td>0</td>\n",
              "      <td>[traffic jam, traffic jam]</td>\n",
              "    </tr>\n",
              "  </tbody>\n",
              "</table>\n",
              "</div>"
            ],
            "text/plain": [
              "       label                                             events\n",
              "65851      0  [heavy traffic, heavy traffic, heavy traffic, ...\n",
              "65852      0                                      [traffic jam]\n",
              "65853      0  [heavy traffic, traffic jam, traffic jam, traf...\n",
              "65854      0                                      [traffic jam]\n",
              "65855      0                         [traffic jam, traffic jam]"
            ]
          },
          "metadata": {
            "tags": []
          },
          "execution_count": 21
        }
      ]
    },
    {
      "metadata": {
        "id": "TpqNczo1vO_4",
        "colab_type": "code",
        "outputId": "42f8022c-0db9-46cc-c2d8-661398fc2608",
        "colab": {
          "base_uri": "https://localhost:8080/",
          "height": 283
        }
      },
      "cell_type": "code",
      "source": [
        "df['label'].value_counts().plot(kind='bar')"
      ],
      "execution_count": 22,
      "outputs": [
        {
          "output_type": "execute_result",
          "data": {
            "text/plain": [
              "<matplotlib.axes._subplots.AxesSubplot at 0x7fa159f9d7b8>"
            ]
          },
          "metadata": {
            "tags": []
          },
          "execution_count": 22
        },
        {
          "output_type": "display_data",
          "data": {
            "image/png": "[encoded data removed]",
            "text/plain": [
              "<Figure size 432x288 with 1 Axes>"
            ]
          },
          "metadata": {
            "tags": []
          }
        }
      ]
    },
    {
      "metadata": {
        "id": "CcjUZ3hpvZJK",
        "colab_type": "code",
        "outputId": "434ae03f-8957-4001-da85-0283e2037e21",
        "colab": {
          "base_uri": "https://localhost:8080/",
          "height": 70
        }
      },
      "cell_type": "code",
      "source": [
        "df['label'].value_counts()"
      ],
      "execution_count": 23,
      "outputs": [
        {
          "output_type": "execute_result",
          "data": {
            "text/plain": [
              "1    32928\n",
              "0    32928\n",
              "Name: label, dtype: int64"
            ]
          },
          "metadata": {
            "tags": []
          },
          "execution_count": 23
        }
      ]
    },
    {
      "metadata": {
        "id": "E9BLlVCpvdH0",
        "colab_type": "code",
        "outputId": "99e599c2-7fb7-4d29-cc03-f94906c0b011",
        "colab": {
          "base_uri": "https://localhost:8080/",
          "height": 35
        }
      },
      "cell_type": "code",
      "source": [
        "max_len_event_id = df.events.apply(len).idxmax()\n",
        "max_len_event_id"
      ],
      "execution_count": 24,
      "outputs": [
        {
          "output_type": "execute_result",
          "data": {
            "text/plain": [
              "46357"
            ]
          },
          "metadata": {
            "tags": []
          },
          "execution_count": 24
        }
      ]
    },
    {
      "metadata": {
        "id": "Pwhr-ryNxL7k",
        "colab_type": "code",
        "outputId": "e094458e-9b4f-46ac-f213-2efb8dd6b775",
        "colab": {
          "base_uri": "https://localhost:8080/",
          "height": 35
        }
      },
      "cell_type": "code",
      "source": [
        "df.events.apply(len).idxmax()"
      ],
      "execution_count": 25,
      "outputs": [
        {
          "output_type": "execute_result",
          "data": {
            "text/plain": [
              "46357"
            ]
          },
          "metadata": {
            "tags": []
          },
          "execution_count": 25
        }
      ]
    },
    {
      "metadata": {
        "id": "-UoL0G-3vpZa",
        "colab_type": "code",
        "outputId": "4ff62091-f352-4f92-de89-8778a8cbc134",
        "colab": {
          "base_uri": "https://localhost:8080/",
          "height": 1900
        }
      },
      "cell_type": "code",
      "source": [
        "max_len_event = df.iloc[max_len_event_id]\n",
        "max_len_event.events"
      ],
      "execution_count": 26,
      "outputs": [
        {
          "output_type": "execute_result",
          "data": {
            "text/plain": [
              "['heavy traffic',\n",
              " 'heavy traffic',\n",
              " 'heavy traffic',\n",
              " 'heavy traffic',\n",
              " 'stopped car on the shoulder',\n",
              " 'stopped car on the shoulder',\n",
              " 'heavy traffic',\n",
              " 'heavy traffic',\n",
              " 'traffic jam',\n",
              " 'traffic jam',\n",
              " 'stopped traffic',\n",
              " 'stopped traffic',\n",
              " 'traffic jam',\n",
              " 'traffic jam',\n",
              " 'traffic jam',\n",
              " 'traffic jam',\n",
              " 'heavy traffic',\n",
              " 'heavy traffic',\n",
              " 'stopped car on the shoulder',\n",
              " 'stopped car on the shoulder',\n",
              " 'traffic jam',\n",
              " 'traffic jam',\n",
              " 'heavy traffic',\n",
              " 'heavy traffic',\n",
              " 'heavy traffic',\n",
              " 'heavy traffic',\n",
              " 'stopped traffic',\n",
              " 'stopped traffic',\n",
              " 'heavy traffic',\n",
              " 'heavy traffic',\n",
              " 'pothole',\n",
              " 'pothole',\n",
              " 'stopped traffic',\n",
              " 'stopped traffic',\n",
              " 'stopped traffic',\n",
              " 'stopped traffic',\n",
              " 'traffic jam',\n",
              " 'traffic jam',\n",
              " 'heavy traffic',\n",
              " 'heavy traffic',\n",
              " 'traffic jam',\n",
              " 'traffic jam',\n",
              " 'stopped traffic',\n",
              " 'stopped traffic',\n",
              " 'heavy traffic',\n",
              " 'heavy traffic',\n",
              " 'heavy traffic',\n",
              " 'heavy traffic',\n",
              " 'heavy traffic',\n",
              " 'heavy traffic',\n",
              " 'stopped car on the shoulder',\n",
              " 'stopped car on the shoulder',\n",
              " 'stopped car on the shoulder',\n",
              " 'stopped car on the shoulder',\n",
              " 'traffic heavier than normal',\n",
              " 'traffic heavier than normal',\n",
              " 'traffic jam',\n",
              " 'traffic jam',\n",
              " 'heavy traffic',\n",
              " 'heavy traffic',\n",
              " 'heavy traffic',\n",
              " 'heavy traffic',\n",
              " 'heavy traffic',\n",
              " 'heavy traffic',\n",
              " 'traffic heavier than normal',\n",
              " 'traffic heavier than normal',\n",
              " 'heavy traffic',\n",
              " 'heavy traffic',\n",
              " 'heavy traffic',\n",
              " 'heavy traffic',\n",
              " 'stopped traffic',\n",
              " 'stopped traffic',\n",
              " 'heavy traffic',\n",
              " 'heavy traffic',\n",
              " 'heavy traffic',\n",
              " 'heavy traffic',\n",
              " 'stopped traffic',\n",
              " 'stopped traffic',\n",
              " 'heavy traffic',\n",
              " 'heavy traffic',\n",
              " 'heavy traffic',\n",
              " 'heavy traffic',\n",
              " 'heavy traffic',\n",
              " 'heavy traffic',\n",
              " 'heavy traffic',\n",
              " 'heavy traffic',\n",
              " 'slowdown',\n",
              " 'slowdown',\n",
              " 'heavy traffic',\n",
              " 'heavy traffic',\n",
              " 'heavy traffic',\n",
              " 'heavy traffic',\n",
              " 'stopped traffic',\n",
              " 'stopped traffic',\n",
              " 'stopped traffic',\n",
              " 'stopped traffic',\n",
              " 'traffic heavier than normal',\n",
              " 'traffic heavier than normal',\n",
              " 'heavy traffic',\n",
              " 'heavy traffic',\n",
              " 'stopped traffic',\n",
              " 'stopped traffic',\n",
              " 'heavy traffic',\n",
              " 'heavy traffic',\n",
              " 'heavy traffic',\n",
              " 'heavy traffic',\n",
              " 'heavy traffic']"
            ]
          },
          "metadata": {
            "tags": []
          },
          "execution_count": 26
        }
      ]
    },
    {
      "metadata": {
        "id": "CTsETgAgvsfv",
        "colab_type": "code",
        "outputId": "db8e50bf-9ed5-4034-c1f3-17d8db1eb85a",
        "colab": {
          "base_uri": "https://localhost:8080/",
          "height": 35
        }
      },
      "cell_type": "code",
      "source": [
        "maxlen = len(max_len_event.events)\n",
        "maxlen"
      ],
      "execution_count": 27,
      "outputs": [
        {
          "output_type": "execute_result",
          "data": {
            "text/plain": [
              "107"
            ]
          },
          "metadata": {
            "tags": []
          },
          "execution_count": 27
        }
      ]
    },
    {
      "metadata": {
        "id": "vkSOqeEdv3iv",
        "colab_type": "code",
        "colab": {}
      },
      "cell_type": "code",
      "source": [
        "reversed_dict = {}\n",
        "for k, v in event_list.items():\n",
        "  reversed_dict[v] = k"
      ],
      "execution_count": 0,
      "outputs": []
    },
    {
      "metadata": {
        "id": "AN-Anlzlv6Ej",
        "colab_type": "code",
        "outputId": "8f2a0d74-b421-4eca-e204-c8280f4c789f",
        "colab": {
          "base_uri": "https://localhost:8080/",
          "height": 580
        }
      },
      "cell_type": "code",
      "source": [
        "reversed_dict"
      ],
      "execution_count": 29,
      "outputs": [
        {
          "output_type": "execute_result",
          "data": {
            "text/plain": [
              "{'accident': 11,\n",
              " 'animal on the shoulder': 20,\n",
              " 'animal struck': 16,\n",
              " 'flooding': 12,\n",
              " 'fog': 30,\n",
              " 'hail': 28,\n",
              " 'hazard on road': 25,\n",
              " 'hazard on the shoulder': 10,\n",
              " 'heavy traffic': 17,\n",
              " 'huge traffic jam': 31,\n",
              " 'ice on roadway': 29,\n",
              " 'large traffic jam': 21,\n",
              " 'major event': 6,\n",
              " 'malfunctioning traffic light': 23,\n",
              " 'medium traffic jam': 24,\n",
              " 'minor accident': 1,\n",
              " 'missing sign on the shoulder': 8,\n",
              " 'object on roadway': 15,\n",
              " 'other': 2,\n",
              " 'pothole': 7,\n",
              " 'road closed': 3,\n",
              " 'road closed due to construction': 27,\n",
              " 'road closed due to hazard': 32,\n",
              " 'road construction': 13,\n",
              " 'slowdown': 19,\n",
              " 'small traffic jam': 18,\n",
              " 'stopped car': 9,\n",
              " 'stopped car on the shoulder': 4,\n",
              " 'stopped traffic': 14,\n",
              " 'traffic heavier than normal': 22,\n",
              " 'traffic jam': 5,\n",
              " 'weather hazard': 26}"
            ]
          },
          "metadata": {
            "tags": []
          },
          "execution_count": 29
        }
      ]
    },
    {
      "metadata": {
        "id": "g5IqU4iQwF89",
        "colab_type": "code",
        "colab": {}
      },
      "cell_type": "code",
      "source": [
        "def map_event_list_to_idxs(event_list):\n",
        "  list_idxs = []\n",
        "  for event in (event_list):\n",
        "    idx = reversed_dict[event]\n",
        "    list_idxs.append(idx)\n",
        "  return list_idxs"
      ],
      "execution_count": 0,
      "outputs": []
    },
    {
      "metadata": {
        "id": "v9hBbiIswH9B",
        "colab_type": "code",
        "outputId": "2891e222-36a9-4a3e-9665-00c67e6e8570",
        "colab": {
          "base_uri": "https://localhost:8080/",
          "height": 1900
        }
      },
      "cell_type": "code",
      "source": [
        "map_event_list_to_idxs(max_len_event.events)"
      ],
      "execution_count": 31,
      "outputs": [
        {
          "output_type": "execute_result",
          "data": {
            "text/plain": [
              "[17,\n",
              " 17,\n",
              " 17,\n",
              " 17,\n",
              " 4,\n",
              " 4,\n",
              " 17,\n",
              " 17,\n",
              " 5,\n",
              " 5,\n",
              " 14,\n",
              " 14,\n",
              " 5,\n",
              " 5,\n",
              " 5,\n",
              " 5,\n",
              " 17,\n",
              " 17,\n",
              " 4,\n",
              " 4,\n",
              " 5,\n",
              " 5,\n",
              " 17,\n",
              " 17,\n",
              " 17,\n",
              " 17,\n",
              " 14,\n",
              " 14,\n",
              " 17,\n",
              " 17,\n",
              " 7,\n",
              " 7,\n",
              " 14,\n",
              " 14,\n",
              " 14,\n",
              " 14,\n",
              " 5,\n",
              " 5,\n",
              " 17,\n",
              " 17,\n",
              " 5,\n",
              " 5,\n",
              " 14,\n",
              " 14,\n",
              " 17,\n",
              " 17,\n",
              " 17,\n",
              " 17,\n",
              " 17,\n",
              " 17,\n",
              " 4,\n",
              " 4,\n",
              " 4,\n",
              " 4,\n",
              " 22,\n",
              " 22,\n",
              " 5,\n",
              " 5,\n",
              " 17,\n",
              " 17,\n",
              " 17,\n",
              " 17,\n",
              " 17,\n",
              " 17,\n",
              " 22,\n",
              " 22,\n",
              " 17,\n",
              " 17,\n",
              " 17,\n",
              " 17,\n",
              " 14,\n",
              " 14,\n",
              " 17,\n",
              " 17,\n",
              " 17,\n",
              " 17,\n",
              " 14,\n",
              " 14,\n",
              " 17,\n",
              " 17,\n",
              " 17,\n",
              " 17,\n",
              " 17,\n",
              " 17,\n",
              " 17,\n",
              " 17,\n",
              " 19,\n",
              " 19,\n",
              " 17,\n",
              " 17,\n",
              " 17,\n",
              " 17,\n",
              " 14,\n",
              " 14,\n",
              " 14,\n",
              " 14,\n",
              " 22,\n",
              " 22,\n",
              " 17,\n",
              " 17,\n",
              " 14,\n",
              " 14,\n",
              " 17,\n",
              " 17,\n",
              " 17,\n",
              " 17,\n",
              " 17]"
            ]
          },
          "metadata": {
            "tags": []
          },
          "execution_count": 31
        }
      ]
    },
    {
      "metadata": {
        "id": "dz_MYHxzwJ9g",
        "colab_type": "code",
        "outputId": "2a819594-d294-42d5-dca1-2ac57403f0e0",
        "colab": {
          "base_uri": "https://localhost:8080/",
          "height": 35
        }
      },
      "cell_type": "code",
      "source": [
        "import numpy as np\n",
        "from keras.utils import to_categorical\n",
        "from keras.preprocessing.sequence import pad_sequences"
      ],
      "execution_count": 32,
      "outputs": [
        {
          "output_type": "stream",
          "text": [
            "Using TensorFlow backend.\n"
          ],
          "name": "stderr"
        }
      ]
    },
    {
      "metadata": {
        "id": "DMvGdND00iyv",
        "colab_type": "code",
        "outputId": "87185f13-dca5-4e40-c69e-257b1d09a201",
        "colab": {
          "base_uri": "https://localhost:8080/",
          "height": 35
        }
      },
      "cell_type": "code",
      "source": [
        "len(event_list)"
      ],
      "execution_count": 33,
      "outputs": [
        {
          "output_type": "execute_result",
          "data": {
            "text/plain": [
              "32"
            ]
          },
          "metadata": {
            "tags": []
          },
          "execution_count": 33
        }
      ]
    },
    {
      "metadata": {
        "id": "I-zjSves0ksh",
        "colab_type": "code",
        "outputId": "26e208a9-a4b7-4f31-dc7d-c542ed1e03fd",
        "colab": {
          "base_uri": "https://localhost:8080/",
          "height": 1108
        }
      },
      "cell_type": "code",
      "source": [
        "df.events.apply(map_event_list_to_idxs)"
      ],
      "execution_count": 34,
      "outputs": [
        {
          "output_type": "execute_result",
          "data": {
            "text/plain": [
              "0                                                   [4, 4]\n",
              "1                        [5, 5, 5, 24, 18, 14, 19, 14, 17]\n",
              "2                                                      [4]\n",
              "3        [19, 4, 6, 9, 17, 18, 14, 4, 14, 14, 14, 19, 1...\n",
              "4                                                [4, 4, 4]\n",
              "5                 [22, 19, 22, 4, 4, 5, 22, 5, 17, 17, 14]\n",
              "6        [22, 19, 22, 4, 4, 5, 22, 5, 17, 17, 14, 1, 14...\n",
              "7        [22, 4, 4, 5, 22, 5, 17, 17, 14, 1, 14, 4, 14,...\n",
              "8                          [17, 17, 14, 14, 17, 5, 22, 17]\n",
              "9        [17, 17, 14, 14, 14, 4, 17, 22, 22, 17, 17, 17...\n",
              "10             [14, 4, 17, 22, 17, 5, 17, 5, 1, 5, 17, 19]\n",
              "11                                          [4, 17, 4, 17]\n",
              "12       [4, 4, 5, 17, 17, 17, 4, 4, 4, 22, 17, 4, 17, ...\n",
              "13       [4, 22, 22, 17, 4, 5, 4, 17, 22, 17, 5, 17, 17...\n",
              "14                    [17, 4, 4, 4, 4, 4, 4, 4, 4, 15, 15]\n",
              "15                                                 [17, 4]\n",
              "16                        [4, 4, 4, 17, 17, 4, 19, 17, 14]\n",
              "17                                     [19, 17, 17, 17, 4]\n",
              "18                                               [4, 4, 4]\n",
              "19                         [4, 4, 4, 4, 22, 17, 19, 6, 19]\n",
              "20                      [4, 4, 4, 4, 22, 17, 19, 6, 19, 1]\n",
              "21                                 [19, 17, 4, 14, 19, 14]\n",
              "22                                                 [17, 6]\n",
              "23                                            [6, 6, 4, 4]\n",
              "24                [17, 17, 15, 22, 17, 17, 17, 6, 9, 4, 4]\n",
              "25                                               [4, 2, 4]\n",
              "26                                                  [4, 6]\n",
              "27                                            [4, 7, 4, 4]\n",
              "28                                                  [7, 4]\n",
              "29                                    [4, 4, 4, 17, 19, 4]\n",
              "                               ...                        \n",
              "65826                                               [5, 5]\n",
              "65827                                                  [5]\n",
              "65828                                               [5, 5]\n",
              "65829    [5, 5, 5, 5, 17, 14, 17, 14, 17, 14, 4, 17, 14...\n",
              "65830                                              [11, 4]\n",
              "65831                                      [4, 4, 4, 4, 4]\n",
              "65832                               [5, 5, 5, 5, 5, 5, 14]\n",
              "65833                                            [5, 5, 5]\n",
              "65834                                                  [5]\n",
              "65835                                         [5, 5, 5, 5]\n",
              "65836                                               [5, 5]\n",
              "65837    [14, 4, 17, 17, 4, 4, 17, 4, 17, 17, 17, 17, 1...\n",
              "65838    [14, 14, 17, 14, 14, 14, 14, 4, 9, 4, 17, 14, 22]\n",
              "65839                    [4, 13, 22, 4, 22, 17, 17, 22, 5]\n",
              "65840    [17, 17, 4, 4, 17, 17, 17, 17, 5, 5, 4, 4, 5, ...\n",
              "65841         [17, 4, 17, 19, 14, 14, 4, 17, 14, 5, 5, 14]\n",
              "65842    [17, 14, 22, 17, 14, 14, 4, 11, 9, 17, 1, 17, ...\n",
              "65843                               [5, 13, 11, 17, 14, 6]\n",
              "65844                                  [14, 14, 11, 11, 5]\n",
              "65845                                                  [5]\n",
              "65846               [17, 17, 19, 19, 5, 5, 5, 5, 5, 5, 17]\n",
              "65847    [4, 17, 17, 22, 5, 1, 4, 14, 1, 4, 5, 17, 22, ...\n",
              "65848                                        [5, 5, 5, 14]\n",
              "65849    [19, 17, 1, 11, 22, 4, 4, 17, 4, 5, 22, 4, 17,...\n",
              "65850    [17, 22, 17, 17, 7, 17, 14, 17, 22, 17, 14, 17...\n",
              "65851    [17, 17, 17, 17, 17, 17, 4, 4, 22, 22, 17, 17,...\n",
              "65852                                                  [5]\n",
              "65853                                        [17, 5, 5, 5]\n",
              "65854                                                  [5]\n",
              "65855                                               [5, 5]\n",
              "Name: events, Length: 65856, dtype: object"
            ]
          },
          "metadata": {
            "tags": []
          },
          "execution_count": 34
        }
      ]
    },
    {
      "metadata": {
        "id": "ThLEde8g0xjr",
        "colab_type": "code",
        "outputId": "add86dfa-8f97-4cfe-d59e-30c4897d4989",
        "colab": {
          "base_uri": "https://localhost:8080/",
          "height": 105
        }
      },
      "cell_type": "code",
      "source": [
        "sequences = df.events.apply(map_event_list_to_idxs).tolist()\n",
        "sequences[:5]"
      ],
      "execution_count": 35,
      "outputs": [
        {
          "output_type": "execute_result",
          "data": {
            "text/plain": [
              "[[4, 4],\n",
              " [5, 5, 5, 24, 18, 14, 19, 14, 17],\n",
              " [4],\n",
              " [19, 4, 6, 9, 17, 18, 14, 4, 14, 14, 14, 19, 17, 9],\n",
              " [4, 4, 4]]"
            ]
          },
          "metadata": {
            "tags": []
          },
          "execution_count": 35
        }
      ]
    },
    {
      "metadata": {
        "id": "RSUwvg9Wl6ro",
        "colab_type": "code",
        "colab": {}
      },
      "cell_type": "code",
      "source": [
        "length=[]\n",
        "for i in range(len(sequences)):\n",
        "  length.append(len(sequences[i]))"
      ],
      "execution_count": 0,
      "outputs": []
    },
    {
      "metadata": {
        "id": "p_uRKvEimCwS",
        "colab_type": "code",
        "colab": {
          "base_uri": "https://localhost:8080/",
          "height": 35
        },
        "outputId": "4d5cd479-7695-4a0a-c267-60f6271b5140"
      },
      "cell_type": "code",
      "source": [
        "length[:10]"
      ],
      "execution_count": 38,
      "outputs": [
        {
          "output_type": "execute_result",
          "data": {
            "text/plain": [
              "[2, 9, 1, 14, 3, 11, 15, 28, 8, 19]"
            ]
          },
          "metadata": {
            "tags": []
          },
          "execution_count": 38
        }
      ]
    },
    {
      "metadata": {
        "id": "LVNZDGFTmIdw",
        "colab_type": "code",
        "colab": {
          "base_uri": "https://localhost:8080/",
          "height": 269
        },
        "outputId": "f2b5635f-d4d9-48c4-fbdf-b2f2581be118"
      },
      "cell_type": "code",
      "source": [
        "plt.hist(length)\n",
        "plt.show()"
      ],
      "execution_count": 41,
      "outputs": [
        {
          "output_type": "display_data",
          "data": {
            "image/png": "[encoded data removed]",
            "text/plain": [
              "<Figure size 432x288 with 1 Axes>"
            ]
          },
          "metadata": {
            "tags": []
          }
        }
      ]
    },
    {
      "metadata": {
        "id": "uFV7KrugmIa1",
        "colab_type": "code",
        "colab": {}
      },
      "cell_type": "code",
      "source": [
        "#To make an equal token length for all the sequences\n",
        "maxlen= 30"
      ],
      "execution_count": 0,
      "outputs": []
    },
    {
      "metadata": {
        "id": "IJPOvs1jnBkY",
        "colab_type": "code",
        "colab": {
          "base_uri": "https://localhost:8080/",
          "height": 140
        },
        "outputId": "b7d54c24-3239-4ea1-f080-05853c878bf3"
      },
      "cell_type": "code",
      "source": [
        "data = pad_sequences(sequences, maxlen=maxlen)\n",
        "data"
      ],
      "execution_count": 42,
      "outputs": [
        {
          "output_type": "execute_result",
          "data": {
            "text/plain": [
              "array([[ 0,  0,  0, ...,  0,  4,  4],\n",
              "       [ 0,  0,  0, ..., 19, 14, 17],\n",
              "       [ 0,  0,  0, ...,  0,  0,  4],\n",
              "       ...,\n",
              "       [ 0,  0,  0, ...,  5,  5,  5],\n",
              "       [ 0,  0,  0, ...,  0,  0,  5],\n",
              "       [ 0,  0,  0, ...,  0,  5,  5]], dtype=int32)"
            ]
          },
          "metadata": {
            "tags": []
          },
          "execution_count": 42
        }
      ]
    },
    {
      "metadata": {
        "id": "76CLMEDF02ZU",
        "colab_type": "code",
        "colab": {}
      },
      "cell_type": "code",
      "source": [
        "labels = np.array(df.label)"
      ],
      "execution_count": 0,
      "outputs": []
    },
    {
      "metadata": {
        "id": "DLBkK7kb2T85",
        "colab_type": "code",
        "colab": {}
      },
      "cell_type": "code",
      "source": [
        "np.random.seed(12)"
      ],
      "execution_count": 0,
      "outputs": []
    },
    {
      "metadata": {
        "id": "SgQl6LTM2Vd7",
        "colab_type": "code",
        "colab": {}
      },
      "cell_type": "code",
      "source": [
        "indices = np.arange(data.shape[0])\n",
        "np.random.shuffle(indices)\n",
        "data = data[indices]\n",
        "labels = labels[indices]"
      ],
      "execution_count": 0,
      "outputs": []
    },
    {
      "metadata": {
        "id": "bnaknbPf2XWM",
        "colab_type": "code",
        "colab": {}
      },
      "cell_type": "code",
      "source": [
        "training_samples = int(len(indices) * .8)\n",
        "validation_samples = len(indices) - training_samples"
      ],
      "execution_count": 0,
      "outputs": []
    },
    {
      "metadata": {
        "id": "2UdZBGyC2Zam",
        "colab_type": "code",
        "colab": {}
      },
      "cell_type": "code",
      "source": [
        "X_train = data[:training_samples]\n",
        "y_train = labels[:training_samples]\n",
        "X_valid = data[training_samples: training_samples + validation_samples]\n",
        "y_valid = labels[training_samples: training_samples + validation_samples]"
      ],
      "execution_count": 0,
      "outputs": []
    },
    {
      "metadata": {
        "id": "tmktHvOq2a5S",
        "colab_type": "code",
        "outputId": "9d121a26-60a3-4ca2-8a43-7a4d275fd7b2",
        "colab": {
          "base_uri": "https://localhost:8080/",
          "height": 140
        }
      },
      "cell_type": "code",
      "source": [
        "X_train"
      ],
      "execution_count": 49,
      "outputs": [
        {
          "output_type": "execute_result",
          "data": {
            "text/plain": [
              "array([[ 0,  0,  0, ...,  0,  0,  5],\n",
              "       [ 0,  0,  0, ...,  5,  5,  3],\n",
              "       [ 0,  0,  0, ...,  3,  3,  3],\n",
              "       ...,\n",
              "       [ 0,  0,  0, ...,  0,  0,  4],\n",
              "       [ 0,  0,  0, ...,  5, 13, 22],\n",
              "       [ 0,  0,  0, ...,  0,  0,  5]], dtype=int32)"
            ]
          },
          "metadata": {
            "tags": []
          },
          "execution_count": 49
        }
      ]
    },
    {
      "metadata": {
        "id": "DLP29kV62civ",
        "colab_type": "code",
        "colab": {}
      },
      "cell_type": "code",
      "source": [
        "num_events = len(event_list) + 1"
      ],
      "execution_count": 0,
      "outputs": []
    },
    {
      "metadata": {
        "id": "KBFmhaiw2fkd",
        "colab_type": "code",
        "colab": {}
      },
      "cell_type": "code",
      "source": [
        "embedding_dim = 20"
      ],
      "execution_count": 0,
      "outputs": []
    },
    {
      "metadata": {
        "id": "4DYBZAM82ipv",
        "colab_type": "code",
        "colab": {}
      },
      "cell_type": "code",
      "source": [
        "embedding_matrix = np.random.rand(num_events, embedding_dim)"
      ],
      "execution_count": 0,
      "outputs": []
    },
    {
      "metadata": {
        "id": "RsbgPOciA_vj",
        "colab_type": "code",
        "outputId": "34ba6c0a-a67a-4bd7-a3f2-25628d25af5f",
        "colab": {
          "base_uri": "https://localhost:8080/",
          "height": 35
        }
      },
      "cell_type": "code",
      "source": [
        "embedding_matrix.shape"
      ],
      "execution_count": 53,
      "outputs": [
        {
          "output_type": "execute_result",
          "data": {
            "text/plain": [
              "(33, 20)"
            ]
          },
          "metadata": {
            "tags": []
          },
          "execution_count": 53
        }
      ]
    },
    {
      "metadata": {
        "id": "Pq5u2i_ABHBU",
        "colab_type": "code",
        "outputId": "c3a737f4-b40f-45ac-9ea5-8996f11824fc",
        "colab": {
          "base_uri": "https://localhost:8080/",
          "height": 357
        }
      },
      "cell_type": "code",
      "source": [
        "import matplotlib.pyplot as plt\n",
        "plt.hist(embedding_matrix[0])"
      ],
      "execution_count": 55,
      "outputs": [
        {
          "output_type": "execute_result",
          "data": {
            "text/plain": [
              "(array([5., 1., 1., 2., 2., 2., 1., 4., 0., 2.]),\n",
              " array([0.01982045, 0.09876987, 0.1777193 , 0.25666873, 0.33561816,\n",
              "        0.41456758, 0.49351701, 0.57246644, 0.65141587, 0.73036529,\n",
              "        0.80931472]),\n",
              " <a list of 10 Patch objects>)"
            ]
          },
          "metadata": {
            "tags": []
          },
          "execution_count": 55
        },
        {
          "output_type": "display_data",
          "data": {
            "image/png": "[encoded data removed]",
            "text/plain": [
              "<Figure size 432x288 with 1 Axes>"
            ]
          },
          "metadata": {
            "tags": []
          }
        }
      ]
    },
    {
      "metadata": {
        "id": "E1nXwyowBPfi",
        "colab_type": "code",
        "colab": {}
      },
      "cell_type": "code",
      "source": [
        "embedding_matrix=(embedding_matrix-0.5)*4"
      ],
      "execution_count": 0,
      "outputs": []
    },
    {
      "metadata": {
        "id": "symmiZteBS64",
        "colab_type": "code",
        "outputId": "22ea84a7-d73d-4a81-da44-4a49752a7ae5",
        "colab": {
          "base_uri": "https://localhost:8080/",
          "height": 357
        }
      },
      "cell_type": "code",
      "source": [
        "plt.hist(embedding_matrix[0])"
      ],
      "execution_count": 57,
      "outputs": [
        {
          "output_type": "execute_result",
          "data": {
            "text/plain": [
              "(array([5., 1., 1., 2., 2., 2., 1., 4., 0., 2.]),\n",
              " array([-1.92071822, -1.60492051, -1.2891228 , -0.97332508, -0.65752737,\n",
              "        -0.34172966, -0.02593195,  0.28986576,  0.60566347,  0.92146118,\n",
              "         1.23725889]),\n",
              " <a list of 10 Patch objects>)"
            ]
          },
          "metadata": {
            "tags": []
          },
          "execution_count": 57
        },
        {
          "output_type": "display_data",
          "data": {
            "image/png": "[encoded data removed]",
            "text/plain": [
              "<Figure size 432x288 with 1 Axes>"
            ]
          },
          "metadata": {
            "tags": []
          }
        }
      ]
    },
    {
      "metadata": {
        "id": "j7nBJ_yYNSLC",
        "colab_type": "text"
      },
      "cell_type": "markdown",
      "source": [
        "### With no Embedding Training"
      ]
    },
    {
      "metadata": {
        "id": "Kd-sfgzcBS27",
        "colab_type": "code",
        "colab": {}
      },
      "cell_type": "code",
      "source": [
        "from keras.models import Sequential\n",
        "from keras.layers import Embedding, Flatten, Dense, LSTM\n",
        "\n",
        "units = 32"
      ],
      "execution_count": 0,
      "outputs": []
    },
    {
      "metadata": {
        "id": "Oj76gaKRCSXV",
        "colab_type": "code",
        "colab": {
          "base_uri": "https://localhost:8080/",
          "height": 90
        },
        "outputId": "6080ba22-b42c-4527-ca29-78dd851c349a"
      },
      "cell_type": "code",
      "source": [
        "model = Sequential()\n",
        "model.add(Embedding(num_events, embedding_dim))\n",
        "model.add(LSTM(units))\n",
        "model.add(Dense(1, activation='sigmoid'))"
      ],
      "execution_count": 59,
      "outputs": [
        {
          "output_type": "stream",
          "text": [
            "WARNING:tensorflow:From /usr/local/lib/python3.6/dist-packages/tensorflow/python/framework/op_def_library.py:263: colocate_with (from tensorflow.python.framework.ops) is deprecated and will be removed in a future version.\n",
            "Instructions for updating:\n",
            "Colocations handled automatically by placer.\n"
          ],
          "name": "stdout"
        }
      ]
    },
    {
      "metadata": {
        "id": "oVpA0ux-CSSS",
        "colab_type": "code",
        "outputId": "6815a12e-4087-49ab-df2a-80fbf5036441",
        "colab": {
          "base_uri": "https://localhost:8080/",
          "height": 246
        }
      },
      "cell_type": "code",
      "source": [
        "model.summary()"
      ],
      "execution_count": 60,
      "outputs": [
        {
          "output_type": "stream",
          "text": [
            "_________________________________________________________________\n",
            "Layer (type)                 Output Shape              Param #   \n",
            "=================================================================\n",
            "embedding_1 (Embedding)      (None, None, 20)          660       \n",
            "_________________________________________________________________\n",
            "lstm_1 (LSTM)                (None, 32)                6784      \n",
            "_________________________________________________________________\n",
            "dense_1 (Dense)              (None, 1)                 33        \n",
            "=================================================================\n",
            "Total params: 7,477\n",
            "Trainable params: 7,477\n",
            "Non-trainable params: 0\n",
            "_________________________________________________________________\n"
          ],
          "name": "stdout"
        }
      ]
    },
    {
      "metadata": {
        "id": "u_2BWo_NCSN0",
        "colab_type": "code",
        "colab": {}
      },
      "cell_type": "code",
      "source": [
        "model.layers[0].set_weights([embedding_matrix])\n",
        "model.layers[0].trainable = True"
      ],
      "execution_count": 0,
      "outputs": []
    },
    {
      "metadata": {
        "id": "au0UfMOxCSI7",
        "colab_type": "code",
        "colab": {}
      },
      "cell_type": "code",
      "source": [
        "model.layers[0].trainable=True"
      ],
      "execution_count": 0,
      "outputs": []
    },
    {
      "metadata": {
        "id": "Fam3cHfwC2BV",
        "colab_type": "code",
        "colab": {
          "base_uri": "https://localhost:8080/",
          "height": 1795
        },
        "outputId": "2e6541ab-d0cf-43f7-c8dc-c885ac848935"
      },
      "cell_type": "code",
      "source": [
        "model.compile(optimizer='rmsprop',\n",
        "              loss='binary_crossentropy',\n",
        "              metrics=['acc'])\n",
        "history = model.fit(X_train, y_train,\n",
        "                    epochs=50,\n",
        "                    batch_size=32,\n",
        "                    validation_data=(X_valid, y_valid))\n",
        "model.save(\"non_embedding.h5\")"
      ],
      "execution_count": 64,
      "outputs": [
        {
          "output_type": "stream",
          "text": [
            "Train on 52684 samples, validate on 13172 samples\n",
            "Epoch 1/50\n",
            "52684/52684 [==============================] - 105s 2ms/step - loss: 0.5837 - acc: 0.6838 - val_loss: 0.5870 - val_acc: 0.6835\n",
            "Epoch 2/50\n",
            "52684/52684 [==============================] - 105s 2ms/step - loss: 0.5783 - acc: 0.6873 - val_loss: 0.5872 - val_acc: 0.6790\n",
            "Epoch 3/50\n",
            "52684/52684 [==============================] - 103s 2ms/step - loss: 0.5764 - acc: 0.6908 - val_loss: 0.5844 - val_acc: 0.6866\n",
            "Epoch 4/50\n",
            "52684/52684 [==============================] - 104s 2ms/step - loss: 0.5745 - acc: 0.6929 - val_loss: 0.5867 - val_acc: 0.6900\n",
            "Epoch 5/50\n",
            "52684/52684 [==============================] - 103s 2ms/step - loss: 0.5739 - acc: 0.6946 - val_loss: 0.5828 - val_acc: 0.6864\n",
            "Epoch 6/50\n",
            "52684/52684 [==============================] - 104s 2ms/step - loss: 0.5728 - acc: 0.6945 - val_loss: 0.5828 - val_acc: 0.6893\n",
            "Epoch 7/50\n",
            "52684/52684 [==============================] - 103s 2ms/step - loss: 0.5716 - acc: 0.6950 - val_loss: 0.5823 - val_acc: 0.6879\n",
            "Epoch 8/50\n",
            "52684/52684 [==============================] - 103s 2ms/step - loss: 0.5703 - acc: 0.6963 - val_loss: 0.5866 - val_acc: 0.6858\n",
            "Epoch 9/50\n",
            "52684/52684 [==============================] - 103s 2ms/step - loss: 0.5690 - acc: 0.6980 - val_loss: 0.5819 - val_acc: 0.6871\n",
            "Epoch 10/50\n",
            "52684/52684 [==============================] - 103s 2ms/step - loss: 0.5678 - acc: 0.6991 - val_loss: 0.5833 - val_acc: 0.6849\n",
            "Epoch 11/50\n",
            "52684/52684 [==============================] - 103s 2ms/step - loss: 0.5664 - acc: 0.6993 - val_loss: 0.5846 - val_acc: 0.6857\n",
            "Epoch 12/50\n",
            "52684/52684 [==============================] - 103s 2ms/step - loss: 0.5653 - acc: 0.7006 - val_loss: 0.5833 - val_acc: 0.6824\n",
            "Epoch 13/50\n",
            "52684/52684 [==============================] - 104s 2ms/step - loss: 0.5638 - acc: 0.7018 - val_loss: 0.5844 - val_acc: 0.6860\n",
            "Epoch 14/50\n",
            "52684/52684 [==============================] - 103s 2ms/step - loss: 0.5625 - acc: 0.7039 - val_loss: 0.5827 - val_acc: 0.6839\n",
            "Epoch 15/50\n",
            "52684/52684 [==============================] - 102s 2ms/step - loss: 0.5613 - acc: 0.7019 - val_loss: 0.5840 - val_acc: 0.6865\n",
            "Epoch 16/50\n",
            "52684/52684 [==============================] - 103s 2ms/step - loss: 0.5605 - acc: 0.7044 - val_loss: 0.5820 - val_acc: 0.6863\n",
            "Epoch 17/50\n",
            "52684/52684 [==============================] - 104s 2ms/step - loss: 0.5592 - acc: 0.7063 - val_loss: 0.5827 - val_acc: 0.6857\n",
            "Epoch 18/50\n",
            "52684/52684 [==============================] - 103s 2ms/step - loss: 0.5579 - acc: 0.7057 - val_loss: 0.5829 - val_acc: 0.6847\n",
            "Epoch 19/50\n",
            "52684/52684 [==============================] - 103s 2ms/step - loss: 0.5567 - acc: 0.7071 - val_loss: 0.5825 - val_acc: 0.6855\n",
            "Epoch 20/50\n",
            "52684/52684 [==============================] - 102s 2ms/step - loss: 0.5557 - acc: 0.7077 - val_loss: 0.5841 - val_acc: 0.6817\n",
            "Epoch 21/50\n",
            "52684/52684 [==============================] - 103s 2ms/step - loss: 0.5546 - acc: 0.7098 - val_loss: 0.5843 - val_acc: 0.6827\n",
            "Epoch 22/50\n",
            "52684/52684 [==============================] - 104s 2ms/step - loss: 0.5531 - acc: 0.7097 - val_loss: 0.5856 - val_acc: 0.6862\n",
            "Epoch 23/50\n",
            "52684/52684 [==============================] - 103s 2ms/step - loss: 0.5517 - acc: 0.7099 - val_loss: 0.5872 - val_acc: 0.6815\n",
            "Epoch 24/50\n",
            "52684/52684 [==============================] - 103s 2ms/step - loss: 0.5507 - acc: 0.7105 - val_loss: 0.5893 - val_acc: 0.6826\n",
            "Epoch 25/50\n",
            "52684/52684 [==============================] - 104s 2ms/step - loss: 0.5492 - acc: 0.7121 - val_loss: 0.5891 - val_acc: 0.6847\n",
            "Epoch 26/50\n",
            "52684/52684 [==============================] - 102s 2ms/step - loss: 0.5483 - acc: 0.7133 - val_loss: 0.5908 - val_acc: 0.6839\n",
            "Epoch 27/50\n",
            "52684/52684 [==============================] - 102s 2ms/step - loss: 0.5469 - acc: 0.7136 - val_loss: 0.5920 - val_acc: 0.6841\n",
            "Epoch 28/50\n",
            "52684/52684 [==============================] - 103s 2ms/step - loss: 0.5458 - acc: 0.7157 - val_loss: 0.5947 - val_acc: 0.6799\n",
            "Epoch 29/50\n",
            "52684/52684 [==============================] - 102s 2ms/step - loss: 0.5447 - acc: 0.7149 - val_loss: 0.5972 - val_acc: 0.6843\n",
            "Epoch 30/50\n",
            "52684/52684 [==============================] - 102s 2ms/step - loss: 0.5430 - acc: 0.7182 - val_loss: 0.5940 - val_acc: 0.6847\n",
            "Epoch 31/50\n",
            "52684/52684 [==============================] - 102s 2ms/step - loss: 0.5414 - acc: 0.7189 - val_loss: 0.5976 - val_acc: 0.6750\n",
            "Epoch 32/50\n",
            "52684/52684 [==============================] - 102s 2ms/step - loss: 0.5404 - acc: 0.7205 - val_loss: 0.5975 - val_acc: 0.6837\n",
            "Epoch 33/50\n",
            "52684/52684 [==============================] - 103s 2ms/step - loss: 0.5390 - acc: 0.7205 - val_loss: 0.5985 - val_acc: 0.6799\n",
            "Epoch 34/50\n",
            "52684/52684 [==============================] - 103s 2ms/step - loss: 0.5376 - acc: 0.7209 - val_loss: 0.6013 - val_acc: 0.6813\n",
            "Epoch 35/50\n",
            "52684/52684 [==============================] - 103s 2ms/step - loss: 0.5364 - acc: 0.7230 - val_loss: 0.6016 - val_acc: 0.6819\n",
            "Epoch 36/50\n",
            "52684/52684 [==============================] - 103s 2ms/step - loss: 0.5357 - acc: 0.7234 - val_loss: 0.6035 - val_acc: 0.6791\n",
            "Epoch 37/50\n",
            "52684/52684 [==============================] - 103s 2ms/step - loss: 0.5347 - acc: 0.7221 - val_loss: 0.6032 - val_acc: 0.6811\n",
            "Epoch 38/50\n",
            "52684/52684 [==============================] - 103s 2ms/step - loss: 0.5338 - acc: 0.7249 - val_loss: 0.6064 - val_acc: 0.6786\n",
            "Epoch 39/50\n",
            "52684/52684 [==============================] - 103s 2ms/step - loss: 0.5325 - acc: 0.7243 - val_loss: 0.6040 - val_acc: 0.6799\n",
            "Epoch 40/50\n",
            "52684/52684 [==============================] - 102s 2ms/step - loss: 0.5312 - acc: 0.7263 - val_loss: 0.6063 - val_acc: 0.6791\n",
            "Epoch 41/50\n",
            "52684/52684 [==============================] - 102s 2ms/step - loss: 0.5310 - acc: 0.7273 - val_loss: 0.6074 - val_acc: 0.6782\n",
            "Epoch 42/50\n",
            "52684/52684 [==============================] - 104s 2ms/step - loss: 0.5290 - acc: 0.7280 - val_loss: 0.6153 - val_acc: 0.6761\n",
            "Epoch 43/50\n",
            "52684/52684 [==============================] - 104s 2ms/step - loss: 0.5288 - acc: 0.7298 - val_loss: 0.6149 - val_acc: 0.6793\n",
            "Epoch 44/50\n",
            "52684/52684 [==============================] - 104s 2ms/step - loss: 0.5271 - acc: 0.7290 - val_loss: 0.6192 - val_acc: 0.6763\n",
            "Epoch 45/50\n",
            "52684/52684 [==============================] - 104s 2ms/step - loss: 0.5269 - acc: 0.7309 - val_loss: 0.6121 - val_acc: 0.6773\n",
            "Epoch 46/50\n",
            "52684/52684 [==============================] - 105s 2ms/step - loss: 0.5253 - acc: 0.7307 - val_loss: 0.6135 - val_acc: 0.6767\n",
            "Epoch 47/50\n",
            "52684/52684 [==============================] - 104s 2ms/step - loss: 0.5243 - acc: 0.7308 - val_loss: 0.6163 - val_acc: 0.6783\n",
            "Epoch 48/50\n",
            "52684/52684 [==============================] - 104s 2ms/step - loss: 0.5235 - acc: 0.7332 - val_loss: 0.6193 - val_acc: 0.6720\n",
            "Epoch 49/50\n",
            "52684/52684 [==============================] - 105s 2ms/step - loss: 0.5234 - acc: 0.7323 - val_loss: 0.6166 - val_acc: 0.6742\n",
            "Epoch 50/50\n",
            "52684/52684 [==============================] - 106s 2ms/step - loss: 0.5212 - acc: 0.7326 - val_loss: 0.6238 - val_acc: 0.6767\n"
          ],
          "name": "stdout"
        }
      ]
    },
    {
      "metadata": {
        "id": "PNhUbisu85k-",
        "colab_type": "code",
        "colab": {}
      },
      "cell_type": "code",
      "source": [
        ""
      ],
      "execution_count": 0,
      "outputs": []
    },
    {
      "metadata": {
        "colab_type": "code",
        "outputId": "9d7438b6-d4db-44fa-a18a-39cb92e21116",
        "id": "dwmTfaJd86hc",
        "colab": {
          "base_uri": "https://localhost:8080/",
          "height": 545
        }
      },
      "cell_type": "code",
      "source": [
        "import matplotlib.pyplot as plt\n",
        "\n",
        "acc = history.history['acc']\n",
        "val_acc = history.history['val_acc']\n",
        "loss = history.history['loss']\n",
        "val_loss = history.history['val_loss']\n",
        "\n",
        "epochs = range(1, len(acc) + 1)\n",
        "\n",
        "plt.plot(epochs, acc, 'bo', label='Training acc')\n",
        "plt.plot(epochs, val_acc, 'b', label='Validation acc')\n",
        "plt.title('Training and validation accuracy')\n",
        "plt.legend()\n",
        "\n",
        "plt.figure()\n",
        "\n",
        "plt.plot(epochs, loss, 'bo', label='Training loss')\n",
        "plt.plot(epochs, val_loss, 'b', label='Validation loss')\n",
        "plt.title('Training and validation loss')\n",
        "plt.legend()\n",
        "\n",
        "plt.show()"
      ],
      "execution_count": 65,
      "outputs": [
        {
          "output_type": "display_data",
          "data": {
            "image/png": "[encoded data removed]",
            "text/plain": [
              "<Figure size 432x288 with 1 Axes>"
            ]
          },
          "metadata": {
            "tags": []
          }
        },
        {
          "output_type": "display_data",
          "data": {
            "image/png": "[encoded data removed]",
            "text/plain": [
              "<Figure size 432x288 with 1 Axes>"
            ]
          },
          "metadata": {
            "tags": []
          }
        }
      ]
    },
    {
      "metadata": {
        "id": "QL3fLQOr9ed2",
        "colab_type": "code",
        "colab": {}
      },
      "cell_type": "code",
      "source": [
        "with dropout"
      ],
      "execution_count": 0,
      "outputs": []
    },
    {
      "metadata": {
        "id": "lqeZQax59r2U",
        "colab_type": "code",
        "colab": {}
      },
      "cell_type": "code",
      "source": [
        ""
      ],
      "execution_count": 0,
      "outputs": []
    },
    {
      "metadata": {
        "id": "6Ih3wT6MNcqj",
        "colab_type": "text"
      },
      "cell_type": "markdown",
      "source": [
        "### With Embedding Training"
      ]
    },
    {
      "metadata": {
        "colab_type": "code",
        "id": "3qTalfvg9sMn",
        "colab": {}
      },
      "cell_type": "code",
      "source": [
        "from keras.models import Sequential\n",
        "from keras.layers import Embedding, Flatten, Dense, LSTM\n",
        "\n",
        "units = 32"
      ],
      "execution_count": 0,
      "outputs": []
    },
    {
      "metadata": {
        "colab_type": "code",
        "outputId": "df80fad1-7b82-43eb-d557-7b11abe65dcf",
        "id": "XqirI2gf9sMr",
        "colab": {
          "base_uri": "https://localhost:8080/",
          "height": 90
        }
      },
      "cell_type": "code",
      "source": [
        "model = Sequential()\n",
        "model.add(Embedding(num_events, embedding_dim))\n",
        "model.add(LSTM(units, dropout=0.2))\n",
        "model.add(Dense(1, activation='sigmoid'))"
      ],
      "execution_count": 67,
      "outputs": [
        {
          "output_type": "stream",
          "text": [
            "WARNING:tensorflow:From /usr/local/lib/python3.6/dist-packages/keras/backend/tensorflow_backend.py:3445: calling dropout (from tensorflow.python.ops.nn_ops) with keep_prob is deprecated and will be removed in a future version.\n",
            "Instructions for updating:\n",
            "Please use `rate` instead of `keep_prob`. Rate should be set to `rate = 1 - keep_prob`.\n"
          ],
          "name": "stdout"
        }
      ]
    },
    {
      "metadata": {
        "colab_type": "code",
        "id": "Ytkj2EWJ9sMy",
        "colab": {}
      },
      "cell_type": "code",
      "source": [
        "model.layers[0].set_weights([embedding_matrix])\n",
        "model.layers[0].trainable = True"
      ],
      "execution_count": 0,
      "outputs": []
    },
    {
      "metadata": {
        "colab_type": "code",
        "outputId": "790c0bed-1c39-4353-e47c-db72f1ffe737",
        "id": "vK5rYyFE9sM4",
        "colab": {
          "base_uri": "https://localhost:8080/",
          "height": 739
        }
      },
      "cell_type": "code",
      "source": [
        "model.compile(optimizer='rmsprop',\n",
        "              loss='binary_crossentropy',\n",
        "              metrics=['acc'])\n",
        "history = model.fit(X_train, y_train,\n",
        "                    epochs=20,\n",
        "                    batch_size=32,\n",
        "                    validation_data=(X_valid, y_valid))\n",
        "model.save(\"non_embedding.h5\")"
      ],
      "execution_count": 70,
      "outputs": [
        {
          "output_type": "stream",
          "text": [
            "Train on 52684 samples, validate on 13172 samples\n",
            "Epoch 1/20\n",
            "52684/52684 [==============================] - 120s 2ms/step - loss: 0.6003 - acc: 0.6717 - val_loss: 0.5922 - val_acc: 0.6787\n",
            "Epoch 2/20\n",
            "52684/52684 [==============================] - 119s 2ms/step - loss: 0.5831 - acc: 0.6840 - val_loss: 0.5893 - val_acc: 0.6843\n",
            "Epoch 3/20\n",
            "52684/52684 [==============================] - 118s 2ms/step - loss: 0.5794 - acc: 0.6892 - val_loss: 0.5855 - val_acc: 0.6803\n",
            "Epoch 4/20\n",
            "52684/52684 [==============================] - 117s 2ms/step - loss: 0.5781 - acc: 0.6891 - val_loss: 0.5832 - val_acc: 0.6877\n",
            "Epoch 5/20\n",
            "52684/52684 [==============================] - 118s 2ms/step - loss: 0.5765 - acc: 0.6914 - val_loss: 0.5834 - val_acc: 0.6904\n",
            "Epoch 6/20\n",
            "52684/52684 [==============================] - 118s 2ms/step - loss: 0.5761 - acc: 0.6915 - val_loss: 0.5820 - val_acc: 0.6899\n",
            "Epoch 7/20\n",
            "52684/52684 [==============================] - 118s 2ms/step - loss: 0.5755 - acc: 0.6913 - val_loss: 0.5828 - val_acc: 0.6899\n",
            "Epoch 8/20\n",
            "52684/52684 [==============================] - 118s 2ms/step - loss: 0.5750 - acc: 0.6923 - val_loss: 0.5826 - val_acc: 0.6897\n",
            "Epoch 9/20\n",
            "52684/52684 [==============================] - 118s 2ms/step - loss: 0.5747 - acc: 0.6934 - val_loss: 0.5838 - val_acc: 0.6898\n",
            "Epoch 10/20\n",
            "52684/52684 [==============================] - 118s 2ms/step - loss: 0.5741 - acc: 0.6941 - val_loss: 0.5839 - val_acc: 0.6843\n",
            "Epoch 11/20\n",
            "52684/52684 [==============================] - 118s 2ms/step - loss: 0.5736 - acc: 0.6946 - val_loss: 0.5830 - val_acc: 0.6902\n",
            "Epoch 12/20\n",
            "52684/52684 [==============================] - 118s 2ms/step - loss: 0.5733 - acc: 0.6948 - val_loss: 0.5828 - val_acc: 0.6893\n",
            "Epoch 13/20\n",
            "52684/52684 [==============================] - 119s 2ms/step - loss: 0.5728 - acc: 0.6944 - val_loss: 0.5825 - val_acc: 0.6896\n",
            "Epoch 14/20\n",
            "52684/52684 [==============================] - 118s 2ms/step - loss: 0.5731 - acc: 0.6951 - val_loss: 0.5822 - val_acc: 0.6903\n",
            "Epoch 15/20\n",
            "52684/52684 [==============================] - 119s 2ms/step - loss: 0.5720 - acc: 0.6960 - val_loss: 0.5824 - val_acc: 0.6895\n",
            "Epoch 16/20\n",
            "52684/52684 [==============================] - 118s 2ms/step - loss: 0.5715 - acc: 0.6973 - val_loss: 0.5821 - val_acc: 0.6892\n",
            "Epoch 17/20\n",
            "52684/52684 [==============================] - 118s 2ms/step - loss: 0.5716 - acc: 0.6959 - val_loss: 0.5830 - val_acc: 0.6908\n",
            "Epoch 18/20\n",
            "52684/52684 [==============================] - 116s 2ms/step - loss: 0.5706 - acc: 0.6958 - val_loss: 0.5830 - val_acc: 0.6874\n",
            "Epoch 19/20\n",
            "52684/52684 [==============================] - 116s 2ms/step - loss: 0.5704 - acc: 0.6972 - val_loss: 0.5826 - val_acc: 0.6898\n",
            "Epoch 20/20\n",
            "52684/52684 [==============================] - 116s 2ms/step - loss: 0.5708 - acc: 0.6957 - val_loss: 0.5829 - val_acc: 0.6846\n"
          ],
          "name": "stdout"
        }
      ]
    },
    {
      "metadata": {
        "id": "02neiGc4HIU1",
        "colab_type": "code",
        "colab": {
          "base_uri": "https://localhost:8080/",
          "height": 545
        },
        "outputId": "97c05d70-0c95-4fac-8519-799bc31f8c48"
      },
      "cell_type": "code",
      "source": [
        "import matplotlib.pyplot as plt\n",
        "\n",
        "acc = history.history['acc']\n",
        "val_acc = history.history['val_acc']\n",
        "loss = history.history['loss']\n",
        "val_loss = history.history['val_loss']\n",
        "\n",
        "epochs = range(1, len(acc) + 1)\n",
        "\n",
        "plt.plot(epochs, acc, 'bo', label='Training acc')\n",
        "plt.plot(epochs, val_acc, 'b', label='Validation acc')\n",
        "plt.title('Training and validation accuracy')\n",
        "plt.legend()\n",
        "\n",
        "plt.figure()\n",
        "\n",
        "plt.plot(epochs, loss, 'bo', label='Training loss')\n",
        "plt.plot(epochs, val_loss, 'b', label='Validation loss')\n",
        "plt.title('Training and validation loss')\n",
        "plt.legend()\n",
        "\n",
        "plt.show()"
      ],
      "execution_count": 71,
      "outputs": [
        {
          "output_type": "display_data",
          "data": {
            "image/png": "[encoded data removed]",
            "text/plain": [
              "<Figure size 432x288 with 1 Axes>"
            ]
          },
          "metadata": {
            "tags": []
          }
        },
        {
          "output_type": "display_data",
          "data": {
            "image/png": "[encoded data removed]",
            "text/plain": [
              "<Figure size 432x288 with 1 Axes>"
            ]
          },
          "metadata": {
            "tags": []
          }
        }
      ]
    }
  ]
}